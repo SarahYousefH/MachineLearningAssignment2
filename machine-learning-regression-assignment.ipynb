{
 "cells": [
  {
   "cell_type": "markdown",
   "id": "5a8d34a6",
   "metadata": {
    "papermill": {
     "duration": 0.012408,
     "end_time": "2024-11-27T00:45:10.294713",
     "exception": false,
     "start_time": "2024-11-27T00:45:10.282305",
     "status": "completed"
    },
    "tags": []
   },
   "source": [
    "# 1. Project Overview"
   ]
  },
  {
   "cell_type": "markdown",
   "id": "65c0cc5b",
   "metadata": {
    "papermill": {
     "duration": 0.01257,
     "end_time": "2024-11-27T00:45:10.319148",
     "exception": false,
     "start_time": "2024-11-27T00:45:10.306578",
     "status": "completed"
    },
    "tags": []
   },
   "source": [
    "hiiiii"
   ]
  },
  {
   "cell_type": "markdown",
   "id": "b70a6dab",
   "metadata": {
    "papermill": {
     "duration": 0.011788,
     "end_time": "2024-11-27T00:45:10.342168",
     "exception": false,
     "start_time": "2024-11-27T00:45:10.330380",
     "status": "completed"
    },
    "tags": []
   },
   "source": [
    "## Main Objective "
   ]
  },
  {
   "cell_type": "markdown",
   "id": "6ac29aa3",
   "metadata": {
    "papermill": {
     "duration": 0.011185,
     "end_time": "2024-11-27T00:45:10.365765",
     "exception": false,
     "start_time": "2024-11-27T00:45:10.354580",
     "status": "completed"
    },
    "tags": []
   },
   "source": [
    "The objective of this project is to:\n",
    "\n",
    "\n",
    "\n",
    "* Build a series of regression models using the provided dataset\n",
    "\n",
    "* Evaluate and compare different models performance\n",
    "\n",
    "* Apply various techniques to improve model accuracy and prevent overfitting.\n",
    "\n",
    "\n",
    "\n",
    "\n",
    "\n",
    "The focus will be on both **linear** and **nonlinear** regression models. \n",
    "\n",
    "In addition this project will also use **feature selection methods** and **regularization techniques**, followed by **hyperparameter tuning**, to select the optimal model.\n"
   ]
  },
  {
   "cell_type": "markdown",
   "id": "aba7a70b",
   "metadata": {
    "papermill": {
     "duration": 0.010724,
     "end_time": "2024-11-27T00:45:10.387655",
     "exception": false,
     "start_time": "2024-11-27T00:45:10.376931",
     "status": "completed"
    },
    "tags": []
   },
   "source": [
    "## Data Set Description"
   ]
  },
  {
   "cell_type": "markdown",
   "id": "87121cc2",
   "metadata": {
    "papermill": {
     "duration": 0.011561,
     "end_time": "2024-11-27T00:45:10.410270",
     "exception": false,
     "start_time": "2024-11-27T00:45:10.398709",
     "status": "completed"
    },
    "tags": []
   },
   "source": [
    "This dataset includes around 6,750 rows and 9 columns. It’s well-suited for Exploratory Data\r\n",
    "Analysis (EDA) and machine learning tasks, particularly for predictive modeling using\r\n",
    "algorithms like Linear Regression. \n",
    "\n",
    "\n",
    "\n",
    "The main objective of this dataset is to **predict car prices**, making it ideal for developing regression models to understand the relationship between various features and **the target variable (car price)**.\n",
    "\n",
    "\n"
   ]
  },
  {
   "cell_type": "markdown",
   "id": "8ed0a29a",
   "metadata": {
    "papermill": {
     "duration": 0.01208,
     "end_time": "2024-11-27T00:45:10.434431",
     "exception": false,
     "start_time": "2024-11-27T00:45:10.422351",
     "status": "completed"
    },
    "tags": []
   },
   "source": [
    "The table below describes the dataset columns:\n",
    "\n",
    "\n",
    "\n",
    "| **Column**         | **Description**                              | **Measurement Level** |\n",
    "\n",
    "|---------------------|----------------------------------------------|-----------------------|\n",
    "\n",
    "| Car Name           | The name of the car                          | Nominal               |\n",
    "\n",
    "| Price              | The price of the car                         | Numeric               |\n",
    "\n",
    "| Engine Capacity    | The car engine capacity                      | Numeric               |\n",
    "\n",
    "| Cylinder           | The car cylinder power                       | Numeric               |\n",
    "\n",
    "| Horse Power        | The car horse power                          | Numeric               |\n",
    "\n",
    "| Top Speed          | The car top speed                            | Numeric               |\n",
    "\n",
    "| Seats              | Number of seats in the car                   | Numeric               |\n",
    "\n",
    "| Brand              | The car brand                                | Nominal               |\n",
    "\n",
    "| Country            | The country where the site sells this car    | Nominal               |\n"
   ]
  },
  {
   "cell_type": "markdown",
   "id": "97a9fe1c",
   "metadata": {
    "papermill": {
     "duration": 0.010909,
     "end_time": "2024-11-27T00:45:10.456566",
     "exception": false,
     "start_time": "2024-11-27T00:45:10.445657",
     "status": "completed"
    },
    "tags": []
   },
   "source": [
    "# 2. Data Preprocessing "
   ]
  },
  {
   "cell_type": "markdown",
   "id": "71a8728f",
   "metadata": {
    "papermill": {
     "duration": 0.010874,
     "end_time": "2024-11-27T00:45:10.478822",
     "exception": false,
     "start_time": "2024-11-27T00:45:10.467948",
     "status": "completed"
    },
    "tags": []
   },
   "source": [
    "## First: Import Dataset"
   ]
  },
  {
   "cell_type": "markdown",
   "id": "14fc41bc",
   "metadata": {
    "papermill": {
     "duration": 0.011159,
     "end_time": "2024-11-27T00:45:10.501368",
     "exception": false,
     "start_time": "2024-11-27T00:45:10.490209",
     "status": "completed"
    },
    "tags": []
   },
   "source": [
    "The code below is responsible for importing data and also displaying quick describtion:"
   ]
  },
  {
   "cell_type": "code",
   "execution_count": 1,
   "id": "bdf70134",
   "metadata": {
    "_cell_guid": "b1076dfc-b9ad-4769-8c92-a6c4dae69d19",
    "_uuid": "8f2839f25d086af736a60e9eeb907d3b93b6e0e5",
    "execution": {
     "iopub.execute_input": "2024-11-27T00:45:10.526045Z",
     "iopub.status.busy": "2024-11-27T00:45:10.525518Z",
     "iopub.status.idle": "2024-11-27T00:45:13.305247Z",
     "shell.execute_reply": "2024-11-27T00:45:13.303959Z"
    },
    "papermill": {
     "duration": 2.794689,
     "end_time": "2024-11-27T00:45:13.307577",
     "exception": false,
     "start_time": "2024-11-27T00:45:10.512888",
     "status": "completed"
    },
    "tags": []
   },
   "outputs": [
    {
     "name": "stdout",
     "output_type": "stream",
     "text": [
      "/kaggle/input/cars-dataset/cars.csv\n",
      "successfully imported the dataset\n"
     ]
    }
   ],
   "source": [
    "import os\n",
    "\n",
    "import numpy as np\n",
    "\n",
    "import pandas as pd\n",
    "\n",
    "import matplotlib.pyplot as plt\n",
    "\n",
    "import seaborn as sns\n",
    "\n",
    "\n",
    "\n",
    "for dirname, _, filenames in os.walk('/kaggle/input'):\n",
    "\n",
    "    for filename in filenames:\n",
    "\n",
    "        print(os.path.join(dirname, filename))\n",
    "\n",
    "        \n",
    "\n",
    "df=pd.read_csv('/kaggle/input/cars-dataset/cars.csv')\n",
    "\n",
    "print ('successfully imported the dataset')"
   ]
  },
  {
   "cell_type": "code",
   "execution_count": 2,
   "id": "0d497477",
   "metadata": {
    "execution": {
     "iopub.execute_input": "2024-11-27T00:45:13.332158Z",
     "iopub.status.busy": "2024-11-27T00:45:13.331736Z",
     "iopub.status.idle": "2024-11-27T00:45:13.377817Z",
     "shell.execute_reply": "2024-11-27T00:45:13.376538Z"
    },
    "papermill": {
     "duration": 0.060995,
     "end_time": "2024-11-27T00:45:13.380150",
     "exception": false,
     "start_time": "2024-11-27T00:45:13.319155",
     "status": "completed"
    },
    "tags": []
   },
   "outputs": [
    {
     "data": {
      "text/html": [
       "<div>\n",
       "<style scoped>\n",
       "    .dataframe tbody tr th:only-of-type {\n",
       "        vertical-align: middle;\n",
       "    }\n",
       "\n",
       "    .dataframe tbody tr th {\n",
       "        vertical-align: top;\n",
       "    }\n",
       "\n",
       "    .dataframe thead th {\n",
       "        text-align: right;\n",
       "    }\n",
       "</style>\n",
       "<table border=\"1\" class=\"dataframe\">\n",
       "  <thead>\n",
       "    <tr style=\"text-align: right;\">\n",
       "      <th></th>\n",
       "      <th>car name</th>\n",
       "      <th>price</th>\n",
       "      <th>engine_capacity</th>\n",
       "      <th>cylinder</th>\n",
       "      <th>horse_power</th>\n",
       "      <th>top_speed</th>\n",
       "      <th>seats</th>\n",
       "      <th>brand</th>\n",
       "      <th>country</th>\n",
       "    </tr>\n",
       "  </thead>\n",
       "  <tbody>\n",
       "    <tr>\n",
       "      <th>count</th>\n",
       "      <td>6308</td>\n",
       "      <td>6308</td>\n",
       "      <td>6308</td>\n",
       "      <td>5684</td>\n",
       "      <td>6308</td>\n",
       "      <td>6308</td>\n",
       "      <td>6308</td>\n",
       "      <td>6308</td>\n",
       "      <td>6308</td>\n",
       "    </tr>\n",
       "    <tr>\n",
       "      <th>unique</th>\n",
       "      <td>2546</td>\n",
       "      <td>3395</td>\n",
       "      <td>129</td>\n",
       "      <td>10</td>\n",
       "      <td>330</td>\n",
       "      <td>169</td>\n",
       "      <td>82</td>\n",
       "      <td>82</td>\n",
       "      <td>7</td>\n",
       "    </tr>\n",
       "    <tr>\n",
       "      <th>top</th>\n",
       "      <td>Mercedes-Benz C-Class 2022 C 300</td>\n",
       "      <td>TBD</td>\n",
       "      <td>2.0</td>\n",
       "      <td>4</td>\n",
       "      <td>150</td>\n",
       "      <td>250</td>\n",
       "      <td>5 Seater</td>\n",
       "      <td>mercedes-benz</td>\n",
       "      <td>uae</td>\n",
       "    </tr>\n",
       "    <tr>\n",
       "      <th>freq</th>\n",
       "      <td>10</td>\n",
       "      <td>437</td>\n",
       "      <td>1241</td>\n",
       "      <td>2856</td>\n",
       "      <td>162</td>\n",
       "      <td>1100</td>\n",
       "      <td>3471</td>\n",
       "      <td>560</td>\n",
       "      <td>1248</td>\n",
       "    </tr>\n",
       "  </tbody>\n",
       "</table>\n",
       "</div>"
      ],
      "text/plain": [
       "                                car name price engine_capacity cylinder  \\\n",
       "count                               6308  6308            6308     5684   \n",
       "unique                              2546  3395             129       10   \n",
       "top     Mercedes-Benz C-Class 2022 C 300   TBD             2.0        4   \n",
       "freq                                  10   437            1241     2856   \n",
       "\n",
       "       horse_power top_speed     seats          brand country  \n",
       "count         6308      6308      6308           6308    6308  \n",
       "unique         330       169        82             82       7  \n",
       "top            150       250  5 Seater  mercedes-benz     uae  \n",
       "freq           162      1100      3471            560    1248  "
      ]
     },
     "execution_count": 2,
     "metadata": {},
     "output_type": "execute_result"
    }
   ],
   "source": [
    "df.describe()"
   ]
  },
  {
   "cell_type": "markdown",
   "id": "3d4cb907",
   "metadata": {
    "papermill": {
     "duration": 0.011591,
     "end_time": "2024-11-27T00:45:13.403436",
     "exception": false,
     "start_time": "2024-11-27T00:45:13.391845",
     "status": "completed"
    },
    "tags": []
   },
   "source": [
    "In order to understand the data further below we count the number of unique values in each column and their frequency:"
   ]
  },
  {
   "cell_type": "code",
   "execution_count": 3,
   "id": "e6743336",
   "metadata": {
    "execution": {
     "iopub.execute_input": "2024-11-27T00:45:13.428228Z",
     "iopub.status.busy": "2024-11-27T00:45:13.427824Z",
     "iopub.status.idle": "2024-11-27T00:45:13.449599Z",
     "shell.execute_reply": "2024-11-27T00:45:13.448487Z"
    },
    "papermill": {
     "duration": 0.037146,
     "end_time": "2024-11-27T00:45:13.452161",
     "exception": false,
     "start_time": "2024-11-27T00:45:13.415015",
     "status": "completed"
    },
    "tags": []
   },
   "outputs": [
    {
     "name": "stdout",
     "output_type": "stream",
     "text": [
      "Name: car name dtype: object\n",
      "\n",
      "car name\n",
      "Mercedes-Benz C-Class 2022 C 300                          10\n",
      "Fiat 500e 2021 La Prima                                    7\n",
      "Porsche 911 2021 Carrera S Cabriolet                       7\n",
      "Porsche 911 2021 Carrera 4S                                7\n",
      "Kia Rio Sedan 2021 1.6L MPI                                7\n",
      "                                                          ..\n",
      "Jaguar F-Type Convertible 2021 2.0T R-Dynamic (300 PS)     1\n",
      "Hyundai Kona 2021 1.6L T-GDI GLS Premium (AWD)             1\n",
      "Chevrolet Trax 2021 1.8L Premier AWD                       1\n",
      "Jaguar XF 2021 3.0 V6 SC R Sport                           1\n",
      "Lamborghini Aventador Ultimae 2022 LP 780-4                1\n",
      "Name: count, Length: 2546, dtype: int64\n",
      "\n",
      "----------------------------------------------------------------------------------------------------\n",
      "\n",
      "\n",
      "Name: price dtype: object\n",
      "\n",
      "price\n",
      "TBD               437\n",
      "Following         238\n",
      "DISCONTINUED      140\n",
      "Follow             27\n",
      "Grigio Maratea     23\n",
      "                 ... \n",
      "BHD 23,900          1\n",
      "BHD 24,300          1\n",
      "BHD 24,100          1\n",
      "BHD 24,700          1\n",
      "AED 1,650,000       1\n",
      "Name: count, Length: 3395, dtype: int64\n",
      "\n",
      "----------------------------------------------------------------------------------------------------\n",
      "\n",
      "\n",
      "Name: engine_capacity dtype: object\n",
      "\n",
      "engine_capacity\n",
      "2.0     1241\n",
      "3.0      703\n",
      "3.5      359\n",
      "1.5      347\n",
      "4.0      340\n",
      "        ... \n",
      "3342       1\n",
      "2476       1\n",
      "4400       1\n",
      "3470       1\n",
      "1595       1\n",
      "Name: count, Length: 129, dtype: int64\n",
      "\n",
      "----------------------------------------------------------------------------------------------------\n",
      "\n",
      "\n",
      "Name: cylinder dtype: object\n",
      "\n",
      "cylinder\n",
      "4                2856\n",
      "6                1480\n",
      "8                 924\n",
      "3                 139\n",
      "12                136\n",
      "N/A, Electric     107\n",
      "10                 21\n",
      "5                  17\n",
      "Drive Type          3\n",
      "16                  1\n",
      "Name: count, dtype: int64\n",
      "\n",
      "----------------------------------------------------------------------------------------------------\n",
      "\n",
      "\n",
      "Name: horse_power dtype: object\n",
      "\n",
      "horse_power\n",
      "150    162\n",
      "355    116\n",
      "400    111\n",
      "184    109\n",
      "300    103\n",
      "      ... \n",
      "87       1\n",
      "126      1\n",
      "394      1\n",
      "236      1\n",
      "720      1\n",
      "Name: count, Length: 330, dtype: int64\n",
      "\n",
      "----------------------------------------------------------------------------------------------------\n",
      "\n",
      "\n",
      "Name: top_speed dtype: object\n",
      "\n",
      "top_speed\n",
      "250    1100\n",
      "180     410\n",
      "200     392\n",
      "170     332\n",
      "190     294\n",
      "       ... \n",
      "600       1\n",
      "130       1\n",
      "966       1\n",
      "262       1\n",
      "324       1\n",
      "Name: count, Length: 169, dtype: int64\n",
      "\n",
      "----------------------------------------------------------------------------------------------------\n",
      "\n",
      "\n",
      "Name: seats dtype: object\n",
      "\n",
      "seats\n",
      "5 Seater    3471\n",
      "4 Seater     847\n",
      "7 Seater     532\n",
      "2 Seater     428\n",
      "8 Seater     211\n",
      "            ... \n",
      "24.1           1\n",
      "12.3           1\n",
      "230            1\n",
      "220            1\n",
      "2.8            1\n",
      "Name: count, Length: 82, dtype: int64\n",
      "\n",
      "----------------------------------------------------------------------------------------------------\n",
      "\n",
      "\n",
      "Name: brand dtype: object\n",
      "\n",
      "brand\n",
      "mercedes-benz    560\n",
      "audi             398\n",
      "bmw              394\n",
      "toyota           378\n",
      "ford             323\n",
      "                ... \n",
      "tata               2\n",
      "soueast            2\n",
      "byd                2\n",
      "dfm                1\n",
      "bugatti            1\n",
      "Name: count, Length: 82, dtype: int64\n",
      "\n",
      "----------------------------------------------------------------------------------------------------\n",
      "\n",
      "\n",
      "Name: country dtype: object\n",
      "\n",
      "country\n",
      "uae        1248\n",
      "ksa         996\n",
      "kuwait      932\n",
      "qatar       925\n",
      "oman        910\n",
      "bahrain     906\n",
      "egypt       391\n",
      "Name: count, dtype: int64\n",
      "\n",
      "----------------------------------------------------------------------------------------------------\n",
      "\n",
      "\n"
     ]
    }
   ],
   "source": [
    "for col in df.columns:  # Iterate over column names in the DataFrame\n",
    "\n",
    "    # Print the name of the column and its type\n",
    "\n",
    "    print(f'Name: {col} dtype: {df[col].dtype}\\n')\n",
    "\n",
    "    # Print each unique value with its frequency\n",
    "\n",
    "    print(f'{df[col].value_counts()}\\n')\n",
    "\n",
    "    # Print a separator\n",
    "\n",
    "    print(('-' * 100) + '\\n\\n')"
   ]
  },
  {
   "cell_type": "markdown",
   "id": "fd757e04",
   "metadata": {
    "papermill": {
     "duration": 0.011676,
     "end_time": "2024-11-27T00:45:13.475658",
     "exception": false,
     "start_time": "2024-11-27T00:45:13.463982",
     "status": "completed"
    },
    "tags": []
   },
   "source": [
    "#### What can we notice from each column?\n",
    "\n",
    "1. The column car name serves as an identifier and not missing for any of the cars and so no more processing needed.\n",
    "\n",
    "2. The price is listed in different currency. Further, some are (TBD, Following, Discountinued), these entries need to be removed for Linear regression because missing target values make it impossible to calculate the error or fit the model properly.\n",
    "\n",
    "3. The engine capacity is not standard some are denoted in liters as (1.4, 2.6) and others are in cubic centimeters like (1,400) and these need to be standraized\n",
    "\n",
    "4. The cyclinder column has N/A values for electric cars, because the do not have cyclinders and this needs to be handled. Also some are as (Single or Double) that needs to be handled.\n",
    "\n",
    "5. the top speed column has some incorrect entries(like 4 Seaters ) and this is incorrect and need to be handled. Further some values are (automatic or N A) and these needs to be addressed.\n",
    "\n",
    "6. The seats column has some incorrrect entries , either floats or too large entries like 150.\n",
    "\n",
    "7. The brand and country is correctly entered for all.\n"
   ]
  },
  {
   "cell_type": "markdown",
   "id": "9a3460b2",
   "metadata": {
    "papermill": {
     "duration": 0.011364,
     "end_time": "2024-11-27T00:45:13.498746",
     "exception": false,
     "start_time": "2024-11-27T00:45:13.487382",
     "status": "completed"
    },
    "tags": []
   },
   "source": [
    "## Second: Data Cleaning\n",
    "\n",
    "\n",
    "\n",
    "In this part we want to perform the following:\n",
    "\n",
    "\n",
    "\n",
    "\n",
    "\n",
    "* Handle missing values\n",
    "\n",
    "* Handle incorrect entries or values\n",
    "\n",
    "* Encoding categorical features (if applicaple)\n",
    "\n",
    "* Normalize or standardize numerical features (if necessary)\n",
    "\n",
    "* Split the dataset into: 60% for training, 20% for validation, and 20% for testing\n"
   ]
  },
  {
   "cell_type": "markdown",
   "id": "44fe894b",
   "metadata": {
    "papermill": {
     "duration": 0.012021,
     "end_time": "2024-11-27T00:45:13.523515",
     "exception": false,
     "start_time": "2024-11-27T00:45:13.511494",
     "status": "completed"
    },
    "tags": []
   },
   "source": [
    "### Handle missing values\n",
    "\n",
    "\n",
    "\n",
    "We want to start by removing any missing values from the data set:"
   ]
  },
  {
   "cell_type": "code",
   "execution_count": 4,
   "id": "60b1854f",
   "metadata": {
    "execution": {
     "iopub.execute_input": "2024-11-27T00:45:13.550717Z",
     "iopub.status.busy": "2024-11-27T00:45:13.550324Z",
     "iopub.status.idle": "2024-11-27T00:45:13.577056Z",
     "shell.execute_reply": "2024-11-27T00:45:13.575786Z"
    },
    "papermill": {
     "duration": 0.043735,
     "end_time": "2024-11-27T00:45:13.579497",
     "exception": false,
     "start_time": "2024-11-27T00:45:13.535762",
     "status": "completed"
    },
    "tags": []
   },
   "outputs": [
    {
     "name": "stdout",
     "output_type": "stream",
     "text": [
      "Rows before removal: 6308\n",
      "Rows after removal: 5493\n"
     ]
    }
   ],
   "source": [
    "def remove_missing_price(df):\n",
    "\n",
    "    \"\"\"\n",
    "\n",
    "    Removes rows where the 'price' column is missing (NaN or contains specific keywords).\n",
    "\n",
    "    Displays the number of rows before and after removal.\n",
    "\n",
    "    \"\"\"\n",
    "\n",
    "    print(f'Rows before removal: {len(df)}')\n",
    "\n",
    "\n",
    "\n",
    "    # Define missing keywords to check within the 'price' column\n",
    "\n",
    "    missing_keywords = ['TBD', 'N A', 'Following', 'DISCONTINUED']\n",
    "\n",
    "\n",
    "\n",
    "    # Remove rows where 'price' is NaN\n",
    "\n",
    "    df = df.dropna(subset=['price'])\n",
    "\n",
    "\n",
    "\n",
    "    # Remove rows in the 'price' column that contain any of the missing keywords\n",
    "\n",
    "    df = df[~df['price'].astype(str).str.contains('|'.join(missing_keywords), case=False, na=False)]\n",
    "\n",
    "\n",
    "\n",
    "    print(f'Rows after removal: {len(df)}')\n",
    "\n",
    "\n",
    "\n",
    "    return df\n",
    "\n",
    "\n",
    "\n",
    "# Apply the function\n",
    "\n",
    "df = remove_missing_price(df)\n"
   ]
  },
  {
   "cell_type": "code",
   "execution_count": 5,
   "id": "188909b2",
   "metadata": {
    "execution": {
     "iopub.execute_input": "2024-11-27T00:45:13.605406Z",
     "iopub.status.busy": "2024-11-27T00:45:13.605001Z",
     "iopub.status.idle": "2024-11-27T00:45:15.122854Z",
     "shell.execute_reply": "2024-11-27T00:45:15.121831Z"
    },
    "papermill": {
     "duration": 1.533457,
     "end_time": "2024-11-27T00:45:15.124964",
     "exception": false,
     "start_time": "2024-11-27T00:45:13.591507",
     "status": "completed"
    },
    "tags": []
   },
   "outputs": [
    {
     "name": "stdout",
     "output_type": "stream",
     "text": [
      "Before Removing: 5493\n",
      "After Removing: 4771\n"
     ]
    }
   ],
   "source": [
    "def remove_missing_values(df):\n",
    "\n",
    "    \"\"\"\n",
    "\n",
    "    Removes rows containing missing keywords and displays the number of rows before and after removal.\n",
    "\n",
    "    \"\"\"\n",
    "\n",
    "    print(f'Before Removing: {len(df)}')\n",
    "\n",
    "\n",
    "\n",
    "    # Remove rows with any missing value\n",
    "\n",
    "    df.dropna(how='any', inplace=True)\n",
    "\n",
    "    \n",
    "\n",
    "    # Remove rows with any missing keywords\n",
    "\n",
    "    missing_keywords = ['TBD', 'N A', 'Following', 'DISCONTINUED']\n",
    "\n",
    "\n",
    "\n",
    "    # Remove rows containing any of the missing keywords\n",
    "\n",
    "    df = df[~df.apply(lambda row: row.astype(str).str.contains('|'.join(missing_keywords), case=False, na=False).any(), axis=1)]\n",
    "\n",
    "\n",
    "\n",
    "    print(f'After Removing: {len(df)}')\n",
    "\n",
    "\n",
    "\n",
    "    return df\n",
    "\n",
    "\n",
    "\n",
    "\n",
    "\n",
    "df = remove_missing_values(df)\n"
   ]
  },
  {
   "cell_type": "markdown",
   "id": "f40fa153",
   "metadata": {
    "papermill": {
     "duration": 0.011558,
     "end_time": "2024-11-27T00:45:15.148313",
     "exception": false,
     "start_time": "2024-11-27T00:45:15.136755",
     "status": "completed"
    },
    "tags": []
   },
   "source": [
    "### Handle incorrect values\n",
    "\n",
    "\n",
    "\n",
    "Here we want to analyze the colums given insights noted after imoorting and fix any incorrent discrepancies."
   ]
  },
  {
   "cell_type": "markdown",
   "id": "2e3feac1",
   "metadata": {
    "papermill": {
     "duration": 0.011563,
     "end_time": "2024-11-27T00:45:15.171811",
     "exception": false,
     "start_time": "2024-11-27T00:45:15.160248",
     "status": "completed"
    },
    "tags": []
   },
   "source": [
    "#### Price : \n",
    "\n",
    "\n",
    "\n",
    "To ensure consistency, we need to standardize all prices to a common currency, here we'll use USD, for a uniform target variable. This will help avoid discrepancies and improve the accuracy of any predictive modeling"
   ]
  },
  {
   "cell_type": "code",
   "execution_count": 6,
   "id": "748fe505",
   "metadata": {
    "execution": {
     "iopub.execute_input": "2024-11-27T00:45:15.197642Z",
     "iopub.status.busy": "2024-11-27T00:45:15.196604Z",
     "iopub.status.idle": "2024-11-27T00:45:15.238916Z",
     "shell.execute_reply": "2024-11-27T00:45:15.237921Z"
    },
    "papermill": {
     "duration": 0.05775,
     "end_time": "2024-11-27T00:45:15.241322",
     "exception": false,
     "start_time": "2024-11-27T00:45:15.183572",
     "status": "completed"
    },
    "tags": []
   },
   "outputs": [],
   "source": [
    "def apply_price_adj(price):\n",
    "\n",
    "    \"\"\"\n",
    "\n",
    "    Converts a price string with a currency code into USD.\n",
    "\n",
    "    \"\"\"\n",
    "\n",
    "    try:\n",
    "\n",
    "        # Extract the currency code (first 3 characters)\n",
    "\n",
    "        currency_code = price[:3].strip()\n",
    "\n",
    "        # Extract the price string (everything after the currency code) and remove commas\n",
    "\n",
    "        price_str = price[4:].replace(',', '').strip()\n",
    "\n",
    "        # Convert price to float\n",
    "\n",
    "        price_value = float(price_str)\n",
    "\n",
    "\n",
    "\n",
    "        # Currency conversion rates as of 20 Nov 2024\n",
    "\n",
    "        conversion_rates = {\n",
    "\n",
    "            'AED': 0.27,   # 1 AED = 0.27 USD\n",
    "\n",
    "            'KWD': 3.28,   # 1 KWD = 3.28 USD\n",
    "\n",
    "            'OMR': 2.60,   # 1 OMR = 2.60 USD\n",
    "\n",
    "            'BHD': 2.65,   # 1 BHD = 2.65 USD\n",
    "\n",
    "            'QAR': 0.25,   # 1 QAR = 0.25 USD\n",
    "\n",
    "            'SAR': 0.27,   # 1 SAR = 0.27 USD\n",
    "\n",
    "            'EGP': 0.021   # 1 EGP = 0.021 USD\n",
    "\n",
    "        }\n",
    "\n",
    "\n",
    "\n",
    "        # Convert to USD if the currency code is valid\n",
    "\n",
    "        if currency_code in conversion_rates:\n",
    "\n",
    "            price_in_dollars = price_value * conversion_rates[currency_code]\n",
    "\n",
    "            return round(price_in_dollars, 3)  # Round to three decimal places\n",
    "\n",
    "        else:\n",
    "\n",
    "            # Return NaN if the currency code is not recognized\n",
    "\n",
    "            return float('nan')\n",
    "\n",
    "\n",
    "\n",
    "    except (ValueError, IndexError):\n",
    "\n",
    "        # Return NaN for invalid input or parsing errors\n",
    "\n",
    "        return float('nan')\n",
    "\n",
    "\n",
    "\n",
    "\n",
    "\n",
    "\n",
    "\n",
    "# Apply the function to replace the 'price' column values \n",
    "\n",
    "df['price'] = df['price'].apply(apply_price_adj)\n",
    "\n",
    "\n",
    "\n",
    "# Drop rows where 'price' is NaN\n",
    "\n",
    "df.dropna(subset=['price'], inplace=True)\n",
    "\n",
    "\n",
    "\n",
    "# Save the cleaned DataFrame to a CSV file\n",
    "\n",
    "df.to_csv('/kaggle/working/output3.csv', index=False)"
   ]
  },
  {
   "cell_type": "markdown",
   "id": "7ccaa6c1",
   "metadata": {
    "papermill": {
     "duration": 0.011405,
     "end_time": "2024-11-27T00:45:15.264470",
     "exception": false,
     "start_time": "2024-11-27T00:45:15.253065",
     "status": "completed"
    },
    "tags": []
   },
   "source": [
    "#### Engine Capacity :\n",
    "\n",
    "To ensure consistency, we need to standardize all engine capacities to liters and see we would need to convernt any valus in cubic centimerts to litres."
   ]
  },
  {
   "cell_type": "code",
   "execution_count": 7,
   "id": "86f7be11",
   "metadata": {
    "execution": {
     "iopub.execute_input": "2024-11-27T00:45:15.289753Z",
     "iopub.status.busy": "2024-11-27T00:45:15.289379Z",
     "iopub.status.idle": "2024-11-27T00:45:15.324163Z",
     "shell.execute_reply": "2024-11-27T00:45:15.323069Z"
    },
    "papermill": {
     "duration": 0.050258,
     "end_time": "2024-11-27T00:45:15.326539",
     "exception": false,
     "start_time": "2024-11-27T00:45:15.276281",
     "status": "completed"
    },
    "tags": []
   },
   "outputs": [],
   "source": [
    "def apply_engine_adj(capacity):\n",
    "\n",
    "    \"\"\"\n",
    "\n",
    "    Standardizes engine capacity to liters.\n",
    "\n",
    "    If the value is greater than 1000, it is assumed to be in cubic centimeters (cc) and converted to liters.\n",
    "\n",
    "    Otherwise, it is treated as already in liters.\n",
    "\n",
    "    \"\"\"\n",
    "\n",
    "    try:\n",
    "\n",
    "        # Convert to float for comparison\n",
    "\n",
    "        engine_capacity = float(capacity)\n",
    "\n",
    "\n",
    "\n",
    "        # Check if the value is larger than 1000\n",
    "\n",
    "        if engine_capacity > 1000:\n",
    "\n",
    "            engine_capacity = engine_capacity / 1000  # Convert cc to liters\n",
    "\n",
    "        return round(engine_capacity, 2)  # Return value in liters, rounded to 2 decimals\n",
    "\n",
    "\n",
    "\n",
    "    except (ValueError, TypeError):\n",
    "\n",
    "        # Return NaN for invalid input or parsing errors\n",
    "\n",
    "        return float('nan')\n",
    "\n",
    "\n",
    "\n",
    "\n",
    "\n",
    "# Apply the function to replace the 'engine' column values \n",
    "\n",
    "df['engine_capacity'] = df['engine_capacity'].apply(apply_engine_adj)\n",
    "\n",
    "\n",
    "\n",
    "# Drop rows where 'price' is NaN\n",
    "\n",
    "df.dropna(subset=['engine_capacity'], inplace=True)\n",
    "\n",
    "\n",
    "\n",
    "# Save the cleaned DataFrame to a CSV file\n",
    "\n",
    "df.to_csv('/kaggle/working/output4.csv', index=False)"
   ]
  },
  {
   "cell_type": "markdown",
   "id": "4ead642c",
   "metadata": {
    "papermill": {
     "duration": 0.011665,
     "end_time": "2024-11-27T00:45:15.350364",
     "exception": false,
     "start_time": "2024-11-27T00:45:15.338699",
     "status": "completed"
    },
    "tags": []
   },
   "source": [
    "#### Cylinder:\n",
    "\n",
    "We will apply feature extranction here, for electric cars there is no cylinders , so we will add a column to mark if electric or not. In the cylider column if electric we will set to -1.\n",
    "\n",
    "\n"
   ]
  },
  {
   "cell_type": "markdown",
   "id": "7db42006",
   "metadata": {
    "papermill": {
     "duration": 0.012054,
     "end_time": "2024-11-27T00:45:15.374347",
     "exception": false,
     "start_time": "2024-11-27T00:45:15.362293",
     "status": "completed"
    },
    "tags": []
   },
   "source": [
    "**Why -1 ?**\n",
    "\n",
    "\n",
    "\n",
    "For most vehicles, cylinder counts are typically 3, 4, 6, 8, 10 or 12, using a negative value does not overlap with valid cylinder counts (e.g., 3, 4, 6, 8, etc.).\n",
    "\n",
    "It explicitly indicates the absence of a conventional cylinder count, making it interpretable as \"no cylinders.\""
   ]
  },
  {
   "cell_type": "code",
   "execution_count": 8,
   "id": "75914392",
   "metadata": {
    "execution": {
     "iopub.execute_input": "2024-11-27T00:45:15.399698Z",
     "iopub.status.busy": "2024-11-27T00:45:15.399319Z",
     "iopub.status.idle": "2024-11-27T00:45:15.431234Z",
     "shell.execute_reply": "2024-11-27T00:45:15.429993Z"
    },
    "papermill": {
     "duration": 0.047586,
     "end_time": "2024-11-27T00:45:15.433753",
     "exception": false,
     "start_time": "2024-11-27T00:45:15.386167",
     "status": "completed"
    },
    "tags": []
   },
   "outputs": [],
   "source": [
    "def apply_cylinder_adj(capacity):\n",
    "\n",
    "    \"\"\"\n",
    "\n",
    "    Adjusts the cylinder values. If the value is 'Electric' or 'N/A', it returns -1.\n",
    "\n",
    "    \"\"\"\n",
    "\n",
    "    try:\n",
    "\n",
    "        # Handle Electric and N/A cases\n",
    "\n",
    "        if capacity in ['N/A, Electric']:\n",
    "\n",
    "            return 0\n",
    "\n",
    "          # Return numeric values as they are\n",
    "\n",
    "        return float(capacity)\n",
    "\n",
    "    except (ValueError, TypeError):\n",
    "\n",
    "        # Return NaN for invalid inputs\n",
    "\n",
    "        return float('nan')\n",
    "\n",
    "\n",
    "\n",
    "# Apply the function to adjust the 'cylinder' column\n",
    "\n",
    "df['cylinder'] = df['cylinder'].apply(apply_cylinder_adj)\n",
    "\n",
    "\n",
    "\n",
    "# Save the cleaned DataFrame to a CSV file\n",
    "\n",
    "df.to_csv('/kaggle/working/output5.csv', index=False)\n",
    "\n",
    "\n"
   ]
  },
  {
   "cell_type": "markdown",
   "id": "f8d0c15b",
   "metadata": {
    "papermill": {
     "duration": 0.011525,
     "end_time": "2024-11-27T00:45:15.457358",
     "exception": false,
     "start_time": "2024-11-27T00:45:15.445833",
     "status": "completed"
    },
    "tags": []
   },
   "source": [
    "#### Horse Power:\n",
    "\n",
    "\n",
    "\n",
    "Replace Single, Double, Triple with their standard values"
   ]
  },
  {
   "cell_type": "code",
   "execution_count": 9,
   "id": "0005944c",
   "metadata": {
    "execution": {
     "iopub.execute_input": "2024-11-27T00:45:15.483061Z",
     "iopub.status.busy": "2024-11-27T00:45:15.482656Z",
     "iopub.status.idle": "2024-11-27T00:45:15.521190Z",
     "shell.execute_reply": "2024-11-27T00:45:15.520003Z"
    },
    "papermill": {
     "duration": 0.054224,
     "end_time": "2024-11-27T00:45:15.523853",
     "exception": false,
     "start_time": "2024-11-27T00:45:15.469629",
     "status": "completed"
    },
    "tags": []
   },
   "outputs": [],
   "source": [
    "def apply_horse_adj(capacity):\n",
    "\n",
    "    \"\"\"\n",
    "\n",
    "    Adjusts the horsepower values. If the value matches 'Single', 'Double', or 'Triple',\n",
    "\n",
    "    it replaces them with their corresponding horsepower values These values are averages taken from online sources. \n",
    "\n",
    "    Otherwise, numeric values remain unchanged.\n",
    "\n",
    "    \"\"\"\n",
    "\n",
    "    horsepower_dict = {\n",
    "\n",
    "        'Single': 283,\n",
    "\n",
    "        'Double': 422.0,\n",
    "\n",
    "        'Triple': 810.0\n",
    "\n",
    "    }\n",
    "\n",
    "    \n",
    "\n",
    "    try:\n",
    "\n",
    "        return float(capacity)\n",
    "\n",
    "    except (ValueError, TypeError): # if not already numeric\n",
    "\n",
    "        # Map known strings to their corresponding horsepower values\n",
    "\n",
    "        return horsepower_dict.get(capacity, float('nan'))  # NaN for unrecognized strings\n",
    "\n",
    "\n",
    "\n",
    "# Apply the function to adjust the 'horse_power' column\n",
    "\n",
    "df['horse_power'] = df['horse_power'].apply(apply_horse_adj)\n",
    "\n",
    "\n",
    "\n",
    "# Drop rows with NaN in 'horse_power' (invalid entries)\n",
    "\n",
    "df.dropna(subset=['horse_power'], inplace=True)\n",
    "\n",
    "\n",
    "\n",
    "# Save the cleaned DataFrame to a CSV file\n",
    "\n",
    "df.to_csv('/kaggle/working/output6.csv', index=False)\n"
   ]
  },
  {
   "cell_type": "markdown",
   "id": "1cf988a5",
   "metadata": {
    "papermill": {
     "duration": 0.013077,
     "end_time": "2024-11-27T00:45:15.548939",
     "exception": false,
     "start_time": "2024-11-27T00:45:15.535862",
     "status": "completed"
    },
    "tags": []
   },
   "source": [
    "#### Speed:\n",
    "\n",
    "\n",
    "\n",
    "Remove any non-numeric values."
   ]
  },
  {
   "cell_type": "code",
   "execution_count": 10,
   "id": "a8254dfd",
   "metadata": {
    "execution": {
     "iopub.execute_input": "2024-11-27T00:45:15.575200Z",
     "iopub.status.busy": "2024-11-27T00:45:15.574753Z",
     "iopub.status.idle": "2024-11-27T00:45:15.612045Z",
     "shell.execute_reply": "2024-11-27T00:45:15.610974Z"
    },
    "papermill": {
     "duration": 0.053305,
     "end_time": "2024-11-27T00:45:15.614627",
     "exception": false,
     "start_time": "2024-11-27T00:45:15.561322",
     "status": "completed"
    },
    "tags": []
   },
   "outputs": [],
   "source": [
    "def apply_top_speed_adj(speed):\n",
    "\n",
    "    \"\"\"\n",
    "\n",
    "    Cleans and standardizes the top_speed values.\n",
    "\n",
    "    If the value is non-numeric (e.g., 'N/A', 'Unknown'), it is converted to NaN.\n",
    "\n",
    "    Otherwise, it is treated as a valid numeric value.\n",
    "\n",
    "    \"\"\"\n",
    "\n",
    "    try:\n",
    "\n",
    "        # Attempt to convert the value to a float\n",
    "\n",
    "        return float(speed)\n",
    "\n",
    "    except (ValueError, TypeError):\n",
    "\n",
    "        # Return NaN for invalid input or parsing errors\n",
    "\n",
    "        return float('nan')\n",
    "\n",
    "\n",
    "\n",
    "\n",
    "\n",
    "# Apply the function to replace the 'top_speed' column values\n",
    "\n",
    "df['top_speed'] = df['top_speed'].apply(apply_top_speed_adj)\n",
    "\n",
    "\n",
    "\n",
    "# Drop rows where 'top_speed' is NaN\n",
    "\n",
    "df.dropna(subset=['top_speed'], inplace=True)\n",
    "\n",
    "\n",
    "\n",
    "# Save the cleaned DataFrame to a CSV file\n",
    "\n",
    "df.to_csv('/kaggle/working/output7.csv', index=False)"
   ]
  },
  {
   "cell_type": "markdown",
   "id": "34f5b7cb",
   "metadata": {
    "papermill": {
     "duration": 0.011774,
     "end_time": "2024-11-27T00:45:15.638602",
     "exception": false,
     "start_time": "2024-11-27T00:45:15.626828",
     "status": "completed"
    },
    "tags": []
   },
   "source": [
    "#### Seats:\n",
    "\n",
    "\n",
    "\n",
    "We need to extract seats into their numeric values:\n",
    "\n",
    "\n",
    "\n",
    "Note : reaching this here some values that were already invalid like floats (1.4, 2.5) and large values (150), were already removed since there has been multiple issue with that records entry."
   ]
  },
  {
   "cell_type": "code",
   "execution_count": 11,
   "id": "366b0d76",
   "metadata": {
    "execution": {
     "iopub.execute_input": "2024-11-27T00:45:15.664237Z",
     "iopub.status.busy": "2024-11-27T00:45:15.663844Z",
     "iopub.status.idle": "2024-11-27T00:45:15.702843Z",
     "shell.execute_reply": "2024-11-27T00:45:15.701494Z"
    },
    "papermill": {
     "duration": 0.055066,
     "end_time": "2024-11-27T00:45:15.705563",
     "exception": false,
     "start_time": "2024-11-27T00:45:15.650497",
     "status": "completed"
    },
    "tags": []
   },
   "outputs": [],
   "source": [
    "def apply_seats_adj(seats_string):\n",
    "\n",
    "    \"\"\"\n",
    "\n",
    "    Extracts the number of seats from a string assuming this format '5 Seater'.\n",
    "\n",
    "    \"\"\"\n",
    "\n",
    "    try:\n",
    "\n",
    "        # Split the string and extract the first part as an integer\n",
    "\n",
    "        return int(seats_string.split()[0])\n",
    "\n",
    "    except (ValueError, AttributeError, IndexError):\n",
    "\n",
    "        # Return NaN for invalid or unparsable values\n",
    "\n",
    "        return float('nan')\n",
    "\n",
    "\n",
    "\n",
    "# Apply the function to the 'seats' column\n",
    "\n",
    "df['seats'] = df['seats'].apply(apply_seats_adj)\n",
    "\n",
    "\n",
    "\n",
    "# Drop rows where 'seats' is NaN\n",
    "\n",
    "df.dropna(subset=['seats'], inplace=True)\n",
    "\n",
    "\n",
    "\n",
    "# Save the cleaned DataFrame to a CSV file\n",
    "\n",
    "df.to_csv('/kaggle/working/output8.csv', index=False)\n"
   ]
  },
  {
   "cell_type": "markdown",
   "id": "68bb31af",
   "metadata": {
    "papermill": {
     "duration": 0.011744,
     "end_time": "2024-11-27T00:45:15.729222",
     "exception": false,
     "start_time": "2024-11-27T00:45:15.717478",
     "status": "completed"
    },
    "tags": []
   },
   "source": [
    "#### Summary:\n",
    "\n",
    "\n",
    "\n",
    "The current number of records is 4078, the original was 6038. We lost around 35% of the data, we will continue and assume acceptable with that since the data has many issues and descripincies in the start."
   ]
  },
  {
   "cell_type": "code",
   "execution_count": 12,
   "id": "7a49b15b",
   "metadata": {
    "execution": {
     "iopub.execute_input": "2024-11-27T00:45:15.755439Z",
     "iopub.status.busy": "2024-11-27T00:45:15.755044Z",
     "iopub.status.idle": "2024-11-27T00:45:15.760712Z",
     "shell.execute_reply": "2024-11-27T00:45:15.759485Z"
    },
    "papermill": {
     "duration": 0.021625,
     "end_time": "2024-11-27T00:45:15.762848",
     "exception": false,
     "start_time": "2024-11-27T00:45:15.741223",
     "status": "completed"
    },
    "tags": []
   },
   "outputs": [
    {
     "name": "stdout",
     "output_type": "stream",
     "text": [
      "4078\n"
     ]
    }
   ],
   "source": [
    "print (len(df))"
   ]
  },
  {
   "cell_type": "markdown",
   "id": "55d3e5b2",
   "metadata": {
    "papermill": {
     "duration": 0.011919,
     "end_time": "2024-11-27T00:45:15.786959",
     "exception": false,
     "start_time": "2024-11-27T00:45:15.775040",
     "status": "completed"
    },
    "tags": []
   },
   "source": [
    "### Encode Categorical\n"
   ]
  },
  {
   "cell_type": "markdown",
   "id": "287c05aa",
   "metadata": {
    "papermill": {
     "duration": 0.011659,
     "end_time": "2024-11-27T00:45:15.810591",
     "exception": false,
     "start_time": "2024-11-27T00:45:15.798932",
     "status": "completed"
    },
    "tags": []
   },
   "source": [
    "**Perform one-hot encoding for country.**"
   ]
  },
  {
   "cell_type": "code",
   "execution_count": 13,
   "id": "303e1ab4",
   "metadata": {
    "execution": {
     "iopub.execute_input": "2024-11-27T00:45:15.836634Z",
     "iopub.status.busy": "2024-11-27T00:45:15.836262Z",
     "iopub.status.idle": "2024-11-27T00:45:15.856871Z",
     "shell.execute_reply": "2024-11-27T00:45:15.855795Z"
    },
    "papermill": {
     "duration": 0.036632,
     "end_time": "2024-11-27T00:45:15.859118",
     "exception": false,
     "start_time": "2024-11-27T00:45:15.822486",
     "status": "completed"
    },
    "tags": []
   },
   "outputs": [
    {
     "name": "stdout",
     "output_type": "stream",
     "text": [
      "                             car name     price  engine_capacity  cylinder  \\\n",
      "2    Suzuki Jimny 2021 1.5L Automatic  26671.95              1.5       4.0   \n",
      "5       Honda HR-V 2021 1.8 i-VTEC EX  25740.45              1.8       4.0   \n",
      "8   Renault Koleos 2021 2.5L LE (4WD)  31563.00              2.5       4.0   \n",
      "10         Suzuki Jimny 2021 1.5L M/T  24808.95              1.5       4.0   \n",
      "11      Honda HR-V 2021 1.8 i-VTEC DX  19530.45              1.8       4.0   \n",
      "\n",
      "    horse_power  top_speed  seats    brand  country_egypt  country_ksa  \\\n",
      "2         102.0      145.0    4.0   suzuki              0            1   \n",
      "5         140.0      190.0    5.0    honda              0            1   \n",
      "8         170.0      199.0    5.0  renault              0            1   \n",
      "10        102.0      145.0    4.0   suzuki              0            1   \n",
      "11        140.0      190.0    5.0    honda              0            1   \n",
      "\n",
      "    country_kuwait  country_oman  country_qatar  country_uae  \n",
      "2                0             0              0            0  \n",
      "5                0             0              0            0  \n",
      "8                0             0              0            0  \n",
      "10               0             0              0            0  \n",
      "11               0             0              0            0  \n"
     ]
    }
   ],
   "source": [
    "def encode_countries(df):\n",
    "\n",
    "    # One-hot encode the 'country' column\n",
    "\n",
    "    df_encoded = pd.get_dummies(df, columns=['country'], dtype=int, drop_first=True)    \n",
    "\n",
    "    \n",
    "\n",
    "    return df_encoded\n",
    "\n",
    "\n",
    "\n",
    "df = encode_countries(df)\n",
    "\n",
    "print (df.head())"
   ]
  },
  {
   "cell_type": "markdown",
   "id": "d13c907b",
   "metadata": {
    "papermill": {
     "duration": 0.012181,
     "end_time": "2024-11-27T00:45:15.883474",
     "exception": false,
     "start_time": "2024-11-27T00:45:15.871293",
     "status": "completed"
    },
    "tags": []
   },
   "source": [
    "**Perform Target encoding for country**\n",
    "\n",
    "\n",
    "\n",
    "Note: What is target encoding? \n",
    "\n",
    "\n",
    "\n",
    "[Article on Comparing Performances of Encoding Schemes on Regression with Cross-validation](http://https://www.linkedin.com/pulse/comparing-performances-encoding-schemes-regression-imran-khan-jb3xc/)\n",
    "\n",
    "\n",
    "\n",
    "Also see:\n",
    "\n",
    "[1](https://towardsdatascience.com/benchmarking-categorical-encoders-9c322bd77ee8)\n",
    "\n",
    "[2](https://medium.com/anolytics/all-you-need-to-know-about-encoding-techniques-b3a0af68338b)\n",
    "\n",
    "\n",
    "\n",
    "\n",
    "\n",
    "\n",
    "\n",
    "\n",
    "\n",
    "* Mean encoding involves replacing each category with the mean value of the target variable for that category. This method can be very effective, especially for supervised learning tasks, but it can lead to overfitting if not managed properly\n",
    "\n",
    "* When to use: It is suitable for categorical features exhibiting a **high number of categories**. \n",
    "\n",
    "* Because we wil later use regularization techniques, this will be safe to use.\n",
    "\n",
    "*  Target encoding leverages the relationship between categorical variables and the target variable, making it a powerful encoding technique when this relationship is significant.\n",
    "\n",
    "* One of the significant drawbacks of target encoding is the potential for overfitting, especially when applied to small datasets. It suffers from the problem of target leakage as the target variable is used to directly encode the input feature and the same feature is used to fit a model on the target variable.\n",
    "\n",
    "* -> This is important to note because this type of encoding should only be applied on the training data after the split\n",
    "\n",
    "\n",
    "\n",
    "Correct Approach -> Fit the Encoder Only on Training Data:\n",
    "\n",
    "\n",
    "\n",
    "The encoder learns the target means for each category in the training data, and then  we use the fitted encoder to apply the same encoding to validation and test datasets.\n"
   ]
  },
  {
   "cell_type": "code",
   "execution_count": 14,
   "id": "f629a4b2",
   "metadata": {
    "execution": {
     "iopub.execute_input": "2024-11-27T00:45:15.909706Z",
     "iopub.status.busy": "2024-11-27T00:45:15.909299Z",
     "iopub.status.idle": "2024-11-27T00:45:16.638290Z",
     "shell.execute_reply": "2024-11-27T00:45:16.636844Z"
    },
    "papermill": {
     "duration": 0.745877,
     "end_time": "2024-11-27T00:45:16.641321",
     "exception": false,
     "start_time": "2024-11-27T00:45:15.895444",
     "status": "completed"
    },
    "tags": []
   },
   "outputs": [],
   "source": [
    "from sklearn.model_selection import train_test_split \n",
    "\n",
    "import category_encoders as ce\n",
    "\n",
    "\n",
    "\n",
    "def encode_brand(train_df):\n",
    "\n",
    "    # Initialize the MeanEncoder\n",
    "\n",
    "    mean_encoder = ce.TargetEncoder()\n",
    "\n",
    "    \n",
    "\n",
    "    # Fit the encoder on the training data\n",
    "\n",
    "    mean_encoder.fit(train_df['brand'], train_df['price'])\n",
    "\n",
    "    \n",
    "\n",
    "    # Encode the 'brand' column\n",
    "\n",
    "    train_df['brand'] = mean_encoder.transform(train_df[['brand']])['brand'].round(2)\n",
    "\n",
    "    \n",
    "\n",
    "    # Normalize the encoded 'brand' column using z-score normalization\n",
    "\n",
    "    scaler = StandardScaler()\n",
    "\n",
    "    train_df['brand'] = scaler.fit_transform(train_df[['brand']])\n",
    "\n",
    "    \n",
    "\n",
    "    return train_df, mean_encoder, scaler\n"
   ]
  },
  {
   "cell_type": "markdown",
   "id": "32d86763",
   "metadata": {
    "papermill": {
     "duration": 0.019741,
     "end_time": "2024-11-27T00:45:16.673887",
     "exception": false,
     "start_time": "2024-11-27T00:45:16.654146",
     "status": "completed"
    },
    "tags": []
   },
   "source": [
    "### Normalize Numeric\n"
   ]
  },
  {
   "cell_type": "markdown",
   "id": "5a06fa9c",
   "metadata": {
    "papermill": {
     "duration": 0.014601,
     "end_time": "2024-11-27T00:45:16.704099",
     "exception": false,
     "start_time": "2024-11-27T00:45:16.689498",
     "status": "completed"
    },
    "tags": []
   },
   "source": [
    "#### Z-Score normalization \n",
    "\n",
    "\n",
    "\n",
    "Best for many advatages and reasons."
   ]
  },
  {
   "cell_type": "code",
   "execution_count": 15,
   "id": "3eb9721c",
   "metadata": {
    "execution": {
     "iopub.execute_input": "2024-11-27T00:45:16.733810Z",
     "iopub.status.busy": "2024-11-27T00:45:16.733223Z",
     "iopub.status.idle": "2024-11-27T00:45:16.794386Z",
     "shell.execute_reply": "2024-11-27T00:45:16.793472Z"
    },
    "papermill": {
     "duration": 0.0772,
     "end_time": "2024-11-27T00:45:16.796829",
     "exception": false,
     "start_time": "2024-11-27T00:45:16.719629",
     "status": "completed"
    },
    "tags": []
   },
   "outputs": [],
   "source": [
    "from sklearn.preprocessing import StandardScaler \n",
    "\n",
    "numeric_features = ['engine_capacity', 'cylinder', 'horse_power', 'seats', 'top_speed']\n",
    "\n",
    "\n",
    "\n",
    "# Use the z-score normalization \n",
    "\n",
    "scaler = StandardScaler()\n",
    "\n",
    "df[numeric_features] = scaler.fit_transform(df[numeric_features])\n",
    "\n",
    "\n",
    "\n",
    "df.to_csv('/kaggle/working/output9.csv', index=False)"
   ]
  },
  {
   "cell_type": "markdown",
   "id": "f89eb16b",
   "metadata": {
    "papermill": {
     "duration": 0.011583,
     "end_time": "2024-11-27T00:45:16.820605",
     "exception": false,
     "start_time": "2024-11-27T00:45:16.809022",
     "status": "completed"
    },
    "tags": []
   },
   "source": [
    "### Split Data:\n",
    "\n",
    "\n",
    "\n",
    "A commin split that is used here is 60% for training, 20% for validation, and 20% for testing.\n"
   ]
  },
  {
   "cell_type": "code",
   "execution_count": 16,
   "id": "5ca2da07",
   "metadata": {
    "execution": {
     "iopub.execute_input": "2024-11-27T00:45:16.846423Z",
     "iopub.status.busy": "2024-11-27T00:45:16.846043Z",
     "iopub.status.idle": "2024-11-27T00:45:16.898084Z",
     "shell.execute_reply": "2024-11-27T00:45:16.896619Z"
    },
    "papermill": {
     "duration": 0.068228,
     "end_time": "2024-11-27T00:45:16.900915",
     "exception": false,
     "start_time": "2024-11-27T00:45:16.832687",
     "status": "completed"
    },
    "tags": []
   },
   "outputs": [
    {
     "name": "stdout",
     "output_type": "stream",
     "text": [
      "2446\n",
      "816\n",
      "816\n"
     ]
    }
   ],
   "source": [
    "from sklearn.utils import shuffle\n",
    "\n",
    "from sklearn.model_selection import train_test_split\n",
    "\n",
    "\n",
    "\n",
    "# Shuffle the dataset\n",
    "\n",
    "df_shuffled = shuffle(df, random_state=42) # note that 42 is a widely used convention but can be anything -> this is used for consistent reproducability of the data\n",
    "\n",
    "\n",
    "# Split the data into training (60%) and temp (40%)\n",
    "\n",
    "train_data, temp_data = train_test_split(df_shuffled, test_size=0.4, random_state=42)\n",
    "\n",
    "\n",
    "\n",
    "# Split the temp data into validation and testing \n",
    "\n",
    "val_data, test_data = train_test_split(temp_data, test_size=0.5, random_state=42)\n",
    "\n",
    "\n",
    "\n",
    "# Output the sizes of each split to verify\n",
    "\n",
    "print (len(train_data))\n",
    "\n",
    "print (len(val_data))\n",
    "\n",
    "print(len(test_data))\n",
    "\n",
    "\n",
    "\n",
    "# remember to encode and normalize brand here \n",
    "\n",
    "train_data,encoder,scaler = encode_brand(train_data)\n",
    "\n",
    "\n",
    "\n",
    "# Transform and normalize validation and test data\n",
    "\n",
    "val_data['brand'] = encoder.transform(val_data[['brand']])['brand']\n",
    "\n",
    "val_data['brand'] = scaler.transform(val_data[['brand']])\n",
    "\n",
    "\n",
    "\n",
    "test_data['brand'] = encoder.transform(test_data[['brand']])['brand']\n",
    "\n",
    "test_data['brand'] = scaler.transform(test_data[['brand']])\n",
    "\n",
    "\n"
   ]
  },
  {
   "cell_type": "code",
   "execution_count": 17,
   "id": "cbbf9f02",
   "metadata": {
    "execution": {
     "iopub.execute_input": "2024-11-27T00:45:16.934726Z",
     "iopub.status.busy": "2024-11-27T00:45:16.934314Z",
     "iopub.status.idle": "2024-11-27T00:45:16.994123Z",
     "shell.execute_reply": "2024-11-27T00:45:16.993033Z"
    },
    "papermill": {
     "duration": 0.078137,
     "end_time": "2024-11-27T00:45:16.996628",
     "exception": false,
     "start_time": "2024-11-27T00:45:16.918491",
     "status": "completed"
    },
    "tags": []
   },
   "outputs": [],
   "source": [
    "# Save the train data DataFrame to a CSV file\n",
    "\n",
    "train_data.to_csv('/kaggle/working/outputf.csv', index=False)\n",
    "\n",
    "val_data.to_csv('/kaggle/working/outputff.csv', index=False)"
   ]
  },
  {
   "cell_type": "markdown",
   "id": "78a32e5f",
   "metadata": {
    "papermill": {
     "duration": 0.011782,
     "end_time": "2024-11-27T00:45:17.021730",
     "exception": false,
     "start_time": "2024-11-27T00:45:17.009948",
     "status": "completed"
    },
    "tags": []
   },
   "source": [
    "**Extra : Visulaizing correlation between features**"
   ]
  },
  {
   "cell_type": "code",
   "execution_count": 18,
   "id": "02ba2700",
   "metadata": {
    "execution": {
     "iopub.execute_input": "2024-11-27T00:45:17.048267Z",
     "iopub.status.busy": "2024-11-27T00:45:17.047882Z",
     "iopub.status.idle": "2024-11-27T00:45:17.490268Z",
     "shell.execute_reply": "2024-11-27T00:45:17.489095Z"
    },
    "papermill": {
     "duration": 0.458604,
     "end_time": "2024-11-27T00:45:17.492698",
     "exception": false,
     "start_time": "2024-11-27T00:45:17.034094",
     "status": "completed"
    },
    "tags": []
   },
   "outputs": [
    {
     "data": {
      "image/png": "[encoded data removed]",
      "text/plain": [
       "<Figure size 700x700 with 2 Axes>"
      ]
     },
     "metadata": {},
     "output_type": "display_data"
    }
   ],
   "source": [
    "\n",
    "\n",
    "f_num = ['price', 'engine_capacity', 'cylinder', 'horse_power', 'top_speed', 'seats']\n",
    "\n",
    "\n",
    "\n",
    "# Filter the dataset to include only the selected numerical columns\n",
    "\n",
    "dataset_corr = df[f_num]\n",
    "\n",
    "\n",
    "\n",
    "# Compute the correlation matrix\n",
    "\n",
    "correlation_matrix = dataset_corr.corr()\n",
    "\n",
    "\n",
    "\n",
    "# Plot the heatmap\n",
    "\n",
    "plt.figure(figsize=(7, 7))\n",
    "\n",
    "sns.heatmap(correlation_matrix, annot=True, cmap='coolwarm', fmt='.2f', square=True)\n",
    "\n",
    "plt.title('Correlation Heatmap')\n",
    "\n",
    "plt.show()"
   ]
  },
  {
   "cell_type": "code",
   "execution_count": null,
   "id": "c48e207c",
   "metadata": {
    "papermill": {
     "duration": 0.013539,
     "end_time": "2024-11-27T00:45:17.519828",
     "exception": false,
     "start_time": "2024-11-27T00:45:17.506289",
     "status": "completed"
    },
    "tags": []
   },
   "outputs": [],
   "source": []
  },
  {
   "cell_type": "markdown",
   "id": "502ba96a",
   "metadata": {
    "papermill": {
     "duration": 0.012853,
     "end_time": "2024-11-27T00:45:17.546114",
     "exception": false,
     "start_time": "2024-11-27T00:45:17.533261",
     "status": "completed"
    },
    "tags": []
   },
   "source": [
    "# 3. Building Regression Models "
   ]
  },
  {
   "cell_type": "markdown",
   "id": "62a69eda",
   "metadata": {
    "papermill": {
     "duration": 0.013631,
     "end_time": "2024-11-27T00:45:17.574699",
     "exception": false,
     "start_time": "2024-11-27T00:45:17.561068",
     "status": "completed"
    },
    "tags": []
   },
   "source": [
    "## Linear Models"
   ]
  },
  {
   "cell_type": "markdown",
   "id": "5c6ff21f",
   "metadata": {
    "papermill": {
     "duration": 0.012811,
     "end_time": "2024-11-27T00:45:17.600834",
     "exception": false,
     "start_time": "2024-11-27T00:45:17.588023",
     "status": "completed"
    },
    "tags": []
   },
   "source": [
    "### Simple Model"
   ]
  },
  {
   "cell_type": "code",
   "execution_count": 19,
   "id": "97f6d9ad",
   "metadata": {
    "execution": {
     "iopub.execute_input": "2024-11-27T00:45:17.628629Z",
     "iopub.status.busy": "2024-11-27T00:45:17.628256Z",
     "iopub.status.idle": "2024-11-27T00:45:17.799684Z",
     "shell.execute_reply": "2024-11-27T00:45:17.795165Z"
    },
    "papermill": {
     "duration": 0.189095,
     "end_time": "2024-11-27T00:45:17.803009",
     "exception": false,
     "start_time": "2024-11-27T00:45:17.613914",
     "status": "completed"
    },
    "tags": []
   },
   "outputs": [
    {
     "name": "stdout",
     "output_type": "stream",
     "text": [
      "Validation Mean Squared Error: 9183421838.298634\n",
      "Validation R^2 Score: 0.3822793431758391\n",
      "Test Mean Squared Error: 5685068128.788385\n",
      "Test R^2 Score: 0.4526682139006497\n",
      "Predictions saved to 'test_predictions.csv'\n"
     ]
    }
   ],
   "source": [
    "# Just a test model with built in library \n",
    "\n",
    "\n",
    "\n",
    "from sklearn.linear_model import LinearRegression\n",
    "\n",
    "from sklearn.metrics import mean_squared_error, r2_score\n",
    "\n",
    "\n",
    "\n",
    "# Define features (X) and target (y) for training, validation, and test sets\n",
    "\n",
    "X_train = train_data.drop(columns=['car name', 'price'])  \n",
    "\n",
    "y_train = train_data['price']\n",
    "\n",
    "\n",
    "\n",
    "X_val = val_data.drop(columns=['car name', 'price'])  # Drop 'id' and 'target' columns\n",
    "\n",
    "y_val = val_data['price']\n",
    "\n",
    "\n",
    "\n",
    "X_test = test_data.drop(columns=['car name', 'price'])  # Drop 'id' and 'target' columns\n",
    "\n",
    "y_test = test_data['price']\n",
    "\n",
    "\n",
    "\n",
    "# Initialize the Linear Regression model\n",
    "\n",
    "model = LinearRegression()\n",
    "\n",
    "\n",
    "\n",
    "# Train the model on the training data\n",
    "\n",
    "model.fit(X_train, y_train)\n",
    "\n",
    "\n",
    "\n",
    "# Evaluate the model on the validation data\n",
    "\n",
    "y_val_pred = model.predict(X_val)\n",
    "\n",
    "mse_val = mean_squared_error(y_val, y_val_pred)\n",
    "\n",
    "r2_val = r2_score(y_val, y_val_pred)\n",
    "\n",
    "\n",
    "\n",
    "print(f\"Validation Mean Squared Error: {mse_val}\")\n",
    "\n",
    "print(f\"Validation R^2 Score: {r2_val}\")\n",
    "\n",
    "\n",
    "\n",
    "# Evaluate the model on the test data\n",
    "\n",
    "y_test_pred = model.predict(X_test)\n",
    "\n",
    "mse_test = mean_squared_error(y_test, y_test_pred)\n",
    "\n",
    "r2_test = r2_score(y_test, y_test_pred)\n",
    "\n",
    "\n",
    "\n",
    "print(f\"Test Mean Squared Error: {mse_test}\")\n",
    "\n",
    "print(f\"Test R^2 Score: {r2_test}\")\n",
    "\n",
    "\n",
    "\n",
    "\n",
    "\n",
    "# Combine 'car name', original 'price', and predicted 'price' into a DataFrame\n",
    "\n",
    "results = pd.DataFrame({\n",
    "\n",
    "    'car name': test_data['car name'],\n",
    "\n",
    "    'original_price': y_test,\n",
    "\n",
    "    'predicted_price': y_test_pred\n",
    "\n",
    "})\n",
    "\n",
    "\n",
    "\n",
    "# Save the DataFrame to a CSV file\n",
    "\n",
    "results.to_csv('test_predictions.csv', index=False)\n",
    "\n",
    "\n",
    "\n",
    "print(\"Predictions saved to 'test_predictions.csv'\")\n"
   ]
  },
  {
   "attachments": {
    "01c288a8-c711-4334-8a51-2071318b30b2.png": {
     "image/png": "[encoded data removed]"
    },
    "20bc3a5f-9d09-4d78-b62d-8647b54691ce.png": {
     "image/png": "[encoded data removed]"
    },
    "29ab6176-69fc-467f-95cc-4decacdcd925.png": {
     "image/png": "[encoded data removed]"
    },
    "3236e411-9cdf-4ccb-ac3c-fd0151e2eff4.png": {
     "image/png": "[encoded data removed]"
    },
    "81aa76e5-5c5d-43c1-bbad-44a262ff90d1.png": {
     "image/png": "[encoded data removed]"
    },
    "a5161add-2cf4-48b0-b279-6d3147882bc9.png": {
     "image/png": "[encoded data removed]"
    },
    "ae643633-36a9-42bb-862a-d933a1b2eaeb.png": {
     "image/png": "[encoded data removed]"
    },
    "e51969fa-e3e6-4776-bb5f-09afcc508015.png": {
     "image/png": "[encoded data removed]"
    }
   },
   "cell_type": "markdown",
   "id": "7ebbf566",
   "metadata": {
    "jp-MarkdownHeadingCollapsed": true,
    "papermill": {
     "duration": 0.042102,
     "end_time": "2024-11-27T00:45:17.892326",
     "exception": false,
     "start_time": "2024-11-27T00:45:17.850224",
     "status": "completed"
    },
    "tags": []
   },
   "source": [
    "### Closed-form solution"
   ]
  },
  {
   "attachments": {
    "56571edd-e82b-48f7-9164-6d77fb0ad674.png": {
     "image/png": "[encoded data removed]"
    },
    "65cd04ae-1b25-47a9-999d-283d81088233.png": {
     "image/png": "[encoded data removed]"
    },
    "ae4660d6-195a-47dd-8812-f727143959d0.png": {
     "image/png": "[encoded data removed]"
    },
    "f6807495-abfc-4de7-b7cb-5de0fc6b5e95.png": {
     "image/png": "[encoded data removed]"
    }
   },
   "cell_type": "markdown",
   "id": "0f664108",
   "metadata": {
    "papermill": {
     "duration": 0.01372,
     "end_time": "2024-11-27T00:45:17.924016",
     "exception": false,
     "start_time": "2024-11-27T00:45:17.910296",
     "status": "completed"
    },
    "tags": []
   },
   "source": [
    "### Gradient descent "
   ]
  },
  {
   "cell_type": "markdown",
   "id": "17226ad5",
   "metadata": {
    "papermill": {
     "duration": 0.013578,
     "end_time": "2024-11-27T00:45:17.952053",
     "exception": false,
     "start_time": "2024-11-27T00:45:17.938475",
     "status": "completed"
    },
    "tags": []
   },
   "source": [
    "## Ridge Regression"
   ]
  },
  {
   "cell_type": "markdown",
   "id": "0c0ec371",
   "metadata": {
    "papermill": {
     "duration": 0.013391,
     "end_time": "2024-11-27T00:45:17.979393",
     "exception": false,
     "start_time": "2024-11-27T00:45:17.966002",
     "status": "completed"
    },
    "tags": []
   },
   "source": [
    "#\n",
    "$$\n",
    "\\mathbf{w} = \\|\\mathbf{y} - \\mathbf{X}\\mathbf{w}\\|^2 + \\lambda \\|\\mathbf{w}\\|^2\n",
    "$$\n",
    "\n",
    "- lambda is the scalar that gives the importance of the regulization term.\n",
    "- In code we use alpha term istead of lambda, because lambda is a reserved keyword  "
   ]
  },
  {
   "cell_type": "code",
   "execution_count": 20,
   "id": "5ed77980",
   "metadata": {
    "execution": {
     "iopub.execute_input": "2024-11-27T00:45:18.008522Z",
     "iopub.status.busy": "2024-11-27T00:45:18.008124Z",
     "iopub.status.idle": "2024-11-27T00:45:18.408190Z",
     "shell.execute_reply": "2024-11-27T00:45:18.406037Z"
    },
    "papermill": {
     "duration": 0.421063,
     "end_time": "2024-11-27T00:45:18.413681",
     "exception": false,
     "start_time": "2024-11-27T00:45:17.992618",
     "status": "completed"
    },
    "tags": []
   },
   "outputs": [
    {
     "data": {
      "image/png": "[encoded data removed]",
      "text/plain": [
       "<Figure size 800x600 with 1 Axes>"
      ]
     },
     "metadata": {},
     "output_type": "display_data"
    },
    {
     "name": "stdout",
     "output_type": "stream",
     "text": [
      "Best value for lambda is: 148.49682622544634\n",
      "Test Mean Squared Error: 5602608999.037729\n",
      "Test R^2 Score: 0.460606993479751\n"
     ]
    }
   ],
   "source": [
    "import numpy as np\n",
    "from sklearn.metrics import mean_squared_error, r2_score\n",
    "\n",
    "\n",
    "def ridge_fit(X,y,alpha):\n",
    "    # X.shape[0] returns number of rows\n",
    "    # X.shape[1] returns number of columns \n",
    "\n",
    "    # Add bias colum to the data matrix \n",
    "    X = np.c_[np.ones((X.shape[0], 1)), X]\n",
    "\n",
    "    numOfFeatures = X.shape[1] \n",
    "\n",
    "    # Create an identity matrix \n",
    "    I = np.identity(numOfFeatures)\n",
    "    # Execlude the bias feature from regularization\n",
    "    I[0,0] = 0\n",
    "\n",
    "    # Solution to ridge regression \n",
    "    weights = np.linalg.inv(X.T.dot(X) + (alpha * I)).dot(X.T).dot(y)\n",
    "\n",
    "    return  weights\n",
    "\n",
    "def ridge_predict(X, weights):\n",
    "\n",
    "    X = np.c_[np.ones((X.shape[0], 1)), X]  # Add bias feature (b = 1)\n",
    "    return X.dot(weights) \n",
    "\n",
    "\n",
    "# Grid search to find the best value of lambda \n",
    "def best_lambda (X_train, y_train, X_val, y_val):\n",
    "    \n",
    "    lambdaValues = np.logspace(-5,5,100) # test values from 10^-5 to 10^5 \n",
    "    MSE_Values = [] \n",
    "\n",
    "    for l in lambdaValues: \n",
    "\n",
    "        # perfom training on the train data \n",
    "        weights = ridge_fit(X_train, y_train, l)\n",
    "        \n",
    "        # perform prediction on the validation data \n",
    "        prediction = ridge_predict(X_val,weights)\n",
    "        \n",
    "        # Caluclate the mean squared error \n",
    "        MSE_error = mean_squared_error(y_val, prediction)\n",
    "        MSE_Values.append(MSE_error)\n",
    "        \n",
    "    # find the index of the lowest mean squared error\n",
    "    index = np.argmin(MSE_Values)\n",
    "\n",
    "    best_value = lambdaValues[index]\n",
    "    # Plot the relation between lambda and the mean squared error on the validation set\n",
    "    plt.figure(figsize=(8, 6))\n",
    "    plt.plot(np.log10(lambdaValues), MSE_Values, label='Mean squared error on validation set')\n",
    "    plt.axvline(np.log10(best_value), color='r', linestyle='--', label=f'Best λ = {best_value:.2e}')\n",
    "    plt.xlabel('log10( λ)')\n",
    "    plt.ylabel('MSE')\n",
    "    plt.title('MSE vs. log10( λ)')\n",
    "    plt.legend()\n",
    "    plt.show()\n",
    "\n",
    "    print(f\"Best value for lambda is: {best_value}\")\n",
    "    return best_value \n",
    "        \n",
    "# Define features (X) and target (y) for training, validation, and test sets\n",
    "X_train = train_data.drop(columns=['car name', 'price'])  \n",
    "#,'country_egypt','country_ksa','country_kuwait','country_uae','country_qatar','country_oman'\n",
    "y_train = train_data['price']\n",
    "\n",
    "\n",
    "\n",
    "X_val = val_data.drop(columns=['car name', 'price'])  # Drop 'id' and 'target' columns\n",
    "y_val = val_data['price']\n",
    "\n",
    "\n",
    "\n",
    "X_test = test_data.drop(columns=['car name', 'price'])  # Drop 'id' and 'target' columns\n",
    "y_test = test_data['price']\n",
    "\n",
    "\n",
    "alpha = best_lambda (X_train.values, y_train.values, X_val.values, y_val.values)\n",
    "\n",
    "w = ridge_fit(X_train.values,y_train.values,alpha)\n",
    "predictions = ridge_predict(X_test.values, w)\n",
    "\n",
    "results = pd.DataFrame({\n",
    "    'Original': y_test.values,\n",
    "    'Predicted': predictions\n",
    "})\n",
    "\n",
    "mse_test = mean_squared_error(y_test, predictions)\n",
    "r2_test = r2_score(y_test,predictions)\n",
    "\n",
    "\n",
    "print(f\"Test Mean Squared Error: {mse_test}\")\n",
    "print(f\"Test R^2 Score: {r2_test}\")\n",
    "\n",
    "# Save the results to a CSV file\n",
    "results.to_csv('predictions.csv', index=False)"
   ]
  },
  {
   "cell_type": "markdown",
   "id": "ffb9e366",
   "metadata": {
    "papermill": {
     "duration": 0.025634,
     "end_time": "2024-11-27T00:45:18.465946",
     "exception": false,
     "start_time": "2024-11-27T00:45:18.440312",
     "status": "completed"
    },
    "tags": []
   },
   "source": [
    "## LASSO Regression"
   ]
  },
  {
   "cell_type": "code",
   "execution_count": 21,
   "id": "d3b43937",
   "metadata": {
    "execution": {
     "iopub.execute_input": "2024-11-27T00:45:18.520129Z",
     "iopub.status.busy": "2024-11-27T00:45:18.519315Z",
     "iopub.status.idle": "2024-11-27T00:45:20.850824Z",
     "shell.execute_reply": "2024-11-27T00:45:20.849405Z"
    },
    "papermill": {
     "duration": 2.364512,
     "end_time": "2024-11-27T00:45:20.857041",
     "exception": false,
     "start_time": "2024-11-27T00:45:18.492529",
     "status": "completed"
    },
    "tags": []
   },
   "outputs": [
    {
     "name": "stdout",
     "output_type": "stream",
     "text": [
      "On the validation set: \n",
      "\n",
      "Mean square error =9094615712.62, Mean absoluter error = 29145.46, and R-ssquared = 0.39\n",
      "On the test set: \n",
      "\n",
      "Mean square error =5647574070.39, Mean absoluter error = 28299.07, and R-ssquared = 0.46\n"
     ]
    }
   ],
   "source": [
    "from sklearn.linear_model import Lasso\n",
    "from sklearn.metrics import mean_squared_error, r2_score\n",
    "from sklearn.model_selection import GridSearchCV \n",
    "from sklearn.metrics import mean_absolute_error\n",
    "\n",
    "lasso = Lasso()\n",
    "\n",
    "# Define differnt values of alpha to find the best value \n",
    "parameter_values  = {'alpha': [0.0001,0.001, 0.001, 0.01, 1, 10, 100, 1000]}\n",
    "\n",
    "# apply grid search to find the best value for the parameter alpha\n",
    "lasso = GridSearchCV(lasso, parameter_values, cv = 10, n_jobs = -1)\n",
    "\n",
    "lasso.fit(X_train, y_train)\n",
    "\n",
    "# Evaluate the model on the validation set  \n",
    "\n",
    "y_val_predected =lasso.predict(X_val)\n",
    "mse1 = mean_squared_error(y_val, y_val_predected)\n",
    "mae1 = mean_absolute_error(y_val, y_val_predected)\n",
    "r_squared1 = r2_score(y_val, y_val_predected)\n",
    "\n",
    "# Evaluate the model on the test set  \n",
    "\n",
    "y_test_predected = lasso.predict(X_test)\n",
    "mse2 = mean_squared_error(y_test, y_test_predected)\n",
    "mae2 = mean_absolute_error(y_test, y_test_predected)\n",
    "r_squared2 = r2_score(y_test, y_test_predected)\n",
    "\n",
    "# print the results \n",
    "print(\"On the validation set: \\n\")\n",
    "print(f\"Mean square error ={round(mse1,2)}, Mean absoluter error = {round(mae1,2)}, and R-ssquared = {round(r_squared1,2)}\")\n",
    "\n",
    "print(\"On the test set: \\n\")\n",
    "print(f\"Mean square error ={round(mse2,2)}, Mean absoluter error = {round(mae2,2)}, and R-ssquared = {round(r_squared2,2)}\")"
   ]
  },
  {
   "cell_type": "markdown",
   "id": "3919866d",
   "metadata": {
    "papermill": {
     "duration": 0.026444,
     "end_time": "2024-11-27T00:45:20.910799",
     "exception": false,
     "start_time": "2024-11-27T00:45:20.884355",
     "status": "completed"
    },
    "tags": []
   },
   "source": [
    "## Polynomial Regression"
   ]
  },
  {
   "cell_type": "code",
   "execution_count": 22,
   "id": "4d843c6a",
   "metadata": {
    "execution": {
     "iopub.execute_input": "2024-11-27T00:45:20.966831Z",
     "iopub.status.busy": "2024-11-27T00:45:20.965943Z",
     "iopub.status.idle": "2024-11-27T00:45:29.710542Z",
     "shell.execute_reply": "2024-11-27T00:45:29.706749Z"
    },
    "papermill": {
     "duration": 8.778116,
     "end_time": "2024-11-27T00:45:29.715411",
     "exception": false,
     "start_time": "2024-11-27T00:45:20.937295",
     "status": "completed"
    },
    "tags": []
   },
   "outputs": [
    {
     "name": "stdout",
     "output_type": "stream",
     "text": [
      "On the validation set: \n",
      "\n",
      "Mean square error =2.9003048360951703e+20, Mean absoluter error = 603855316.31, and R-ssquared = -19508830584.04\n",
      "On the test set: \n",
      "\n",
      "Mean square error =17165978274758.22, Mean absoluter error = 933124.64, and R-ssquared = -1651.66\n"
     ]
    }
   ],
   "source": [
    "from sklearn.preprocessing import PolynomialFeatures\n",
    "from sklearn.linear_model import LinearRegression\n",
    "\n",
    "\n",
    "\n",
    "polynomial_features = PolynomialFeatures(degree=5)\n",
    "X_poly = polynomial_features.fit_transform(X_train)\n",
    "\n",
    "linearReg = LinearRegression()\n",
    "\n",
    "linearReg.fit (X_poly, y_train)\n",
    "              \n",
    "X_val_poly = polynomial_features.fit_transform(X_val)\n",
    "y_val_predicted = linearReg.predict(X_val_poly)\n",
    "\n",
    "mse1 = mean_squared_error(y_val, y_val_predicted)\n",
    "mae1 = mean_absolute_error(y_val, y_val_predicted)\n",
    "r_squared1 = r2_score(y_val, y_val_predicted)\n",
    "\n",
    "X_test_poly = polynomial_features.fit_transform(X_test)\n",
    "y_test_predicted = linearReg.predict (X_test_poly)\n",
    "\n",
    "mse2 = mean_squared_error(y_test, y_test_predicted)\n",
    "mae2 = mean_absolute_error(y_test, y_test_predicted)\n",
    "r_squared2 = r2_score(y_test, y_test_predicted)\n",
    "\n",
    "\n",
    "# print the results \n",
    "print(\"On the validation set: \\n\")\n",
    "print(f\"Mean square error ={round(mse1,2)}, Mean absoluter error = {round(mae1,2)}, and R-ssquared = {round(r_squared1,2)}\")\n",
    "\n",
    "print(\"On the test set: \\n\")\n",
    "print(f\"Mean square error ={round(mse2,2)}, Mean absoluter error = {round(mae2,2)}, and R-ssquared = {round(r_squared2,2)}\")"
   ]
  }
 ],
 "metadata": {
  "kaggle": {
   "accelerator": "none",
   "dataSources": [
    {
     "datasetId": 5759570,
     "sourceId": 9471001,
     "sourceType": "datasetVersion"
    }
   ],
   "dockerImageVersionId": 30786,
   "isGpuEnabled": false,
   "isInternetEnabled": false,
   "language": "python",
   "sourceType": "notebook"
  },
  "kernelspec": {
   "display_name": "Python 3",
   "language": "python",
   "name": "python3"
  },
  "language_info": {
   "codemirror_mode": {
    "name": "ipython",
    "version": 3
   },
   "file_extension": ".py",
   "mimetype": "text/x-python",
   "name": "python",
   "nbconvert_exporter": "python",
   "pygments_lexer": "ipython3",
   "version": "3.10.14"
  },
  "papermill": {
   "default_parameters": {},
   "duration": 24.916674,
   "end_time": "2024-11-27T00:45:32.371184",
   "environment_variables": {},
   "exception": null,
   "input_path": "__notebook__.ipynb",
   "output_path": "__notebook__.ipynb",
   "parameters": {},
   "start_time": "2024-11-27T00:45:07.454510",
   "version": "2.6.0"
  }
 },
 "nbformat": 4,
 "nbformat_minor": 5
}
