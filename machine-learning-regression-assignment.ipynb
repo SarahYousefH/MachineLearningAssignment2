{
 "cells": [
  {
   "cell_type": "markdown",
   "id": "581f9070",
   "metadata": {
    "papermill": {
     "duration": 0.01271,
     "end_time": "2024-11-23T23:49:19.845263",
     "exception": false,
     "start_time": "2024-11-23T23:49:19.832553",
     "status": "completed"
    },
    "tags": []
   },
   "source": [
    "# 1. Project Overview"
   ]
  },
  {
   "cell_type": "markdown",
   "id": "b475faaf",
   "metadata": {
    "papermill": {
     "duration": 0.010496,
     "end_time": "2024-11-23T23:49:19.867922",
     "exception": false,
     "start_time": "2024-11-23T23:49:19.857426",
     "status": "completed"
    },
    "tags": []
   },
   "source": [
    "hiiiii"
   ]
  },
  {
   "cell_type": "markdown",
   "id": "333356da",
   "metadata": {
    "papermill": {
     "duration": 0.010454,
     "end_time": "2024-11-23T23:49:19.889588",
     "exception": false,
     "start_time": "2024-11-23T23:49:19.879134",
     "status": "completed"
    },
    "tags": []
   },
   "source": [
    "## Main Objective "
   ]
  },
  {
   "cell_type": "markdown",
   "id": "a1751a1a",
   "metadata": {
    "papermill": {
     "duration": 0.010512,
     "end_time": "2024-11-23T23:49:19.910696",
     "exception": false,
     "start_time": "2024-11-23T23:49:19.900184",
     "status": "completed"
    },
    "tags": []
   },
   "source": [
    "The objective of this project is to:\n",
    "\n",
    "\n",
    "\n",
    "* Build a series of regression models using the provided dataset\n",
    "\n",
    "* Evaluate and compare different models performance\n",
    "\n",
    "* Apply various techniques to improve model accuracy and prevent overfitting.\n",
    "\n",
    "\n",
    "\n",
    "\n",
    "\n",
    "The focus will be on both **linear** and **nonlinear** regression models. \n",
    "\n",
    "In addition this project will also use **feature selection methods** and **regularization techniques**, followed by **hyperparameter tuning**, to select the optimal model.\n"
   ]
  },
  {
   "cell_type": "markdown",
   "id": "245f0c34",
   "metadata": {
    "papermill": {
     "duration": 0.01036,
     "end_time": "2024-11-23T23:49:19.931642",
     "exception": false,
     "start_time": "2024-11-23T23:49:19.921282",
     "status": "completed"
    },
    "tags": []
   },
   "source": [
    "## Data Set Description"
   ]
  },
  {
   "cell_type": "markdown",
   "id": "94618487",
   "metadata": {
    "papermill": {
     "duration": 0.010395,
     "end_time": "2024-11-23T23:49:19.952618",
     "exception": false,
     "start_time": "2024-11-23T23:49:19.942223",
     "status": "completed"
    },
    "tags": []
   },
   "source": [
    "This dataset includes around 6,750 rows and 9 columns. It’s well-suited for Exploratory Data\r\n",
    "Analysis (EDA) and machine learning tasks, particularly for predictive modeling using\r\n",
    "algorithms like Linear Regression. \n",
    "\n",
    "\n",
    "\n",
    "The main objective of this dataset is to **predict car prices**, making it ideal for developing regression models to understand the relationship between various features and **the target variable (car price)**.\n",
    "\n",
    "\n"
   ]
  },
  {
   "cell_type": "markdown",
   "id": "74b58a7e",
   "metadata": {
    "papermill": {
     "duration": 0.010742,
     "end_time": "2024-11-23T23:49:19.975125",
     "exception": false,
     "start_time": "2024-11-23T23:49:19.964383",
     "status": "completed"
    },
    "tags": []
   },
   "source": [
    "The table below describes the dataset columns:\n",
    "\n",
    "\n",
    "\n",
    "| **Column**         | **Description**                              | **Measurement Level** |\n",
    "\n",
    "|---------------------|----------------------------------------------|-----------------------|\n",
    "\n",
    "| Car Name           | The name of the car                          | Nominal               |\n",
    "\n",
    "| Price              | The price of the car                         | Numeric               |\n",
    "\n",
    "| Engine Capacity    | The car engine capacity                      | Numeric               |\n",
    "\n",
    "| Cylinder           | The car cylinder power                       | Numeric               |\n",
    "\n",
    "| Horse Power        | The car horse power                          | Numeric               |\n",
    "\n",
    "| Top Speed          | The car top speed                            | Numeric               |\n",
    "\n",
    "| Seats              | Number of seats in the car                   | Numeric               |\n",
    "\n",
    "| Brand              | The car brand                                | Nominal               |\n",
    "\n",
    "| Country            | The country where the site sells this car    | Nominal               |\n"
   ]
  },
  {
   "cell_type": "markdown",
   "id": "9e3622bb",
   "metadata": {
    "papermill": {
     "duration": 0.010512,
     "end_time": "2024-11-23T23:49:19.996481",
     "exception": false,
     "start_time": "2024-11-23T23:49:19.985969",
     "status": "completed"
    },
    "tags": []
   },
   "source": [
    "# 2. Data Preprocessing "
   ]
  },
  {
   "cell_type": "markdown",
   "id": "0f0897e4",
   "metadata": {
    "papermill": {
     "duration": 0.010639,
     "end_time": "2024-11-23T23:49:20.019172",
     "exception": false,
     "start_time": "2024-11-23T23:49:20.008533",
     "status": "completed"
    },
    "tags": []
   },
   "source": [
    "## First: Import Dataset"
   ]
  },
  {
   "cell_type": "markdown",
   "id": "63c9b44d",
   "metadata": {
    "papermill": {
     "duration": 0.010881,
     "end_time": "2024-11-23T23:49:20.040670",
     "exception": false,
     "start_time": "2024-11-23T23:49:20.029789",
     "status": "completed"
    },
    "tags": []
   },
   "source": [
    "The code below is responsible for importing data and also displaying quick describtion:"
   ]
  },
  {
   "cell_type": "code",
   "execution_count": 1,
   "id": "69447245",
   "metadata": {
    "_cell_guid": "b1076dfc-b9ad-4769-8c92-a6c4dae69d19",
    "_uuid": "8f2839f25d086af736a60e9eeb907d3b93b6e0e5",
    "execution": {
     "iopub.execute_input": "2024-11-23T23:49:20.064057Z",
     "iopub.status.busy": "2024-11-23T23:49:20.063663Z",
     "iopub.status.idle": "2024-11-23T23:49:22.678991Z",
     "shell.execute_reply": "2024-11-23T23:49:22.677882Z"
    },
    "papermill": {
     "duration": 2.630115,
     "end_time": "2024-11-23T23:49:22.681506",
     "exception": false,
     "start_time": "2024-11-23T23:49:20.051391",
     "status": "completed"
    },
    "tags": []
   },
   "outputs": [
    {
     "name": "stdout",
     "output_type": "stream",
     "text": [
      "/kaggle/input/cars-dataset/cars.csv\n",
      "successfully imported the dataset\n"
     ]
    }
   ],
   "source": [
    "import os\n",
    "\n",
    "import numpy as np\n",
    "\n",
    "import pandas as pd\n",
    "\n",
    "import matplotlib.pyplot as plt\n",
    "\n",
    "import seaborn as sns\n",
    "\n",
    "\n",
    "\n",
    "for dirname, _, filenames in os.walk('/kaggle/input'):\n",
    "\n",
    "    for filename in filenames:\n",
    "\n",
    "        print(os.path.join(dirname, filename))\n",
    "\n",
    "        \n",
    "\n",
    "df=pd.read_csv('/kaggle/input/cars-dataset/cars.csv')\n",
    "\n",
    "print ('successfully imported the dataset')"
   ]
  },
  {
   "cell_type": "code",
   "execution_count": 2,
   "id": "11bbe72f",
   "metadata": {
    "execution": {
     "iopub.execute_input": "2024-11-23T23:49:22.705169Z",
     "iopub.status.busy": "2024-11-23T23:49:22.704742Z",
     "iopub.status.idle": "2024-11-23T23:49:22.752213Z",
     "shell.execute_reply": "2024-11-23T23:49:22.751019Z"
    },
    "papermill": {
     "duration": 0.061883,
     "end_time": "2024-11-23T23:49:22.754415",
     "exception": false,
     "start_time": "2024-11-23T23:49:22.692532",
     "status": "completed"
    },
    "tags": []
   },
   "outputs": [
    {
     "data": {
      "text/html": [
       "<div>\n",
       "<style scoped>\n",
       "    .dataframe tbody tr th:only-of-type {\n",
       "        vertical-align: middle;\n",
       "    }\n",
       "\n",
       "    .dataframe tbody tr th {\n",
       "        vertical-align: top;\n",
       "    }\n",
       "\n",
       "    .dataframe thead th {\n",
       "        text-align: right;\n",
       "    }\n",
       "</style>\n",
       "<table border=\"1\" class=\"dataframe\">\n",
       "  <thead>\n",
       "    <tr style=\"text-align: right;\">\n",
       "      <th></th>\n",
       "      <th>car name</th>\n",
       "      <th>price</th>\n",
       "      <th>engine_capacity</th>\n",
       "      <th>cylinder</th>\n",
       "      <th>horse_power</th>\n",
       "      <th>top_speed</th>\n",
       "      <th>seats</th>\n",
       "      <th>brand</th>\n",
       "      <th>country</th>\n",
       "    </tr>\n",
       "  </thead>\n",
       "  <tbody>\n",
       "    <tr>\n",
       "      <th>count</th>\n",
       "      <td>6308</td>\n",
       "      <td>6308</td>\n",
       "      <td>6308</td>\n",
       "      <td>5684</td>\n",
       "      <td>6308</td>\n",
       "      <td>6308</td>\n",
       "      <td>6308</td>\n",
       "      <td>6308</td>\n",
       "      <td>6308</td>\n",
       "    </tr>\n",
       "    <tr>\n",
       "      <th>unique</th>\n",
       "      <td>2546</td>\n",
       "      <td>3395</td>\n",
       "      <td>129</td>\n",
       "      <td>10</td>\n",
       "      <td>330</td>\n",
       "      <td>169</td>\n",
       "      <td>82</td>\n",
       "      <td>82</td>\n",
       "      <td>7</td>\n",
       "    </tr>\n",
       "    <tr>\n",
       "      <th>top</th>\n",
       "      <td>Mercedes-Benz C-Class 2022 C 300</td>\n",
       "      <td>TBD</td>\n",
       "      <td>2.0</td>\n",
       "      <td>4</td>\n",
       "      <td>150</td>\n",
       "      <td>250</td>\n",
       "      <td>5 Seater</td>\n",
       "      <td>mercedes-benz</td>\n",
       "      <td>uae</td>\n",
       "    </tr>\n",
       "    <tr>\n",
       "      <th>freq</th>\n",
       "      <td>10</td>\n",
       "      <td>437</td>\n",
       "      <td>1241</td>\n",
       "      <td>2856</td>\n",
       "      <td>162</td>\n",
       "      <td>1100</td>\n",
       "      <td>3471</td>\n",
       "      <td>560</td>\n",
       "      <td>1248</td>\n",
       "    </tr>\n",
       "  </tbody>\n",
       "</table>\n",
       "</div>"
      ],
      "text/plain": [
       "                                car name price engine_capacity cylinder  \\\n",
       "count                               6308  6308            6308     5684   \n",
       "unique                              2546  3395             129       10   \n",
       "top     Mercedes-Benz C-Class 2022 C 300   TBD             2.0        4   \n",
       "freq                                  10   437            1241     2856   \n",
       "\n",
       "       horse_power top_speed     seats          brand country  \n",
       "count         6308      6308      6308           6308    6308  \n",
       "unique         330       169        82             82       7  \n",
       "top            150       250  5 Seater  mercedes-benz     uae  \n",
       "freq           162      1100      3471            560    1248  "
      ]
     },
     "execution_count": 2,
     "metadata": {},
     "output_type": "execute_result"
    }
   ],
   "source": [
    "df.describe()"
   ]
  },
  {
   "cell_type": "markdown",
   "id": "f71b9b4d",
   "metadata": {
    "papermill": {
     "duration": 0.010844,
     "end_time": "2024-11-23T23:49:22.776775",
     "exception": false,
     "start_time": "2024-11-23T23:49:22.765931",
     "status": "completed"
    },
    "tags": []
   },
   "source": [
    "In order to understand the data further below we count the number of unique values in each column and their frequency:"
   ]
  },
  {
   "cell_type": "code",
   "execution_count": 3,
   "id": "6326d6e7",
   "metadata": {
    "execution": {
     "iopub.execute_input": "2024-11-23T23:49:22.801129Z",
     "iopub.status.busy": "2024-11-23T23:49:22.800688Z",
     "iopub.status.idle": "2024-11-23T23:49:22.822601Z",
     "shell.execute_reply": "2024-11-23T23:49:22.821478Z"
    },
    "papermill": {
     "duration": 0.037574,
     "end_time": "2024-11-23T23:49:22.825531",
     "exception": false,
     "start_time": "2024-11-23T23:49:22.787957",
     "status": "completed"
    },
    "tags": []
   },
   "outputs": [
    {
     "name": "stdout",
     "output_type": "stream",
     "text": [
      "Name: car name dtype: object\n",
      "\n",
      "car name\n",
      "Mercedes-Benz C-Class 2022 C 300                          10\n",
      "Fiat 500e 2021 La Prima                                    7\n",
      "Porsche 911 2021 Carrera S Cabriolet                       7\n",
      "Porsche 911 2021 Carrera 4S                                7\n",
      "Kia Rio Sedan 2021 1.6L MPI                                7\n",
      "                                                          ..\n",
      "Jaguar F-Type Convertible 2021 2.0T R-Dynamic (300 PS)     1\n",
      "Hyundai Kona 2021 1.6L T-GDI GLS Premium (AWD)             1\n",
      "Chevrolet Trax 2021 1.8L Premier AWD                       1\n",
      "Jaguar XF 2021 3.0 V6 SC R Sport                           1\n",
      "Lamborghini Aventador Ultimae 2022 LP 780-4                1\n",
      "Name: count, Length: 2546, dtype: int64\n",
      "\n",
      "----------------------------------------------------------------------------------------------------\n",
      "\n",
      "\n",
      "Name: price dtype: object\n",
      "\n",
      "price\n",
      "TBD               437\n",
      "Following         238\n",
      "DISCONTINUED      140\n",
      "Follow             27\n",
      "Grigio Maratea     23\n",
      "                 ... \n",
      "BHD 23,900          1\n",
      "BHD 24,300          1\n",
      "BHD 24,100          1\n",
      "BHD 24,700          1\n",
      "AED 1,650,000       1\n",
      "Name: count, Length: 3395, dtype: int64\n",
      "\n",
      "----------------------------------------------------------------------------------------------------\n",
      "\n",
      "\n",
      "Name: engine_capacity dtype: object\n",
      "\n",
      "engine_capacity\n",
      "2.0     1241\n",
      "3.0      703\n",
      "3.5      359\n",
      "1.5      347\n",
      "4.0      340\n",
      "        ... \n",
      "3342       1\n",
      "2476       1\n",
      "4400       1\n",
      "3470       1\n",
      "1595       1\n",
      "Name: count, Length: 129, dtype: int64\n",
      "\n",
      "----------------------------------------------------------------------------------------------------\n",
      "\n",
      "\n",
      "Name: cylinder dtype: object\n",
      "\n",
      "cylinder\n",
      "4                2856\n",
      "6                1480\n",
      "8                 924\n",
      "3                 139\n",
      "12                136\n",
      "N/A, Electric     107\n",
      "10                 21\n",
      "5                  17\n",
      "Drive Type          3\n",
      "16                  1\n",
      "Name: count, dtype: int64\n",
      "\n",
      "----------------------------------------------------------------------------------------------------\n",
      "\n",
      "\n",
      "Name: horse_power dtype: object\n",
      "\n",
      "horse_power\n",
      "150    162\n",
      "355    116\n",
      "400    111\n",
      "184    109\n",
      "300    103\n",
      "      ... \n",
      "87       1\n",
      "126      1\n",
      "394      1\n",
      "236      1\n",
      "720      1\n",
      "Name: count, Length: 330, dtype: int64\n",
      "\n",
      "----------------------------------------------------------------------------------------------------\n",
      "\n",
      "\n",
      "Name: top_speed dtype: object\n",
      "\n",
      "top_speed\n",
      "250    1100\n",
      "180     410\n",
      "200     392\n",
      "170     332\n",
      "190     294\n",
      "       ... \n",
      "600       1\n",
      "130       1\n",
      "966       1\n",
      "262       1\n",
      "324       1\n",
      "Name: count, Length: 169, dtype: int64\n",
      "\n",
      "----------------------------------------------------------------------------------------------------\n",
      "\n",
      "\n",
      "Name: seats dtype: object\n",
      "\n",
      "seats\n",
      "5 Seater    3471\n",
      "4 Seater     847\n",
      "7 Seater     532\n",
      "2 Seater     428\n",
      "8 Seater     211\n",
      "            ... \n",
      "24.1           1\n",
      "12.3           1\n",
      "230            1\n",
      "220            1\n",
      "2.8            1\n",
      "Name: count, Length: 82, dtype: int64\n",
      "\n",
      "----------------------------------------------------------------------------------------------------\n",
      "\n",
      "\n",
      "Name: brand dtype: object\n",
      "\n",
      "brand\n",
      "mercedes-benz    560\n",
      "audi             398\n",
      "bmw              394\n",
      "toyota           378\n",
      "ford             323\n",
      "                ... \n",
      "tata               2\n",
      "soueast            2\n",
      "byd                2\n",
      "dfm                1\n",
      "bugatti            1\n",
      "Name: count, Length: 82, dtype: int64\n",
      "\n",
      "----------------------------------------------------------------------------------------------------\n",
      "\n",
      "\n",
      "Name: country dtype: object\n",
      "\n",
      "country\n",
      "uae        1248\n",
      "ksa         996\n",
      "kuwait      932\n",
      "qatar       925\n",
      "oman        910\n",
      "bahrain     906\n",
      "egypt       391\n",
      "Name: count, dtype: int64\n",
      "\n",
      "----------------------------------------------------------------------------------------------------\n",
      "\n",
      "\n"
     ]
    }
   ],
   "source": [
    "for col in df.columns:  # Iterate over column names in the DataFrame\n",
    "\n",
    "    # Print the name of the column and its type\n",
    "\n",
    "    print(f'Name: {col} dtype: {df[col].dtype}\\n')\n",
    "\n",
    "    # Print each unique value with its frequency\n",
    "\n",
    "    print(f'{df[col].value_counts()}\\n')\n",
    "\n",
    "    # Print a separator\n",
    "\n",
    "    print(('-' * 100) + '\\n\\n')"
   ]
  },
  {
   "cell_type": "markdown",
   "id": "7dd585f4",
   "metadata": {
    "papermill": {
     "duration": 0.01103,
     "end_time": "2024-11-23T23:49:22.847932",
     "exception": false,
     "start_time": "2024-11-23T23:49:22.836902",
     "status": "completed"
    },
    "tags": []
   },
   "source": [
    "#### What can we notice from each column?\n",
    "\n",
    "1. The column car name serves as an identifier and not missing for any of the cars and so no more processing needed.\n",
    "\n",
    "2. The price is listed in different currency. Further, some are (TBD, Following, Discountinued), these entries need to be removed for Linear regression because missing target values make it impossible to calculate the error or fit the model properly.\n",
    "\n",
    "3. The engine capacity is not standard some are denoted in liters as (1.4, 2.6) and others are in cubic centimeters like (1,400) and these need to be standraized\n",
    "\n",
    "4. The cyclinder column has N/A values for electric cars, because the do not have cyclinders and this needs to be handled. Also some are as (Single or Double) that needs to be handled.\n",
    "\n",
    "5. the top speed column has some incorrect entries(like 4 Seaters ) and this is incorrect and need to be handled. Further some values are (automatic or N A) and these needs to be addressed.\n",
    "\n",
    "6. The seats column has some incorrrect entries , either floats or too large entries like 150.\n",
    "\n",
    "7. The brand and country is correctly entered for all.\n"
   ]
  },
  {
   "cell_type": "markdown",
   "id": "6f69b43b",
   "metadata": {
    "papermill": {
     "duration": 0.010781,
     "end_time": "2024-11-23T23:49:22.870240",
     "exception": false,
     "start_time": "2024-11-23T23:49:22.859459",
     "status": "completed"
    },
    "tags": []
   },
   "source": [
    "## Second: Data Cleaning\n",
    "\n",
    "\n",
    "\n",
    "In this part we want to perform the following:\n",
    "\n",
    "\n",
    "\n",
    "\n",
    "\n",
    "* Handle missing values\n",
    "\n",
    "* Handle incorrect entries or values\n",
    "\n",
    "* Encoding categorical features (if applicaple)\n",
    "\n",
    "* Normalize or standardize numerical features (if necessary)\n",
    "\n",
    "* Split the dataset into: 60% for training, 20% for validation, and 20% for testing\n"
   ]
  },
  {
   "cell_type": "markdown",
   "id": "fc07ab10",
   "metadata": {
    "papermill": {
     "duration": 0.010981,
     "end_time": "2024-11-23T23:49:22.892453",
     "exception": false,
     "start_time": "2024-11-23T23:49:22.881472",
     "status": "completed"
    },
    "tags": []
   },
   "source": [
    "### Handle missing values\n",
    "\n",
    "\n",
    "\n",
    "We want to start by removing any missing values from the data set:"
   ]
  },
  {
   "cell_type": "code",
   "execution_count": 4,
   "id": "a4ef85e4",
   "metadata": {
    "execution": {
     "iopub.execute_input": "2024-11-23T23:49:22.917084Z",
     "iopub.status.busy": "2024-11-23T23:49:22.916680Z",
     "iopub.status.idle": "2024-11-23T23:49:22.942328Z",
     "shell.execute_reply": "2024-11-23T23:49:22.941036Z"
    },
    "papermill": {
     "duration": 0.040619,
     "end_time": "2024-11-23T23:49:22.944590",
     "exception": false,
     "start_time": "2024-11-23T23:49:22.903971",
     "status": "completed"
    },
    "tags": []
   },
   "outputs": [
    {
     "name": "stdout",
     "output_type": "stream",
     "text": [
      "Rows before removal: 6308\n",
      "Rows after removal: 5493\n"
     ]
    }
   ],
   "source": [
    "def remove_missing_price(df):\n",
    "\n",
    "    \"\"\"\n",
    "\n",
    "    Removes rows where the 'price' column is missing (NaN or contains specific keywords).\n",
    "\n",
    "    Displays the number of rows before and after removal.\n",
    "\n",
    "    \"\"\"\n",
    "\n",
    "    print(f'Rows before removal: {len(df)}')\n",
    "\n",
    "\n",
    "\n",
    "    # Define missing keywords to check within the 'price' column\n",
    "\n",
    "    missing_keywords = ['TBD', 'N A', 'Following', 'DISCONTINUED']\n",
    "\n",
    "\n",
    "\n",
    "    # Remove rows where 'price' is NaN\n",
    "\n",
    "    df = df.dropna(subset=['price'])\n",
    "\n",
    "\n",
    "\n",
    "    # Remove rows in the 'price' column that contain any of the missing keywords\n",
    "\n",
    "    df = df[~df['price'].astype(str).str.contains('|'.join(missing_keywords), case=False, na=False)]\n",
    "\n",
    "\n",
    "\n",
    "    print(f'Rows after removal: {len(df)}')\n",
    "\n",
    "\n",
    "\n",
    "    return df\n",
    "\n",
    "\n",
    "\n",
    "# Apply the function\n",
    "\n",
    "df = remove_missing_price(df)\n"
   ]
  },
  {
   "cell_type": "code",
   "execution_count": 5,
   "id": "ca1d77c0",
   "metadata": {
    "execution": {
     "iopub.execute_input": "2024-11-23T23:49:22.970197Z",
     "iopub.status.busy": "2024-11-23T23:49:22.969814Z",
     "iopub.status.idle": "2024-11-23T23:49:24.589242Z",
     "shell.execute_reply": "2024-11-23T23:49:24.588144Z"
    },
    "papermill": {
     "duration": 1.63459,
     "end_time": "2024-11-23T23:49:24.591386",
     "exception": false,
     "start_time": "2024-11-23T23:49:22.956796",
     "status": "completed"
    },
    "tags": []
   },
   "outputs": [
    {
     "name": "stdout",
     "output_type": "stream",
     "text": [
      "Before Removing: 5493\n",
      "After Removing: 4771\n"
     ]
    }
   ],
   "source": [
    "def remove_missing_values(df):\n",
    "\n",
    "    \"\"\"\n",
    "\n",
    "    Removes rows containing missing keywords and displays the number of rows before and after removal.\n",
    "\n",
    "    \"\"\"\n",
    "\n",
    "    print(f'Before Removing: {len(df)}')\n",
    "\n",
    "\n",
    "\n",
    "    # Remove rows with any missing value\n",
    "\n",
    "    df.dropna(how='any', inplace=True)\n",
    "\n",
    "    \n",
    "\n",
    "    # Remove rows with any missing keywords\n",
    "\n",
    "    missing_keywords = ['TBD', 'N A', 'Following', 'DISCONTINUED']\n",
    "\n",
    "\n",
    "\n",
    "    # Remove rows containing any of the missing keywords\n",
    "\n",
    "    df = df[~df.apply(lambda row: row.astype(str).str.contains('|'.join(missing_keywords), case=False, na=False).any(), axis=1)]\n",
    "\n",
    "\n",
    "\n",
    "    print(f'After Removing: {len(df)}')\n",
    "\n",
    "\n",
    "\n",
    "    return df\n",
    "\n",
    "\n",
    "\n",
    "\n",
    "\n",
    "df = remove_missing_values(df)\n"
   ]
  },
  {
   "cell_type": "markdown",
   "id": "8660ccd6",
   "metadata": {
    "papermill": {
     "duration": 0.011858,
     "end_time": "2024-11-23T23:49:24.614794",
     "exception": false,
     "start_time": "2024-11-23T23:49:24.602936",
     "status": "completed"
    },
    "tags": []
   },
   "source": [
    "### Handle incorrect values\n",
    "\n",
    "\n",
    "\n",
    "Here we want to analyze the colums given insights noted after imoorting and fix any incorrent discrepancies."
   ]
  },
  {
   "cell_type": "markdown",
   "id": "449039de",
   "metadata": {
    "papermill": {
     "duration": 0.011264,
     "end_time": "2024-11-23T23:49:24.637641",
     "exception": false,
     "start_time": "2024-11-23T23:49:24.626377",
     "status": "completed"
    },
    "tags": []
   },
   "source": [
    "#### Price : \n",
    "\n",
    "\n",
    "\n",
    "To ensure consistency, we need to standardize all prices to a common currency, here we'll use USD, for a uniform target variable. This will help avoid discrepancies and improve the accuracy of any predictive modeling"
   ]
  },
  {
   "cell_type": "code",
   "execution_count": 6,
   "id": "2eed7f79",
   "metadata": {
    "execution": {
     "iopub.execute_input": "2024-11-23T23:49:24.662675Z",
     "iopub.status.busy": "2024-11-23T23:49:24.661899Z",
     "iopub.status.idle": "2024-11-23T23:49:24.705496Z",
     "shell.execute_reply": "2024-11-23T23:49:24.704351Z"
    },
    "papermill": {
     "duration": 0.058997,
     "end_time": "2024-11-23T23:49:24.708098",
     "exception": false,
     "start_time": "2024-11-23T23:49:24.649101",
     "status": "completed"
    },
    "tags": []
   },
   "outputs": [],
   "source": [
    "def apply_price_adj(price):\n",
    "\n",
    "    \"\"\"\n",
    "\n",
    "    Converts a price string with a currency code into USD.\n",
    "\n",
    "    \"\"\"\n",
    "\n",
    "    try:\n",
    "\n",
    "        # Extract the currency code (first 3 characters)\n",
    "\n",
    "        currency_code = price[:3].strip()\n",
    "\n",
    "        # Extract the price string (everything after the currency code) and remove commas\n",
    "\n",
    "        price_str = price[4:].replace(',', '').strip()\n",
    "\n",
    "        # Convert price to float\n",
    "\n",
    "        price_value = float(price_str)\n",
    "\n",
    "\n",
    "\n",
    "        # Currency conversion rates as of 20 Nov 2024\n",
    "\n",
    "        conversion_rates = {\n",
    "\n",
    "            'AED': 0.27,   # 1 AED = 0.27 USD\n",
    "\n",
    "            'KWD': 3.28,   # 1 KWD = 3.28 USD\n",
    "\n",
    "            'OMR': 2.60,   # 1 OMR = 2.60 USD\n",
    "\n",
    "            'BHD': 2.65,   # 1 BHD = 2.65 USD\n",
    "\n",
    "            'QAR': 0.25,   # 1 QAR = 0.25 USD\n",
    "\n",
    "            'SAR': 0.27,   # 1 SAR = 0.27 USD\n",
    "\n",
    "            'EGP': 0.021   # 1 EGP = 0.021 USD\n",
    "\n",
    "        }\n",
    "\n",
    "\n",
    "\n",
    "        # Convert to USD if the currency code is valid\n",
    "\n",
    "        if currency_code in conversion_rates:\n",
    "\n",
    "            price_in_dollars = price_value * conversion_rates[currency_code]\n",
    "\n",
    "            return round(price_in_dollars, 3)  # Round to three decimal places\n",
    "\n",
    "        else:\n",
    "\n",
    "            # Return NaN if the currency code is not recognized\n",
    "\n",
    "            return float('nan')\n",
    "\n",
    "\n",
    "\n",
    "    except (ValueError, IndexError):\n",
    "\n",
    "        # Return NaN for invalid input or parsing errors\n",
    "\n",
    "        return float('nan')\n",
    "\n",
    "\n",
    "\n",
    "\n",
    "\n",
    "\n",
    "\n",
    "# Apply the function to replace the 'price' column values \n",
    "\n",
    "df['price'] = df['price'].apply(apply_price_adj)\n",
    "\n",
    "\n",
    "\n",
    "# Drop rows where 'price' is NaN\n",
    "\n",
    "df.dropna(subset=['price'], inplace=True)\n",
    "\n",
    "\n",
    "\n",
    "# Save the cleaned DataFrame to a CSV file\n",
    "\n",
    "df.to_csv('/kaggle/working/output3.csv', index=False)"
   ]
  },
  {
   "cell_type": "markdown",
   "id": "c2a2154c",
   "metadata": {
    "papermill": {
     "duration": 0.011245,
     "end_time": "2024-11-23T23:49:24.731101",
     "exception": false,
     "start_time": "2024-11-23T23:49:24.719856",
     "status": "completed"
    },
    "tags": []
   },
   "source": [
    "#### Engine Capacity :\n",
    "\n",
    "To ensure consistency, we need to standardize all engine capacities to liters and see we would need to convernt any valus in cubic centimerts to litres."
   ]
  },
  {
   "cell_type": "code",
   "execution_count": 7,
   "id": "a8de4da3",
   "metadata": {
    "execution": {
     "iopub.execute_input": "2024-11-23T23:49:24.755824Z",
     "iopub.status.busy": "2024-11-23T23:49:24.755383Z",
     "iopub.status.idle": "2024-11-23T23:49:24.791849Z",
     "shell.execute_reply": "2024-11-23T23:49:24.790749Z"
    },
    "papermill": {
     "duration": 0.051817,
     "end_time": "2024-11-23T23:49:24.794377",
     "exception": false,
     "start_time": "2024-11-23T23:49:24.742560",
     "status": "completed"
    },
    "tags": []
   },
   "outputs": [],
   "source": [
    "def apply_engine_adj(capacity):\n",
    "\n",
    "    \"\"\"\n",
    "\n",
    "    Standardizes engine capacity to liters.\n",
    "\n",
    "    If the value is greater than 1000, it is assumed to be in cubic centimeters (cc) and converted to liters.\n",
    "\n",
    "    Otherwise, it is treated as already in liters.\n",
    "\n",
    "    \"\"\"\n",
    "\n",
    "    try:\n",
    "\n",
    "        # Convert to float for comparison\n",
    "\n",
    "        engine_capacity = float(capacity)\n",
    "\n",
    "\n",
    "\n",
    "        # Check if the value is larger than 1000\n",
    "\n",
    "        if engine_capacity > 1000:\n",
    "\n",
    "            engine_capacity = engine_capacity / 1000  # Convert cc to liters\n",
    "\n",
    "        return round(engine_capacity, 2)  # Return value in liters, rounded to 2 decimals\n",
    "\n",
    "\n",
    "\n",
    "    except (ValueError, TypeError):\n",
    "\n",
    "        # Return NaN for invalid input or parsing errors\n",
    "\n",
    "        return float('nan')\n",
    "\n",
    "\n",
    "\n",
    "\n",
    "\n",
    "# Apply the function to replace the 'engine' column values \n",
    "\n",
    "df['engine_capacity'] = df['engine_capacity'].apply(apply_engine_adj)\n",
    "\n",
    "\n",
    "\n",
    "# Drop rows where 'price' is NaN\n",
    "\n",
    "df.dropna(subset=['engine_capacity'], inplace=True)\n",
    "\n",
    "\n",
    "\n",
    "# Save the cleaned DataFrame to a CSV file\n",
    "\n",
    "df.to_csv('/kaggle/working/output4.csv', index=False)"
   ]
  },
  {
   "cell_type": "markdown",
   "id": "222b3d2a",
   "metadata": {
    "papermill": {
     "duration": 0.01113,
     "end_time": "2024-11-23T23:49:24.817261",
     "exception": false,
     "start_time": "2024-11-23T23:49:24.806131",
     "status": "completed"
    },
    "tags": []
   },
   "source": [
    "#### Cylinder:\n",
    "\n",
    "We will apply feature extranction here, for electric cars there is no cylinders , so we will add a column to mark if electric or not. In the cylider column if electric we will set to -1.\n",
    "\n",
    "\n"
   ]
  },
  {
   "cell_type": "markdown",
   "id": "fa4fd0b1",
   "metadata": {
    "papermill": {
     "duration": 0.011179,
     "end_time": "2024-11-23T23:49:24.839875",
     "exception": false,
     "start_time": "2024-11-23T23:49:24.828696",
     "status": "completed"
    },
    "tags": []
   },
   "source": [
    "**Why -1 ?**\n",
    "\n",
    "\n",
    "\n",
    "For most vehicles, cylinder counts are typically 3, 4, 6, 8, 10 or 12, using a negative value does not overlap with valid cylinder counts (e.g., 3, 4, 6, 8, etc.).\n",
    "\n",
    "It explicitly indicates the absence of a conventional cylinder count, making it interpretable as \"no cylinders.\""
   ]
  },
  {
   "cell_type": "code",
   "execution_count": 8,
   "id": "7dfb779e",
   "metadata": {
    "execution": {
     "iopub.execute_input": "2024-11-23T23:49:24.865188Z",
     "iopub.status.busy": "2024-11-23T23:49:24.864807Z",
     "iopub.status.idle": "2024-11-23T23:49:24.902324Z",
     "shell.execute_reply": "2024-11-23T23:49:24.901134Z"
    },
    "papermill": {
     "duration": 0.05317,
     "end_time": "2024-11-23T23:49:24.904792",
     "exception": false,
     "start_time": "2024-11-23T23:49:24.851622",
     "status": "completed"
    },
    "tags": []
   },
   "outputs": [],
   "source": [
    "def apply_cylinder_adj(capacity):\n",
    "\n",
    "    \"\"\"\n",
    "\n",
    "    Adjusts the cylinder values. If the value is 'Electric' or 'N/A', it returns -1.\n",
    "\n",
    "    \"\"\"\n",
    "\n",
    "    try:\n",
    "\n",
    "        # Handle Electric and N/A cases\n",
    "\n",
    "        if capacity in ['N/A, Electric']:\n",
    "\n",
    "            return -1\n",
    "\n",
    "          # Return numeric values as they are\n",
    "\n",
    "        return float(capacity)\n",
    "\n",
    "    except (ValueError, TypeError):\n",
    "\n",
    "        # Return NaN for invalid inputs\n",
    "\n",
    "        return float('nan')\n",
    "\n",
    "\n",
    "\n",
    "# Apply the function to adjust the 'cylinder' column\n",
    "\n",
    "df['cylinder'] = df['cylinder'].apply(apply_cylinder_adj)\n",
    "\n",
    "\n",
    "\n",
    "# Add a new column to indicate if the vehicle is electric\n",
    "\n",
    "df['is_electric'] = df['cylinder'].apply(lambda x: 1 if x == -1 else 0)\n",
    "\n",
    "\n",
    "\n",
    "# Save the cleaned DataFrame to a CSV file\n",
    "\n",
    "df.to_csv('/kaggle/working/output5.csv', index=False)\n",
    "\n",
    "\n"
   ]
  },
  {
   "cell_type": "markdown",
   "id": "ff4f6b2c",
   "metadata": {
    "papermill": {
     "duration": 0.011233,
     "end_time": "2024-11-23T23:49:24.927759",
     "exception": false,
     "start_time": "2024-11-23T23:49:24.916526",
     "status": "completed"
    },
    "tags": []
   },
   "source": [
    "#### Horse Power:\n",
    "\n",
    "\n",
    "\n",
    "Replace Single, Double, Triple with their standard values"
   ]
  },
  {
   "cell_type": "code",
   "execution_count": 9,
   "id": "a9e0c21c",
   "metadata": {
    "execution": {
     "iopub.execute_input": "2024-11-23T23:49:24.952262Z",
     "iopub.status.busy": "2024-11-23T23:49:24.951820Z",
     "iopub.status.idle": "2024-11-23T23:49:24.993453Z",
     "shell.execute_reply": "2024-11-23T23:49:24.992314Z"
    },
    "papermill": {
     "duration": 0.056971,
     "end_time": "2024-11-23T23:49:24.996028",
     "exception": false,
     "start_time": "2024-11-23T23:49:24.939057",
     "status": "completed"
    },
    "tags": []
   },
   "outputs": [],
   "source": [
    "def apply_horse_adj(capacity):\n",
    "\n",
    "    \"\"\"\n",
    "\n",
    "    Adjusts the horsepower values. If the value matches 'Single', 'Double', or 'Triple',\n",
    "\n",
    "    it replaces them with their corresponding horsepower values These values are averages taken from online sources. \n",
    "\n",
    "    Otherwise, numeric values remain unchanged.\n",
    "\n",
    "    \"\"\"\n",
    "\n",
    "    horsepower_dict = {\n",
    "\n",
    "        'Single': 283,\n",
    "\n",
    "        'Double': 422.0,\n",
    "\n",
    "        'Triple': 810.0\n",
    "\n",
    "    }\n",
    "\n",
    "    \n",
    "\n",
    "    try:\n",
    "\n",
    "        return float(capacity)\n",
    "\n",
    "    except (ValueError, TypeError): # if not already numeric\n",
    "\n",
    "        # Map known strings to their corresponding horsepower values\n",
    "\n",
    "        return horsepower_dict.get(capacity, float('nan'))  # NaN for unrecognized strings\n",
    "\n",
    "\n",
    "\n",
    "# Apply the function to adjust the 'horse_power' column\n",
    "\n",
    "df['horse_power'] = df['horse_power'].apply(apply_horse_adj)\n",
    "\n",
    "\n",
    "\n",
    "# Drop rows with NaN in 'horse_power' (invalid entries)\n",
    "\n",
    "df.dropna(subset=['horse_power'], inplace=True)\n",
    "\n",
    "\n",
    "\n",
    "# Save the cleaned DataFrame to a CSV file\n",
    "\n",
    "df.to_csv('/kaggle/working/output6.csv', index=False)\n"
   ]
  },
  {
   "cell_type": "markdown",
   "id": "fc18ad54",
   "metadata": {
    "papermill": {
     "duration": 0.011462,
     "end_time": "2024-11-23T23:49:25.019278",
     "exception": false,
     "start_time": "2024-11-23T23:49:25.007816",
     "status": "completed"
    },
    "tags": []
   },
   "source": [
    "#### Speed:\n",
    "\n",
    "\n",
    "\n",
    "Remove any non-numeric values."
   ]
  },
  {
   "cell_type": "code",
   "execution_count": 10,
   "id": "1149d93d",
   "metadata": {
    "execution": {
     "iopub.execute_input": "2024-11-23T23:49:25.045505Z",
     "iopub.status.busy": "2024-11-23T23:49:25.045098Z",
     "iopub.status.idle": "2024-11-23T23:49:25.084131Z",
     "shell.execute_reply": "2024-11-23T23:49:25.083134Z"
    },
    "papermill": {
     "duration": 0.054487,
     "end_time": "2024-11-23T23:49:25.086753",
     "exception": false,
     "start_time": "2024-11-23T23:49:25.032266",
     "status": "completed"
    },
    "tags": []
   },
   "outputs": [],
   "source": [
    "def apply_top_speed_adj(speed):\n",
    "\n",
    "    \"\"\"\n",
    "\n",
    "    Cleans and standardizes the top_speed values.\n",
    "\n",
    "    If the value is non-numeric (e.g., 'N/A', 'Unknown'), it is converted to NaN.\n",
    "\n",
    "    Otherwise, it is treated as a valid numeric value.\n",
    "\n",
    "    \"\"\"\n",
    "\n",
    "    try:\n",
    "\n",
    "        # Attempt to convert the value to a float\n",
    "\n",
    "        return float(speed)\n",
    "\n",
    "    except (ValueError, TypeError):\n",
    "\n",
    "        # Return NaN for invalid input or parsing errors\n",
    "\n",
    "        return float('nan')\n",
    "\n",
    "\n",
    "\n",
    "\n",
    "\n",
    "# Apply the function to replace the 'top_speed' column values\n",
    "\n",
    "df['top_speed'] = df['top_speed'].apply(apply_top_speed_adj)\n",
    "\n",
    "\n",
    "\n",
    "# Drop rows where 'top_speed' is NaN\n",
    "\n",
    "df.dropna(subset=['top_speed'], inplace=True)\n",
    "\n",
    "\n",
    "\n",
    "# Save the cleaned DataFrame to a CSV file\n",
    "\n",
    "df.to_csv('/kaggle/working/output7.csv', index=False)"
   ]
  },
  {
   "cell_type": "markdown",
   "id": "494e7a3e",
   "metadata": {
    "papermill": {
     "duration": 0.010944,
     "end_time": "2024-11-23T23:49:25.109700",
     "exception": false,
     "start_time": "2024-11-23T23:49:25.098756",
     "status": "completed"
    },
    "tags": []
   },
   "source": [
    "#### Seats:\n",
    "\n",
    "\n",
    "\n",
    "We need to extract seats into their numeric values:\n",
    "\n",
    "\n",
    "\n",
    "Note : reaching this here some values that were already invalid like floats (1.4, 2.5) and large values (150), were already removed since there has been multiple issue with that records entry."
   ]
  },
  {
   "cell_type": "code",
   "execution_count": 11,
   "id": "b52b2b99",
   "metadata": {
    "execution": {
     "iopub.execute_input": "2024-11-23T23:49:25.134175Z",
     "iopub.status.busy": "2024-11-23T23:49:25.133774Z",
     "iopub.status.idle": "2024-11-23T23:49:25.174125Z",
     "shell.execute_reply": "2024-11-23T23:49:25.172981Z"
    },
    "papermill": {
     "duration": 0.055663,
     "end_time": "2024-11-23T23:49:25.176746",
     "exception": false,
     "start_time": "2024-11-23T23:49:25.121083",
     "status": "completed"
    },
    "tags": []
   },
   "outputs": [],
   "source": [
    "def apply_seats_adj(seats_string):\n",
    "\n",
    "    \"\"\"\n",
    "\n",
    "    Extracts the number of seats from a string assuming this format '5 Seater'.\n",
    "\n",
    "    \"\"\"\n",
    "\n",
    "    try:\n",
    "\n",
    "        # Split the string and extract the first part as an integer\n",
    "\n",
    "        return int(seats_string.split()[0])\n",
    "\n",
    "    except (ValueError, AttributeError, IndexError):\n",
    "\n",
    "        # Return NaN for invalid or unparsable values\n",
    "\n",
    "        return float('nan')\n",
    "\n",
    "\n",
    "\n",
    "# Apply the function to the 'seats' column\n",
    "\n",
    "df['seats'] = df['seats'].apply(apply_seats_adj)\n",
    "\n",
    "\n",
    "\n",
    "# Drop rows where 'seats' is NaN\n",
    "\n",
    "df.dropna(subset=['seats'], inplace=True)\n",
    "\n",
    "\n",
    "\n",
    "# Save the cleaned DataFrame to a CSV file\n",
    "\n",
    "df.to_csv('/kaggle/working/output8.csv', index=False)\n"
   ]
  },
  {
   "cell_type": "markdown",
   "id": "c397ef01",
   "metadata": {
    "papermill": {
     "duration": 0.011474,
     "end_time": "2024-11-23T23:49:25.200866",
     "exception": false,
     "start_time": "2024-11-23T23:49:25.189392",
     "status": "completed"
    },
    "tags": []
   },
   "source": [
    "#### Summary:\n",
    "\n",
    "\n",
    "\n",
    "The current number of records is 4078, the original was 6038. We lost around 35% of the data, we will continue and assume acceptable with that since the data has many issues and descripincies in the start."
   ]
  },
  {
   "cell_type": "code",
   "execution_count": 12,
   "id": "94004533",
   "metadata": {
    "execution": {
     "iopub.execute_input": "2024-11-23T23:49:25.226188Z",
     "iopub.status.busy": "2024-11-23T23:49:25.225477Z",
     "iopub.status.idle": "2024-11-23T23:49:25.231359Z",
     "shell.execute_reply": "2024-11-23T23:49:25.230248Z"
    },
    "papermill": {
     "duration": 0.020974,
     "end_time": "2024-11-23T23:49:25.233403",
     "exception": false,
     "start_time": "2024-11-23T23:49:25.212429",
     "status": "completed"
    },
    "tags": []
   },
   "outputs": [
    {
     "name": "stdout",
     "output_type": "stream",
     "text": [
      "4078\n"
     ]
    }
   ],
   "source": [
    "print (len(df))"
   ]
  },
  {
   "cell_type": "markdown",
   "id": "bc3bdf7b",
   "metadata": {
    "papermill": {
     "duration": 0.011241,
     "end_time": "2024-11-23T23:49:25.256251",
     "exception": false,
     "start_time": "2024-11-23T23:49:25.245010",
     "status": "completed"
    },
    "tags": []
   },
   "source": [
    "### Encode Categorical\n"
   ]
  },
  {
   "cell_type": "markdown",
   "id": "b0288cf8",
   "metadata": {
    "papermill": {
     "duration": 0.011352,
     "end_time": "2024-11-23T23:49:25.279210",
     "exception": false,
     "start_time": "2024-11-23T23:49:25.267858",
     "status": "completed"
    },
    "tags": []
   },
   "source": [
    "**Perform one-hot encoding for country.**"
   ]
  },
  {
   "cell_type": "code",
   "execution_count": 13,
   "id": "0a8d9056",
   "metadata": {
    "execution": {
     "iopub.execute_input": "2024-11-23T23:49:25.304678Z",
     "iopub.status.busy": "2024-11-23T23:49:25.303709Z",
     "iopub.status.idle": "2024-11-23T23:49:25.324513Z",
     "shell.execute_reply": "2024-11-23T23:49:25.323083Z"
    },
    "papermill": {
     "duration": 0.035861,
     "end_time": "2024-11-23T23:49:25.326653",
     "exception": false,
     "start_time": "2024-11-23T23:49:25.290792",
     "status": "completed"
    },
    "tags": []
   },
   "outputs": [
    {
     "name": "stdout",
     "output_type": "stream",
     "text": [
      "                             car name     price  engine_capacity  cylinder  \\\n",
      "2    Suzuki Jimny 2021 1.5L Automatic  26671.95              1.5       4.0   \n",
      "5       Honda HR-V 2021 1.8 i-VTEC EX  25740.45              1.8       4.0   \n",
      "8   Renault Koleos 2021 2.5L LE (4WD)  31563.00              2.5       4.0   \n",
      "10         Suzuki Jimny 2021 1.5L M/T  24808.95              1.5       4.0   \n",
      "11      Honda HR-V 2021 1.8 i-VTEC DX  19530.45              1.8       4.0   \n",
      "\n",
      "    horse_power  top_speed  seats    brand  is_electric  country_egypt  \\\n",
      "2         102.0      145.0    4.0   suzuki            0              0   \n",
      "5         140.0      190.0    5.0    honda            0              0   \n",
      "8         170.0      199.0    5.0  renault            0              0   \n",
      "10        102.0      145.0    4.0   suzuki            0              0   \n",
      "11        140.0      190.0    5.0    honda            0              0   \n",
      "\n",
      "    country_ksa  country_kuwait  country_oman  country_qatar  country_uae  \n",
      "2             1               0             0              0            0  \n",
      "5             1               0             0              0            0  \n",
      "8             1               0             0              0            0  \n",
      "10            1               0             0              0            0  \n",
      "11            1               0             0              0            0  \n"
     ]
    }
   ],
   "source": [
    "def encode_countries(df):\n",
    "\n",
    "    # One-hot encode the 'country' column\n",
    "\n",
    "    df_encoded = pd.get_dummies(df, columns=['country'], dtype=int, drop_first=True)    \n",
    "\n",
    "    \n",
    "\n",
    "    return df_encoded\n",
    "\n",
    "\n",
    "\n",
    "df = encode_countries(df)\n",
    "\n",
    "print (df.head())"
   ]
  },
  {
   "cell_type": "markdown",
   "id": "6dfad833",
   "metadata": {
    "papermill": {
     "duration": 0.011557,
     "end_time": "2024-11-23T23:49:25.350269",
     "exception": false,
     "start_time": "2024-11-23T23:49:25.338712",
     "status": "completed"
    },
    "tags": []
   },
   "source": [
    "**Perform Target encoding for country**\n",
    "\n",
    "\n",
    "\n",
    "Note: What is target encoding? \n",
    "\n",
    "\n",
    "\n",
    "[Article on Comparing Performances of Encoding Schemes on Regression with Cross-validation](http://https://www.linkedin.com/pulse/comparing-performances-encoding-schemes-regression-imran-khan-jb3xc/)\n",
    "\n",
    "\n",
    "\n",
    "Also see:\n",
    "\n",
    "[1](https://towardsdatascience.com/benchmarking-categorical-encoders-9c322bd77ee8)\n",
    "\n",
    "[2](https://medium.com/anolytics/all-you-need-to-know-about-encoding-techniques-b3a0af68338b)\n",
    "\n",
    "\n",
    "\n",
    "\n",
    "\n",
    "\n",
    "\n",
    "\n",
    "\n",
    "* Mean encoding involves replacing each category with the mean value of the target variable for that category. This method can be very effective, especially for supervised learning tasks, but it can lead to overfitting if not managed properly\n",
    "\n",
    "* When to use: It is suitable for categorical features exhibiting a **high number of categories**. \n",
    "\n",
    "* Because we wil later use regularization techniques, this will be safe to use.\n",
    "\n",
    "*  Target encoding leverages the relationship between categorical variables and the target variable, making it a powerful encoding technique when this relationship is significant.\n",
    "\n",
    "* One of the significant drawbacks of target encoding is the potential for overfitting, especially when applied to small datasets. It suffers from the problem of target leakage as the target variable is used to directly encode the input feature and the same feature is used to fit a model on the target variable.\n",
    "\n",
    "* -> This is important to note because this type of encoding should only be applied on the training data after the split\n",
    "\n",
    "\n",
    "\n",
    "Correct Approach -> Fit the Encoder Only on Training Data:\n",
    "\n",
    "\n",
    "\n",
    "The encoder learns the target means for each category in the training data, and then  we use the fitted encoder to apply the same encoding to validation and test datasets.\n"
   ]
  },
  {
   "cell_type": "code",
   "execution_count": 14,
   "id": "90b17180",
   "metadata": {
    "execution": {
     "iopub.execute_input": "2024-11-23T23:49:25.375597Z",
     "iopub.status.busy": "2024-11-23T23:49:25.375136Z",
     "iopub.status.idle": "2024-11-23T23:49:26.105355Z",
     "shell.execute_reply": "2024-11-23T23:49:26.104260Z"
    },
    "papermill": {
     "duration": 0.746088,
     "end_time": "2024-11-23T23:49:26.108000",
     "exception": false,
     "start_time": "2024-11-23T23:49:25.361912",
     "status": "completed"
    },
    "tags": []
   },
   "outputs": [],
   "source": [
    "from sklearn.model_selection import train_test_split \n",
    "\n",
    "import category_encoders as ce\n",
    "\n",
    "\n",
    "\n",
    "def encode_brand(train_df):\n",
    "\n",
    "    # Initialize the MeanEncoder\n",
    "\n",
    "    mean_encoder = ce.TargetEncoder()\n",
    "\n",
    "    \n",
    "\n",
    "    # Fit the encoder on the training data\n",
    "\n",
    "    mean_encoder.fit(train_df['brand'], train_df['price'])\n",
    "\n",
    "    \n",
    "\n",
    "    # Encode the 'brand' column\n",
    "\n",
    "    train_df['brand'] = mean_encoder.transform(train_df[['brand']])['brand'].round(2)\n",
    "\n",
    "    \n",
    "\n",
    "    # Normalize the encoded 'brand' column using z-score normalization\n",
    "\n",
    "    scaler = StandardScaler()\n",
    "\n",
    "    train_df['brand'] = scaler.fit_transform(train_df[['brand']])\n",
    "\n",
    "    \n",
    "\n",
    "    return train_df, mean_encoder, scaler\n"
   ]
  },
  {
   "cell_type": "markdown",
   "id": "f0db3624",
   "metadata": {
    "papermill": {
     "duration": 0.011327,
     "end_time": "2024-11-23T23:49:26.131990",
     "exception": false,
     "start_time": "2024-11-23T23:49:26.120663",
     "status": "completed"
    },
    "tags": []
   },
   "source": [
    "### Normalize Numeric\n"
   ]
  },
  {
   "cell_type": "markdown",
   "id": "f4bc961a",
   "metadata": {
    "papermill": {
     "duration": 0.011452,
     "end_time": "2024-11-23T23:49:26.155327",
     "exception": false,
     "start_time": "2024-11-23T23:49:26.143875",
     "status": "completed"
    },
    "tags": []
   },
   "source": [
    "#### Z-Score normalization \n",
    "\n",
    "\n",
    "\n",
    "Best for many advatages and reasons."
   ]
  },
  {
   "cell_type": "code",
   "execution_count": 15,
   "id": "cc5f660e",
   "metadata": {
    "execution": {
     "iopub.execute_input": "2024-11-23T23:49:26.180875Z",
     "iopub.status.busy": "2024-11-23T23:49:26.179904Z",
     "iopub.status.idle": "2024-11-23T23:49:26.244395Z",
     "shell.execute_reply": "2024-11-23T23:49:26.243346Z"
    },
    "papermill": {
     "duration": 0.079884,
     "end_time": "2024-11-23T23:49:26.246837",
     "exception": false,
     "start_time": "2024-11-23T23:49:26.166953",
     "status": "completed"
    },
    "tags": []
   },
   "outputs": [],
   "source": [
    "from sklearn.preprocessing import StandardScaler \n",
    "\n",
    "numeric_features = ['engine_capacity', 'cylinder', 'horse_power', 'seats', 'top_speed']\n",
    "\n",
    "\n",
    "\n",
    "# Use the z-score normalization \n",
    "\n",
    "scaler = StandardScaler()\n",
    "\n",
    "df[numeric_features] = scaler.fit_transform(df[numeric_features])\n",
    "\n",
    "\n",
    "\n",
    "df.to_csv('/kaggle/working/output9.csv', index=False)"
   ]
  },
  {
   "cell_type": "markdown",
   "id": "6be6ea44",
   "metadata": {
    "papermill": {
     "duration": 0.011137,
     "end_time": "2024-11-23T23:49:26.269949",
     "exception": false,
     "start_time": "2024-11-23T23:49:26.258812",
     "status": "completed"
    },
    "tags": []
   },
   "source": [
    "### Split Data:\n",
    "\n",
    "\n",
    "\n",
    "A commin split that is used here is 60% for training, 20% for validation, and 20% for testing.\n"
   ]
  },
  {
   "cell_type": "code",
   "execution_count": 16,
   "id": "081dafe4",
   "metadata": {
    "execution": {
     "iopub.execute_input": "2024-11-23T23:49:26.296083Z",
     "iopub.status.busy": "2024-11-23T23:49:26.295702Z",
     "iopub.status.idle": "2024-11-23T23:49:26.346842Z",
     "shell.execute_reply": "2024-11-23T23:49:26.345374Z"
    },
    "papermill": {
     "duration": 0.06674,
     "end_time": "2024-11-23T23:49:26.349227",
     "exception": false,
     "start_time": "2024-11-23T23:49:26.282487",
     "status": "completed"
    },
    "tags": []
   },
   "outputs": [
    {
     "name": "stdout",
     "output_type": "stream",
     "text": [
      "2446\n",
      "816\n",
      "816\n"
     ]
    }
   ],
   "source": [
    "from sklearn.utils import shuffle\n",
    "\n",
    "from sklearn.model_selection import train_test_split\n",
    "\n",
    "\n",
    "\n",
    "# Shuffle the dataset\n",
    "\n",
    "df_shuffled = shuffle(df, random_state=42) # note that 42 is a widely used convention but can be anything -> this is used for consistent reproducability of the data\n",
    "\n",
    "\n",
    "\n",
    "# Split the data into training (60%) and temp (40%)\n",
    "\n",
    "train_data, temp_data = train_test_split(df_shuffled, test_size=0.4, random_state=42)\n",
    "\n",
    "\n",
    "\n",
    "# Split the temp data into validation and testing \n",
    "\n",
    "val_data, test_data = train_test_split(temp_data, test_size=0.5, random_state=42)\n",
    "\n",
    "\n",
    "\n",
    "# Output the sizes of each split to verify\n",
    "\n",
    "print (len(train_data))\n",
    "\n",
    "print (len(val_data))\n",
    "\n",
    "print(len(test_data))\n",
    "\n",
    "\n",
    "\n",
    "# remember to encode and normalize brand here \n",
    "\n",
    "train_data,encoder,scaler = encode_brand(train_data)\n",
    "\n",
    "\n",
    "\n",
    "# Transform and normalize validation and test data\n",
    "\n",
    "val_data['brand'] = encoder.transform(val_data[['brand']])['brand']\n",
    "\n",
    "val_data['brand'] = scaler.transform(val_data[['brand']])\n",
    "\n",
    "\n",
    "\n",
    "test_data['brand'] = encoder.transform(test_data[['brand']])['brand']\n",
    "\n",
    "test_data['brand'] = scaler.transform(test_data[['brand']])\n",
    "\n",
    "\n"
   ]
  },
  {
   "cell_type": "code",
   "execution_count": 17,
   "id": "4331659a",
   "metadata": {
    "execution": {
     "iopub.execute_input": "2024-11-23T23:49:26.375226Z",
     "iopub.status.busy": "2024-11-23T23:49:26.374840Z",
     "iopub.status.idle": "2024-11-23T23:49:26.433137Z",
     "shell.execute_reply": "2024-11-23T23:49:26.431928Z"
    },
    "papermill": {
     "duration": 0.074549,
     "end_time": "2024-11-23T23:49:26.436005",
     "exception": false,
     "start_time": "2024-11-23T23:49:26.361456",
     "status": "completed"
    },
    "tags": []
   },
   "outputs": [],
   "source": [
    "# Save the train data DataFrame to a CSV file\n",
    "\n",
    "train_data.to_csv('/kaggle/working/outputf.csv', index=False)\n",
    "\n",
    "val_data.to_csv('/kaggle/working/outputff.csv', index=False)"
   ]
  },
  {
   "cell_type": "markdown",
   "id": "15086a40",
   "metadata": {
    "papermill": {
     "duration": 0.011483,
     "end_time": "2024-11-23T23:49:26.459831",
     "exception": false,
     "start_time": "2024-11-23T23:49:26.448348",
     "status": "completed"
    },
    "tags": []
   },
   "source": [
    "**Extra : Visulaizing correlation between features**"
   ]
  },
  {
   "cell_type": "code",
   "execution_count": 18,
   "id": "9ef61826",
   "metadata": {
    "execution": {
     "iopub.execute_input": "2024-11-23T23:49:26.486501Z",
     "iopub.status.busy": "2024-11-23T23:49:26.486058Z",
     "iopub.status.idle": "2024-11-23T23:49:26.934563Z",
     "shell.execute_reply": "2024-11-23T23:49:26.933408Z"
    },
    "papermill": {
     "duration": 0.465342,
     "end_time": "2024-11-23T23:49:26.937268",
     "exception": false,
     "start_time": "2024-11-23T23:49:26.471926",
     "status": "completed"
    },
    "tags": []
   },
   "outputs": [
    {
     "data": {
      "image/png": "[encoded data removed]",
      "text/plain": [
       "<Figure size 700x700 with 2 Axes>"
      ]
     },
     "metadata": {},
     "output_type": "display_data"
    }
   ],
   "source": [
    "\n",
    "\n",
    "f_num = ['price', 'engine_capacity', 'cylinder', 'horse_power', 'top_speed', 'seats']\n",
    "\n",
    "\n",
    "\n",
    "# Filter the dataset to include only the selected numerical columns\n",
    "\n",
    "dataset_corr = df[f_num]\n",
    "\n",
    "\n",
    "\n",
    "# Compute the correlation matrix\n",
    "\n",
    "correlation_matrix = dataset_corr.corr()\n",
    "\n",
    "\n",
    "\n",
    "# Plot the heatmap\n",
    "\n",
    "plt.figure(figsize=(7, 7))\n",
    "\n",
    "sns.heatmap(correlation_matrix, annot=True, cmap='coolwarm', fmt='.2f', square=True)\n",
    "\n",
    "plt.title('Correlation Heatmap')\n",
    "\n",
    "plt.show()"
   ]
  },
  {
   "cell_type": "code",
   "execution_count": null,
   "id": "ac213e13",
   "metadata": {
    "papermill": {
     "duration": 0.012485,
     "end_time": "2024-11-23T23:49:26.963003",
     "exception": false,
     "start_time": "2024-11-23T23:49:26.950518",
     "status": "completed"
    },
    "tags": []
   },
   "outputs": [],
   "source": []
  },
  {
   "cell_type": "markdown",
   "id": "4187cd09",
   "metadata": {
    "papermill": {
     "duration": 0.012496,
     "end_time": "2024-11-23T23:49:26.988205",
     "exception": false,
     "start_time": "2024-11-23T23:49:26.975709",
     "status": "completed"
    },
    "tags": []
   },
   "source": [
    "# 3. Building Regression Models "
   ]
  },
  {
   "cell_type": "markdown",
   "id": "e229d6aa",
   "metadata": {
    "papermill": {
     "duration": 0.012426,
     "end_time": "2024-11-23T23:49:27.013423",
     "exception": false,
     "start_time": "2024-11-23T23:49:27.000997",
     "status": "completed"
    },
    "tags": []
   },
   "source": [
    "## Linear Models"
   ]
  },
  {
   "cell_type": "markdown",
   "id": "b1843eb7",
   "metadata": {
    "papermill": {
     "duration": 0.012483,
     "end_time": "2024-11-23T23:49:27.038648",
     "exception": false,
     "start_time": "2024-11-23T23:49:27.026165",
     "status": "completed"
    },
    "tags": []
   },
   "source": [
    "### Simple Model"
   ]
  },
  {
   "cell_type": "code",
   "execution_count": 19,
   "id": "99019046",
   "metadata": {
    "execution": {
     "iopub.execute_input": "2024-11-23T23:49:27.065919Z",
     "iopub.status.busy": "2024-11-23T23:49:27.065497Z",
     "iopub.status.idle": "2024-11-23T23:49:27.245273Z",
     "shell.execute_reply": "2024-11-23T23:49:27.242875Z"
    },
    "papermill": {
     "duration": 0.212446,
     "end_time": "2024-11-23T23:49:27.263711",
     "exception": false,
     "start_time": "2024-11-23T23:49:27.051265",
     "status": "completed"
    },
    "tags": []
   },
   "outputs": [
    {
     "name": "stdout",
     "output_type": "stream",
     "text": [
      "Validation Mean Squared Error: 6191801487.9104\n",
      "Validation R^2 Score: 0.5835099650888484\n",
      "Test Mean Squared Error: 6646366503.4880705\n",
      "Test R^2 Score: 0.36011889971839106\n",
      "Predictions saved to 'test_predictions.csv'\n"
     ]
    }
   ],
   "source": [
    "# Just a test model with built in library \n",
    "\n",
    "\n",
    "\n",
    "from sklearn.linear_model import LinearRegression\n",
    "\n",
    "from sklearn.metrics import mean_squared_error, r2_score\n",
    "\n",
    "\n",
    "\n",
    "# Define features (X) and target (y) for training, validation, and test sets\n",
    "\n",
    "X_train = train_data.drop(columns=['car name', 'price'])  \n",
    "\n",
    "y_train = train_data['price']\n",
    "\n",
    "\n",
    "\n",
    "X_val = val_data.drop(columns=['car name', 'price'])  # Drop 'id' and 'target' columns\n",
    "\n",
    "y_val = val_data['price']\n",
    "\n",
    "\n",
    "\n",
    "X_test = test_data.drop(columns=['car name', 'price'])  # Drop 'id' and 'target' columns\n",
    "\n",
    "y_test = test_data['price']\n",
    "\n",
    "\n",
    "\n",
    "# Initialize the Linear Regression model\n",
    "\n",
    "model = LinearRegression()\n",
    "\n",
    "\n",
    "\n",
    "# Train the model on the training data\n",
    "\n",
    "model.fit(X_train, y_train)\n",
    "\n",
    "\n",
    "\n",
    "# Evaluate the model on the validation data\n",
    "\n",
    "y_val_pred = model.predict(X_val)\n",
    "\n",
    "mse_val = mean_squared_error(y_val, y_val_pred)\n",
    "\n",
    "r2_val = r2_score(y_val, y_val_pred)\n",
    "\n",
    "\n",
    "\n",
    "print(f\"Validation Mean Squared Error: {mse_val}\")\n",
    "\n",
    "print(f\"Validation R^2 Score: {r2_val}\")\n",
    "\n",
    "\n",
    "\n",
    "# Evaluate the model on the test data\n",
    "\n",
    "y_test_pred = model.predict(X_test)\n",
    "\n",
    "mse_test = mean_squared_error(y_test, y_test_pred)\n",
    "\n",
    "r2_test = r2_score(y_test, y_test_pred)\n",
    "\n",
    "\n",
    "\n",
    "print(f\"Test Mean Squared Error: {mse_test}\")\n",
    "\n",
    "print(f\"Test R^2 Score: {r2_test}\")\n",
    "\n",
    "\n",
    "\n",
    "\n",
    "\n",
    "# Combine 'car name', original 'price', and predicted 'price' into a DataFrame\n",
    "\n",
    "results = pd.DataFrame({\n",
    "\n",
    "    'car name': test_data['car name'],\n",
    "\n",
    "    'original_price': y_test,\n",
    "\n",
    "    'predicted_price': y_test_pred\n",
    "\n",
    "})\n",
    "\n",
    "\n",
    "\n",
    "# Save the DataFrame to a CSV file\n",
    "\n",
    "results.to_csv('test_predictions.csv', index=False)\n",
    "\n",
    "\n",
    "\n",
    "print(\"Predictions saved to 'test_predictions.csv'\")\n"
   ]
  },
  {
   "attachments": {
    "01c288a8-c711-4334-8a51-2071318b30b2.png": {
     "image/png": "[encoded data removed]"
    },
    "20bc3a5f-9d09-4d78-b62d-8647b54691ce.png": {
     "image/png": "[encoded data removed]"
    },
    "29ab6176-69fc-467f-95cc-4decacdcd925.png": {
     "image/png": "[encoded data removed]"
    },
    "3236e411-9cdf-4ccb-ac3c-fd0151e2eff4.png": {
     "image/png": "[encoded data removed]"
    },
    "81aa76e5-5c5d-43c1-bbad-44a262ff90d1.png": {
     "image/png": "[encoded data removed]"
    },
    "a5161add-2cf4-48b0-b279-6d3147882bc9.png": {
     "image/png": "[encoded data removed]"
    },
    "ae643633-36a9-42bb-862a-d933a1b2eaeb.png": {
     "image/png": "[encoded data removed]"
    },
    "e51969fa-e3e6-4776-bb5f-09afcc508015.png": {
     "image/png": "[encoded data removed]"
    }
   },
   "cell_type": "markdown",
   "id": "d6017fc8",
   "metadata": {
    "jp-MarkdownHeadingCollapsed": true,
    "papermill": {
     "duration": 0.018166,
     "end_time": "2024-11-23T23:49:27.346125",
     "exception": false,
     "start_time": "2024-11-23T23:49:27.327959",
     "status": "completed"
    },
    "tags": []
   },
   "source": [
    "### Closed-form solution"
   ]
  },
  {
   "attachments": {
    "56571edd-e82b-48f7-9164-6d77fb0ad674.png": {
     "image/png": "[encoded data removed]"
    },
    "65cd04ae-1b25-47a9-999d-283d81088233.png": {
     "image/png": "[encoded data removed]"
    },
    "ae4660d6-195a-47dd-8812-f727143959d0.png": {
     "image/png": "[encoded data removed]"
    },
    "f6807495-abfc-4de7-b7cb-5de0fc6b5e95.png": {
     "image/png": "[encoded data removed]"
    }
   },
   "cell_type": "markdown",
   "id": "a1bd6791",
   "metadata": {
    "papermill": {
     "duration": 0.012637,
     "end_time": "2024-11-23T23:49:27.371992",
     "exception": false,
     "start_time": "2024-11-23T23:49:27.359355",
     "status": "completed"
    },
    "tags": []
   },
   "source": [
    "### Gradient descent "
   ]
  },
  {
   "cell_type": "markdown",
   "id": "5658c3a6",
   "metadata": {
    "papermill": {
     "duration": 0.012498,
     "end_time": "2024-11-23T23:49:27.397480",
     "exception": false,
     "start_time": "2024-11-23T23:49:27.384982",
     "status": "completed"
    },
    "tags": []
   },
   "source": [
    "## Ridge Regression"
   ]
  },
  {
   "cell_type": "markdown",
   "id": "75e6a46f",
   "metadata": {
    "papermill": {
     "duration": 0.012466,
     "end_time": "2024-11-23T23:49:27.422632",
     "exception": false,
     "start_time": "2024-11-23T23:49:27.410166",
     "status": "completed"
    },
    "tags": []
   },
   "source": [
    "#\n",
    "$$\n",
    "\\mathbf{w} = \\|\\mathbf{y} - \\mathbf{X}\\mathbf{w}\\|^2 + \\lambda \\|\\mathbf{w}\\|^2\n",
    "$$\n",
    "\n",
    "- lambda is the scalar that gives the importance of the regulization term.\n",
    "- In code we use alpha term istead of lambda, because lambda is a reserved keyword  "
   ]
  },
  {
   "cell_type": "code",
   "execution_count": 20,
   "id": "a97d935c",
   "metadata": {
    "execution": {
     "iopub.execute_input": "2024-11-23T23:49:27.450228Z",
     "iopub.status.busy": "2024-11-23T23:49:27.449804Z",
     "iopub.status.idle": "2024-11-23T23:49:27.477511Z",
     "shell.execute_reply": "2024-11-23T23:49:27.475829Z"
    },
    "papermill": {
     "duration": 0.046644,
     "end_time": "2024-11-23T23:49:27.482309",
     "exception": false,
     "start_time": "2024-11-23T23:49:27.435665",
     "status": "completed"
    },
    "tags": []
   },
   "outputs": [],
   "source": [
    "import numpy as np\n",
    "\n",
    "def ridge_fit(X,y,alpha):\n",
    "    # X.shape[0] returns number of rows\n",
    "    # X.shape[1] returns number of columns \n",
    "\n",
    "    # Add bias colum to the data matrix \n",
    "    X = np.c_[np.ones((X.shape[0], 1)), X]\n",
    "\n",
    "    numOfFeatures = X.shape[1] \n",
    "\n",
    "    # Create an identity matrix \n",
    "    I = np.identity(numOfFeatures)\n",
    "    # Execlude the bias feature from regularization\n",
    "    I[0,0] = 0\n",
    "\n",
    "    # Solution to ridge regression \n",
    "    weights = np.linalg.inv(X.T.dot(X) + (alpha * I)).dot(X.T).dot(y)\n",
    "\n",
    "    return  weights\n",
    "\n",
    "def ridge_predict(X, weights):\n",
    "\n",
    "    X = np.c_[np.ones((X.shape[0], 1)), X]  # Add bias feature (b = 1)\n",
    "    return X.dot(weights) \n",
    "\n",
    "# Define features (X) and target (y) for training, validation, and test sets\n",
    "\n",
    "X_train = train_data.drop(columns=['car name', 'price'])  \n",
    "\n",
    "y_train = train_data['price']\n",
    "\n",
    "\n",
    "\n",
    "X_val = val_data.drop(columns=['car name', 'price'])  # Drop 'id' and 'target' columns\n",
    "\n",
    "y_val = val_data['price']\n",
    "\n",
    "\n",
    "\n",
    "X_test = test_data.drop(columns=['car name', 'price'])  # Drop 'id' and 'target' columns\n",
    "\n",
    "y_test = test_data['price']\n",
    "\n",
    "\n",
    "alpha = 100 \n",
    "w = ridge_fit(X_train.values,y_train.values,alpha)\n",
    "predictions = ridge_predict(X_test.values, w)\n",
    "\n",
    "results = pd.DataFrame({\n",
    "    'Original': y_test.values,\n",
    "    'Predicted': predictions\n",
    "})\n",
    "\n",
    "# Save the results to a CSV file\n",
    "results.to_csv('predictions.csv', index=False)"
   ]
  },
  {
   "cell_type": "code",
   "execution_count": 21,
   "id": "82247944",
   "metadata": {
    "execution": {
     "iopub.execute_input": "2024-11-23T23:49:27.558703Z",
     "iopub.status.busy": "2024-11-23T23:49:27.557543Z",
     "iopub.status.idle": "2024-11-23T23:49:27.614168Z",
     "shell.execute_reply": "2024-11-23T23:49:27.611819Z"
    },
    "papermill": {
     "duration": 0.100802,
     "end_time": "2024-11-23T23:49:27.619793",
     "exception": false,
     "start_time": "2024-11-23T23:49:27.518991",
     "status": "completed"
    },
    "tags": []
   },
   "outputs": [
    {
     "name": "stdout",
     "output_type": "stream",
     "text": [
      "Validation Mean Squared Error: 6191801487.9104\n",
      "Validation R^2 Score: 0.5835099650888484\n",
      "Test Mean Squared Error: 6646366503.4880705\n",
      "Test R^2 Score: 0.36011889971839106\n",
      "Predictions saved to 'test_predictions.csv'\n"
     ]
    }
   ],
   "source": [
    "# Just a test model with built in library \n",
    "\n",
    "\n",
    "\n",
    "from sklearn.linear_model import LinearRegression\n",
    "\n",
    "from sklearn.metrics import mean_squared_error, r2_score\n",
    "\n",
    "\n",
    "\n",
    "# Define features (X) and target (y) for training, validation, and test sets\n",
    "\n",
    "X_train = train_data.drop(columns=['car name', 'price'])  \n",
    "\n",
    "y_train = train_data['price']\n",
    "\n",
    "\n",
    "\n",
    "X_val = val_data.drop(columns=['car name', 'price'])  # Drop 'id' and 'target' columns\n",
    "\n",
    "y_val = val_data['price']\n",
    "\n",
    "\n",
    "\n",
    "X_test = test_data.drop(columns=['car name', 'price'])  # Drop 'id' and 'target' columns\n",
    "\n",
    "y_test = test_data['price']\n",
    "\n",
    "\n",
    "\n",
    "# Initialize the Linear Regression model\n",
    "\n",
    "model = LinearRegression()\n",
    "\n",
    "\n",
    "\n",
    "# Train the model on the training data\n",
    "\n",
    "model.fit(X_train, y_train)\n",
    "\n",
    "\n",
    "\n",
    "# Evaluate the model on the validation data\n",
    "\n",
    "y_val_pred = model.predict(X_val)\n",
    "\n",
    "mse_val = mean_squared_error(y_val, y_val_pred)\n",
    "\n",
    "r2_val = r2_score(y_val, y_val_pred)\n",
    "\n",
    "\n",
    "\n",
    "print(f\"Validation Mean Squared Error: {mse_val}\")\n",
    "\n",
    "print(f\"Validation R^2 Score: {r2_val}\")\n",
    "\n",
    "\n",
    "\n",
    "# Evaluate the model on the test data\n",
    "\n",
    "y_test_pred = model.predict(X_test)\n",
    "\n",
    "mse_test = mean_squared_error(y_test, y_test_pred)\n",
    "\n",
    "r2_test = r2_score(y_test, y_test_pred)\n",
    "\n",
    "\n",
    "\n",
    "print(f\"Test Mean Squared Error: {mse_test}\")\n",
    "\n",
    "print(f\"Test R^2 Score: {r2_test}\")\n",
    "\n",
    "\n",
    "\n",
    "\n",
    "\n",
    "# Combine 'car name', original 'price', and predicted 'price' into a DataFrame\n",
    "\n",
    "results = pd.DataFrame({\n",
    "\n",
    "    'car name': test_data['car name'],\n",
    "\n",
    "    'original_price': y_test,\n",
    "\n",
    "    'predicted_price': y_test_pred\n",
    "\n",
    "})\n",
    "\n",
    "\n",
    "\n",
    "# Save the DataFrame to a CSV file\n",
    "\n",
    "results.to_csv('test_predictions.csv', index=False)\n",
    "\n",
    "\n",
    "\n",
    "print(\"Predictions saved to 'test_predictions.csv'\")\n"
   ]
  }
 ],
 "metadata": {
  "kaggle": {
   "accelerator": "none",
   "dataSources": [
    {
     "datasetId": 5759570,
     "sourceId": 9471001,
     "sourceType": "datasetVersion"
    }
   ],
   "dockerImageVersionId": 30786,
   "isGpuEnabled": false,
   "isInternetEnabled": false,
   "language": "python",
   "sourceType": "notebook"
  },
  "kernelspec": {
   "display_name": "Python 3",
   "language": "python",
   "name": "python3"
  },
  "language_info": {
   "codemirror_mode": {
    "name": "ipython",
    "version": 3
   },
   "file_extension": ".py",
   "mimetype": "text/x-python",
   "name": "python",
   "nbconvert_exporter": "python",
   "pygments_lexer": "ipython3",
   "version": "3.10.14"
  },
  "papermill": {
   "default_parameters": {},
   "duration": 11.344932,
   "end_time": "2024-11-23T23:49:28.415921",
   "environment_variables": {},
   "exception": null,
   "input_path": "__notebook__.ipynb",
   "output_path": "__notebook__.ipynb",
   "parameters": {},
   "start_time": "2024-11-23T23:49:17.070989",
   "version": "2.6.0"
  }
 },
 "nbformat": 4,
 "nbformat_minor": 5
}
