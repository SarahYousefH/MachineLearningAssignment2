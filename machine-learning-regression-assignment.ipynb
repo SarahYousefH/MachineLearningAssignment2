{
 "cells": [
  {
   "cell_type": "markdown",
   "id": "e939eb6a",
   "metadata": {
    "papermill": {
     "duration": 0.00921,
     "end_time": "2024-11-22T21:43:41.517707",
     "exception": false,
     "start_time": "2024-11-22T21:43:41.508497",
     "status": "completed"
    },
    "tags": []
   },
   "source": [
    "# 1. Project Overview"
   ]
  },
  {
   "cell_type": "markdown",
   "id": "fcecf0cf",
   "metadata": {
    "papermill": {
     "duration": 0.008795,
     "end_time": "2024-11-22T21:43:41.534628",
     "exception": false,
     "start_time": "2024-11-22T21:43:41.525833",
     "status": "completed"
    },
    "tags": []
   },
   "source": [
    "hiiiii"
   ]
  },
  {
   "cell_type": "markdown",
   "id": "e1ea63ba",
   "metadata": {
    "papermill": {
     "duration": 0.007846,
     "end_time": "2024-11-22T21:43:41.550588",
     "exception": false,
     "start_time": "2024-11-22T21:43:41.542742",
     "status": "completed"
    },
    "tags": []
   },
   "source": [
    "## Main Objective "
   ]
  },
  {
   "cell_type": "markdown",
   "id": "b3462930",
   "metadata": {
    "papermill": {
     "duration": 0.007833,
     "end_time": "2024-11-22T21:43:41.566316",
     "exception": false,
     "start_time": "2024-11-22T21:43:41.558483",
     "status": "completed"
    },
    "tags": []
   },
   "source": [
    "The objective of this project is to:\n",
    "\n",
    "* Build a series of regression models using the provided dataset\n",
    "* Evaluate and compare different models performance\n",
    "* Apply various techniques to improve model accuracy and prevent overfitting.\n",
    "\n",
    "\n",
    "The focus will be on both **linear** and **nonlinear** regression models. \n",
    "In addition this project will also use **feature selection methods** and **regularization techniques**, followed by **hyperparameter tuning**, to select the optimal model.\n"
   ]
  },
  {
   "cell_type": "markdown",
   "id": "f7641e20",
   "metadata": {
    "papermill": {
     "duration": 0.009291,
     "end_time": "2024-11-22T21:43:41.583918",
     "exception": false,
     "start_time": "2024-11-22T21:43:41.574627",
     "status": "completed"
    },
    "tags": []
   },
   "source": [
    "## Data Set Description"
   ]
  },
  {
   "cell_type": "markdown",
   "id": "81898c3c",
   "metadata": {
    "papermill": {
     "duration": 0.007879,
     "end_time": "2024-11-22T21:43:41.600268",
     "exception": false,
     "start_time": "2024-11-22T21:43:41.592389",
     "status": "completed"
    },
    "tags": []
   },
   "source": [
    "This dataset includes around 6,750 rows and 9 columns. It’s well-suited for Exploratory Data\r",
    "Analysis (EDA) and machine learning tasks, particularly for predictive modeling using\r",
    "algorithms like Linear Regression. \n",
    "\n",
    "The main objective of this dataset is to **predict car prices**, making it ideal for developing regression models to understand the relationship between various features and **the target variable (car price)**.\n",
    "\n"
   ]
  },
  {
   "cell_type": "markdown",
   "id": "511fee08",
   "metadata": {
    "papermill": {
     "duration": 0.007939,
     "end_time": "2024-11-22T21:43:41.616470",
     "exception": false,
     "start_time": "2024-11-22T21:43:41.608531",
     "status": "completed"
    },
    "tags": []
   },
   "source": [
    "The table below describes the dataset columns:\n",
    "\n",
    "| **Column**         | **Description**                              | **Measurement Level** |\n",
    "|---------------------|----------------------------------------------|-----------------------|\n",
    "| Car Name           | The name of the car                          | Nominal               |\n",
    "| Price              | The price of the car                         | Numeric               |\n",
    "| Engine Capacity    | The car engine capacity                      | Numeric               |\n",
    "| Cylinder           | The car cylinder power                       | Numeric               |\n",
    "| Horse Power        | The car horse power                          | Numeric               |\n",
    "| Top Speed          | The car top speed                            | Numeric               |\n",
    "| Seats              | Number of seats in the car                   | Numeric               |\n",
    "| Brand              | The car brand                                | Nominal               |\n",
    "| Country            | The country where the site sells this car    | Nominal               |\n"
   ]
  },
  {
   "cell_type": "markdown",
   "id": "ee04366c",
   "metadata": {
    "papermill": {
     "duration": 0.008099,
     "end_time": "2024-11-22T21:43:41.632748",
     "exception": false,
     "start_time": "2024-11-22T21:43:41.624649",
     "status": "completed"
    },
    "tags": []
   },
   "source": [
    "# 2. Data Preprocessing "
   ]
  },
  {
   "cell_type": "markdown",
   "id": "6de3853f",
   "metadata": {
    "papermill": {
     "duration": 0.008037,
     "end_time": "2024-11-22T21:43:41.649088",
     "exception": false,
     "start_time": "2024-11-22T21:43:41.641051",
     "status": "completed"
    },
    "tags": []
   },
   "source": [
    "## First: Import Dataset"
   ]
  },
  {
   "cell_type": "markdown",
   "id": "34c7b4b8",
   "metadata": {
    "papermill": {
     "duration": 0.007947,
     "end_time": "2024-11-22T21:43:41.665043",
     "exception": false,
     "start_time": "2024-11-22T21:43:41.657096",
     "status": "completed"
    },
    "tags": []
   },
   "source": [
    "The code below is responsible for importing data and also displaying quick describtion:"
   ]
  },
  {
   "cell_type": "code",
   "execution_count": 1,
   "id": "a53a8e0e",
   "metadata": {
    "_cell_guid": "b1076dfc-b9ad-4769-8c92-a6c4dae69d19",
    "_uuid": "8f2839f25d086af736a60e9eeb907d3b93b6e0e5",
    "execution": {
     "iopub.execute_input": "2024-11-22T21:43:41.682919Z",
     "iopub.status.busy": "2024-11-22T21:43:41.682534Z",
     "iopub.status.idle": "2024-11-22T21:43:44.558486Z",
     "shell.execute_reply": "2024-11-22T21:43:44.557210Z"
    },
    "papermill": {
     "duration": 2.887766,
     "end_time": "2024-11-22T21:43:44.560844",
     "exception": false,
     "start_time": "2024-11-22T21:43:41.673078",
     "status": "completed"
    },
    "tags": []
   },
   "outputs": [
    {
     "name": "stdout",
     "output_type": "stream",
     "text": [
      "/kaggle/input/cars-dataset/cars.csv\n",
      "successfully imported the dataset\n"
     ]
    }
   ],
   "source": [
    "import os\n",
    "import numpy as np\n",
    "import pandas as pd\n",
    "import matplotlib.pyplot as plt\n",
    "import seaborn as sns\n",
    "\n",
    "for dirname, _, filenames in os.walk('/kaggle/input'):\n",
    "    for filename in filenames:\n",
    "        print(os.path.join(dirname, filename))\n",
    "        \n",
    "df=pd.read_csv('/kaggle/input/cars-dataset/cars.csv')\n",
    "print ('successfully imported the dataset')"
   ]
  },
  {
   "cell_type": "code",
   "execution_count": 2,
   "id": "ff5c23bf",
   "metadata": {
    "execution": {
     "iopub.execute_input": "2024-11-22T21:43:44.579645Z",
     "iopub.status.busy": "2024-11-22T21:43:44.579239Z",
     "iopub.status.idle": "2024-11-22T21:43:44.626325Z",
     "shell.execute_reply": "2024-11-22T21:43:44.625113Z"
    },
    "papermill": {
     "duration": 0.058949,
     "end_time": "2024-11-22T21:43:44.629021",
     "exception": false,
     "start_time": "2024-11-22T21:43:44.570072",
     "status": "completed"
    },
    "tags": []
   },
   "outputs": [
    {
     "data": {
      "text/html": [
       "<div>\n",
       "<style scoped>\n",
       "    .dataframe tbody tr th:only-of-type {\n",
       "        vertical-align: middle;\n",
       "    }\n",
       "\n",
       "    .dataframe tbody tr th {\n",
       "        vertical-align: top;\n",
       "    }\n",
       "\n",
       "    .dataframe thead th {\n",
       "        text-align: right;\n",
       "    }\n",
       "</style>\n",
       "<table border=\"1\" class=\"dataframe\">\n",
       "  <thead>\n",
       "    <tr style=\"text-align: right;\">\n",
       "      <th></th>\n",
       "      <th>car name</th>\n",
       "      <th>price</th>\n",
       "      <th>engine_capacity</th>\n",
       "      <th>cylinder</th>\n",
       "      <th>horse_power</th>\n",
       "      <th>top_speed</th>\n",
       "      <th>seats</th>\n",
       "      <th>brand</th>\n",
       "      <th>country</th>\n",
       "    </tr>\n",
       "  </thead>\n",
       "  <tbody>\n",
       "    <tr>\n",
       "      <th>count</th>\n",
       "      <td>6308</td>\n",
       "      <td>6308</td>\n",
       "      <td>6308</td>\n",
       "      <td>5684</td>\n",
       "      <td>6308</td>\n",
       "      <td>6308</td>\n",
       "      <td>6308</td>\n",
       "      <td>6308</td>\n",
       "      <td>6308</td>\n",
       "    </tr>\n",
       "    <tr>\n",
       "      <th>unique</th>\n",
       "      <td>2546</td>\n",
       "      <td>3395</td>\n",
       "      <td>129</td>\n",
       "      <td>10</td>\n",
       "      <td>330</td>\n",
       "      <td>169</td>\n",
       "      <td>82</td>\n",
       "      <td>82</td>\n",
       "      <td>7</td>\n",
       "    </tr>\n",
       "    <tr>\n",
       "      <th>top</th>\n",
       "      <td>Mercedes-Benz C-Class 2022 C 300</td>\n",
       "      <td>TBD</td>\n",
       "      <td>2.0</td>\n",
       "      <td>4</td>\n",
       "      <td>150</td>\n",
       "      <td>250</td>\n",
       "      <td>5 Seater</td>\n",
       "      <td>mercedes-benz</td>\n",
       "      <td>uae</td>\n",
       "    </tr>\n",
       "    <tr>\n",
       "      <th>freq</th>\n",
       "      <td>10</td>\n",
       "      <td>437</td>\n",
       "      <td>1241</td>\n",
       "      <td>2856</td>\n",
       "      <td>162</td>\n",
       "      <td>1100</td>\n",
       "      <td>3471</td>\n",
       "      <td>560</td>\n",
       "      <td>1248</td>\n",
       "    </tr>\n",
       "  </tbody>\n",
       "</table>\n",
       "</div>"
      ],
      "text/plain": [
       "                                car name price engine_capacity cylinder  \\\n",
       "count                               6308  6308            6308     5684   \n",
       "unique                              2546  3395             129       10   \n",
       "top     Mercedes-Benz C-Class 2022 C 300   TBD             2.0        4   \n",
       "freq                                  10   437            1241     2856   \n",
       "\n",
       "       horse_power top_speed     seats          brand country  \n",
       "count         6308      6308      6308           6308    6308  \n",
       "unique         330       169        82             82       7  \n",
       "top            150       250  5 Seater  mercedes-benz     uae  \n",
       "freq           162      1100      3471            560    1248  "
      ]
     },
     "execution_count": 2,
     "metadata": {},
     "output_type": "execute_result"
    }
   ],
   "source": [
    "df.describe()"
   ]
  },
  {
   "cell_type": "markdown",
   "id": "f6bddbfd",
   "metadata": {
    "papermill": {
     "duration": 0.007993,
     "end_time": "2024-11-22T21:43:44.645708",
     "exception": false,
     "start_time": "2024-11-22T21:43:44.637715",
     "status": "completed"
    },
    "tags": []
   },
   "source": [
    "In order to understand the data further below we count the number of unique values in each column and their frequency:"
   ]
  },
  {
   "cell_type": "code",
   "execution_count": 3,
   "id": "30c3cc1a",
   "metadata": {
    "execution": {
     "iopub.execute_input": "2024-11-22T21:43:44.664059Z",
     "iopub.status.busy": "2024-11-22T21:43:44.663682Z",
     "iopub.status.idle": "2024-11-22T21:43:44.686325Z",
     "shell.execute_reply": "2024-11-22T21:43:44.685100Z"
    },
    "papermill": {
     "duration": 0.035605,
     "end_time": "2024-11-22T21:43:44.689620",
     "exception": false,
     "start_time": "2024-11-22T21:43:44.654015",
     "status": "completed"
    },
    "tags": []
   },
   "outputs": [
    {
     "name": "stdout",
     "output_type": "stream",
     "text": [
      "Name: car name dtype: object\n",
      "\n",
      "car name\n",
      "Mercedes-Benz C-Class 2022 C 300                          10\n",
      "Fiat 500e 2021 La Prima                                    7\n",
      "Porsche 911 2021 Carrera S Cabriolet                       7\n",
      "Porsche 911 2021 Carrera 4S                                7\n",
      "Kia Rio Sedan 2021 1.6L MPI                                7\n",
      "                                                          ..\n",
      "Jaguar F-Type Convertible 2021 2.0T R-Dynamic (300 PS)     1\n",
      "Hyundai Kona 2021 1.6L T-GDI GLS Premium (AWD)             1\n",
      "Chevrolet Trax 2021 1.8L Premier AWD                       1\n",
      "Jaguar XF 2021 3.0 V6 SC R Sport                           1\n",
      "Lamborghini Aventador Ultimae 2022 LP 780-4                1\n",
      "Name: count, Length: 2546, dtype: int64\n",
      "\n",
      "----------------------------------------------------------------------------------------------------\n",
      "\n",
      "\n",
      "Name: price dtype: object\n",
      "\n",
      "price\n",
      "TBD               437\n",
      "Following         238\n",
      "DISCONTINUED      140\n",
      "Follow             27\n",
      "Grigio Maratea     23\n",
      "                 ... \n",
      "BHD 23,900          1\n",
      "BHD 24,300          1\n",
      "BHD 24,100          1\n",
      "BHD 24,700          1\n",
      "AED 1,650,000       1\n",
      "Name: count, Length: 3395, dtype: int64\n",
      "\n",
      "----------------------------------------------------------------------------------------------------\n",
      "\n",
      "\n",
      "Name: engine_capacity dtype: object\n",
      "\n",
      "engine_capacity\n",
      "2.0     1241\n",
      "3.0      703\n",
      "3.5      359\n",
      "1.5      347\n",
      "4.0      340\n",
      "        ... \n",
      "3342       1\n",
      "2476       1\n",
      "4400       1\n",
      "3470       1\n",
      "1595       1\n",
      "Name: count, Length: 129, dtype: int64\n",
      "\n",
      "----------------------------------------------------------------------------------------------------\n",
      "\n",
      "\n",
      "Name: cylinder dtype: object\n",
      "\n",
      "cylinder\n",
      "4                2856\n",
      "6                1480\n",
      "8                 924\n",
      "3                 139\n",
      "12                136\n",
      "N/A, Electric     107\n",
      "10                 21\n",
      "5                  17\n",
      "Drive Type          3\n",
      "16                  1\n",
      "Name: count, dtype: int64\n",
      "\n",
      "----------------------------------------------------------------------------------------------------\n",
      "\n",
      "\n",
      "Name: horse_power dtype: object\n",
      "\n",
      "horse_power\n",
      "150    162\n",
      "355    116\n",
      "400    111\n",
      "184    109\n",
      "300    103\n",
      "      ... \n",
      "87       1\n",
      "126      1\n",
      "394      1\n",
      "236      1\n",
      "720      1\n",
      "Name: count, Length: 330, dtype: int64\n",
      "\n",
      "----------------------------------------------------------------------------------------------------\n",
      "\n",
      "\n",
      "Name: top_speed dtype: object\n",
      "\n",
      "top_speed\n",
      "250    1100\n",
      "180     410\n",
      "200     392\n",
      "170     332\n",
      "190     294\n",
      "       ... \n",
      "600       1\n",
      "130       1\n",
      "966       1\n",
      "262       1\n",
      "324       1\n",
      "Name: count, Length: 169, dtype: int64\n",
      "\n",
      "----------------------------------------------------------------------------------------------------\n",
      "\n",
      "\n",
      "Name: seats dtype: object\n",
      "\n",
      "seats\n",
      "5 Seater    3471\n",
      "4 Seater     847\n",
      "7 Seater     532\n",
      "2 Seater     428\n",
      "8 Seater     211\n",
      "            ... \n",
      "24.1           1\n",
      "12.3           1\n",
      "230            1\n",
      "220            1\n",
      "2.8            1\n",
      "Name: count, Length: 82, dtype: int64\n",
      "\n",
      "----------------------------------------------------------------------------------------------------\n",
      "\n",
      "\n",
      "Name: brand dtype: object\n",
      "\n",
      "brand\n",
      "mercedes-benz    560\n",
      "audi             398\n",
      "bmw              394\n",
      "toyota           378\n",
      "ford             323\n",
      "                ... \n",
      "tata               2\n",
      "soueast            2\n",
      "byd                2\n",
      "dfm                1\n",
      "bugatti            1\n",
      "Name: count, Length: 82, dtype: int64\n",
      "\n",
      "----------------------------------------------------------------------------------------------------\n",
      "\n",
      "\n",
      "Name: country dtype: object\n",
      "\n",
      "country\n",
      "uae        1248\n",
      "ksa         996\n",
      "kuwait      932\n",
      "qatar       925\n",
      "oman        910\n",
      "bahrain     906\n",
      "egypt       391\n",
      "Name: count, dtype: int64\n",
      "\n",
      "----------------------------------------------------------------------------------------------------\n",
      "\n",
      "\n"
     ]
    }
   ],
   "source": [
    "for col in df.columns:  # Iterate over column names in the DataFrame\n",
    "    # Print the name of the column and its type\n",
    "    print(f'Name: {col} dtype: {df[col].dtype}\\n')\n",
    "    # Print each unique value with its frequency\n",
    "    print(f'{df[col].value_counts()}\\n')\n",
    "    # Print a separator\n",
    "    print(('-' * 100) + '\\n\\n')"
   ]
  },
  {
   "cell_type": "markdown",
   "id": "894b95f6",
   "metadata": {
    "papermill": {
     "duration": 0.0084,
     "end_time": "2024-11-22T21:43:44.706859",
     "exception": false,
     "start_time": "2024-11-22T21:43:44.698459",
     "status": "completed"
    },
    "tags": []
   },
   "source": [
    "#### What can we notice from each column?\n",
    "1. The column car name serves as an identifier and not missing for any of the cars and so no more processing needed.\n",
    "2. The price is listed in different currency. Further, some are (TBD, Following, Discountinued), these entries need to be removed for Linear regression because missing target values make it impossible to calculate the error or fit the model properly.\n",
    "3. The engine capacity is not standard some are denoted in liters as (1.4, 2.6) and others are in cubic centimeters like (1,400) and these need to be standraized\n",
    "4. The cyclinder column has N/A values for electric cars, because the do not have cyclinders and this needs to be handled. Also some are as (Single or Double) that needs to be handled.\n",
    "5. the top speed column has some incorrect entries(like 4 Seaters ) and this is incorrect and need to be handled. Further some values are (automatic or N A) and these needs to be addressed.\n",
    "6. The seats column has some incorrrect entries , either floats or too large entries like 150.\n",
    "7. The brand and country is correctly entered for all.\n"
   ]
  },
  {
   "cell_type": "markdown",
   "id": "ac367d93",
   "metadata": {
    "papermill": {
     "duration": 0.008377,
     "end_time": "2024-11-22T21:43:44.723739",
     "exception": false,
     "start_time": "2024-11-22T21:43:44.715362",
     "status": "completed"
    },
    "tags": []
   },
   "source": [
    "## Second: Data Cleaning\n",
    "\n",
    "In this part we want to perform the following:\n",
    "\n",
    "\n",
    "* Handle missing values\n",
    "* Handle incorrect entries or values\n",
    "* Encoding categorical features (if applicaple)\n",
    "* Normalize or standardize numerical features (if necessary)\n",
    "* Split the dataset into: 60% for training, 20% for validation, and 20% for testing\n"
   ]
  },
  {
   "cell_type": "markdown",
   "id": "ebca71cb",
   "metadata": {
    "papermill": {
     "duration": 0.008144,
     "end_time": "2024-11-22T21:43:44.740518",
     "exception": false,
     "start_time": "2024-11-22T21:43:44.732374",
     "status": "completed"
    },
    "tags": []
   },
   "source": [
    "### Handle missing values\n",
    "\n",
    "We want to start by removing any missing values from the data set:"
   ]
  },
  {
   "cell_type": "code",
   "execution_count": 4,
   "id": "ad2404ec",
   "metadata": {
    "execution": {
     "iopub.execute_input": "2024-11-22T21:43:44.759414Z",
     "iopub.status.busy": "2024-11-22T21:43:44.758990Z",
     "iopub.status.idle": "2024-11-22T21:43:44.786960Z",
     "shell.execute_reply": "2024-11-22T21:43:44.785675Z"
    },
    "papermill": {
     "duration": 0.040619,
     "end_time": "2024-11-22T21:43:44.789582",
     "exception": false,
     "start_time": "2024-11-22T21:43:44.748963",
     "status": "completed"
    },
    "tags": []
   },
   "outputs": [
    {
     "name": "stdout",
     "output_type": "stream",
     "text": [
      "Rows before removal: 6308\n",
      "Rows after removal: 5493\n"
     ]
    }
   ],
   "source": [
    "def remove_missing_price(df):\n",
    "    \"\"\"\n",
    "    Removes rows where the 'price' column is missing (NaN or contains specific keywords).\n",
    "    Displays the number of rows before and after removal.\n",
    "    \"\"\"\n",
    "    print(f'Rows before removal: {len(df)}')\n",
    "\n",
    "    # Define missing keywords to check within the 'price' column\n",
    "    missing_keywords = ['TBD', 'N A', 'Following', 'DISCONTINUED']\n",
    "\n",
    "    # Remove rows where 'price' is NaN\n",
    "    df = df.dropna(subset=['price'])\n",
    "\n",
    "    # Remove rows in the 'price' column that contain any of the missing keywords\n",
    "    df = df[~df['price'].astype(str).str.contains('|'.join(missing_keywords), case=False, na=False)]\n",
    "\n",
    "    print(f'Rows after removal: {len(df)}')\n",
    "\n",
    "    return df\n",
    "\n",
    "# Apply the function\n",
    "df = remove_missing_price(df)\n"
   ]
  },
  {
   "cell_type": "code",
   "execution_count": 5,
   "id": "1fa9a5ec",
   "metadata": {
    "execution": {
     "iopub.execute_input": "2024-11-22T21:43:44.809432Z",
     "iopub.status.busy": "2024-11-22T21:43:44.809025Z",
     "iopub.status.idle": "2024-11-22T21:43:46.323664Z",
     "shell.execute_reply": "2024-11-22T21:43:46.322163Z"
    },
    "papermill": {
     "duration": 1.527197,
     "end_time": "2024-11-22T21:43:46.326117",
     "exception": false,
     "start_time": "2024-11-22T21:43:44.798920",
     "status": "completed"
    },
    "tags": []
   },
   "outputs": [
    {
     "name": "stdout",
     "output_type": "stream",
     "text": [
      "Before Removing: 5493\n",
      "After Removing: 4771\n"
     ]
    }
   ],
   "source": [
    "def remove_missing_values(df):\n",
    "    \"\"\"\n",
    "    Removes rows containing missing keywords and displays the number of rows before and after removal.\n",
    "    \"\"\"\n",
    "    print(f'Before Removing: {len(df)}')\n",
    "\n",
    "    # Remove rows with any missing value\n",
    "    df.dropna(how='any', inplace=True)\n",
    "    \n",
    "    # Remove rows with any missing keywords\n",
    "    missing_keywords = ['TBD', 'N A', 'Following', 'DISCONTINUED']\n",
    "\n",
    "    # Remove rows containing any of the missing keywords\n",
    "    df = df[~df.apply(lambda row: row.astype(str).str.contains('|'.join(missing_keywords), case=False, na=False).any(), axis=1)]\n",
    "\n",
    "    print(f'After Removing: {len(df)}')\n",
    "\n",
    "    return df\n",
    "\n",
    "\n",
    "df = remove_missing_values(df)\n"
   ]
  },
  {
   "cell_type": "markdown",
   "id": "a2781248",
   "metadata": {
    "papermill": {
     "duration": 0.008388,
     "end_time": "2024-11-22T21:43:46.343452",
     "exception": false,
     "start_time": "2024-11-22T21:43:46.335064",
     "status": "completed"
    },
    "tags": []
   },
   "source": [
    "### Handle incorrect values\n",
    "\n",
    "Here we want to analyze the colums given insights noted after imoorting and fix any incorrent discrepancies."
   ]
  },
  {
   "cell_type": "markdown",
   "id": "9bda2f1b",
   "metadata": {
    "papermill": {
     "duration": 0.008309,
     "end_time": "2024-11-22T21:43:46.360566",
     "exception": false,
     "start_time": "2024-11-22T21:43:46.352257",
     "status": "completed"
    },
    "tags": []
   },
   "source": [
    "#### Price : \n",
    "\n",
    "To ensure consistency, we need to standardize all prices to a common currency, here we'll use USD, for a uniform target variable. This will help avoid discrepancies and improve the accuracy of any predictive modeling"
   ]
  },
  {
   "cell_type": "code",
   "execution_count": 6,
   "id": "4d7388ed",
   "metadata": {
    "execution": {
     "iopub.execute_input": "2024-11-22T21:43:46.379915Z",
     "iopub.status.busy": "2024-11-22T21:43:46.379468Z",
     "iopub.status.idle": "2024-11-22T21:43:46.424126Z",
     "shell.execute_reply": "2024-11-22T21:43:46.423004Z"
    },
    "papermill": {
     "duration": 0.057366,
     "end_time": "2024-11-22T21:43:46.426705",
     "exception": false,
     "start_time": "2024-11-22T21:43:46.369339",
     "status": "completed"
    },
    "tags": []
   },
   "outputs": [],
   "source": [
    "def apply_price_adj(price):\n",
    "    \"\"\"\n",
    "    Converts a price string with a currency code into USD.\n",
    "    \"\"\"\n",
    "    try:\n",
    "        # Extract the currency code (first 3 characters)\n",
    "        currency_code = price[:3].strip()\n",
    "        # Extract the price string (everything after the currency code) and remove commas\n",
    "        price_str = price[4:].replace(',', '').strip()\n",
    "        # Convert price to float\n",
    "        price_value = float(price_str)\n",
    "\n",
    "        # Currency conversion rates as of 20 Nov 2024\n",
    "        conversion_rates = {\n",
    "            'AED': 0.27,   # 1 AED = 0.27 USD\n",
    "            'KWD': 3.28,   # 1 KWD = 3.28 USD\n",
    "            'OMR': 2.60,   # 1 OMR = 2.60 USD\n",
    "            'BHD': 2.65,   # 1 BHD = 2.65 USD\n",
    "            'QAR': 0.25,   # 1 QAR = 0.25 USD\n",
    "            'SAR': 0.27,   # 1 SAR = 0.27 USD\n",
    "            'EGP': 0.021   # 1 EGP = 0.021 USD\n",
    "        }\n",
    "\n",
    "        # Convert to USD if the currency code is valid\n",
    "        if currency_code in conversion_rates:\n",
    "            price_in_dollars = price_value * conversion_rates[currency_code]\n",
    "            return round(price_in_dollars, 3)  # Round to three decimal places\n",
    "        else:\n",
    "            # Return NaN if the currency code is not recognized\n",
    "            return float('nan')\n",
    "\n",
    "    except (ValueError, IndexError):\n",
    "        # Return NaN for invalid input or parsing errors\n",
    "        return float('nan')\n",
    "\n",
    "\n",
    "\n",
    "# Apply the function to replace the 'price' column values \n",
    "df['price'] = df['price'].apply(apply_price_adj)\n",
    "\n",
    "# Drop rows where 'price' is NaN\n",
    "df.dropna(subset=['price'], inplace=True)\n",
    "\n",
    "# Save the cleaned DataFrame to a CSV file\n",
    "df.to_csv('/kaggle/working/output3.csv', index=False)"
   ]
  },
  {
   "cell_type": "markdown",
   "id": "468cce72",
   "metadata": {
    "papermill": {
     "duration": 0.008395,
     "end_time": "2024-11-22T21:43:46.443965",
     "exception": false,
     "start_time": "2024-11-22T21:43:46.435570",
     "status": "completed"
    },
    "tags": []
   },
   "source": [
    "#### Engine Capacity :\n",
    "To ensure consistency, we need to standardize all engine capacities to liters and see we would need to convernt any valus in cubic centimerts to litres."
   ]
  },
  {
   "cell_type": "code",
   "execution_count": 7,
   "id": "6cb8fbd6",
   "metadata": {
    "execution": {
     "iopub.execute_input": "2024-11-22T21:43:46.463087Z",
     "iopub.status.busy": "2024-11-22T21:43:46.462682Z",
     "iopub.status.idle": "2024-11-22T21:43:46.499759Z",
     "shell.execute_reply": "2024-11-22T21:43:46.498478Z"
    },
    "papermill": {
     "duration": 0.049826,
     "end_time": "2024-11-22T21:43:46.502487",
     "exception": false,
     "start_time": "2024-11-22T21:43:46.452661",
     "status": "completed"
    },
    "tags": []
   },
   "outputs": [],
   "source": [
    "def apply_engine_adj(capacity):\n",
    "    \"\"\"\n",
    "    Standardizes engine capacity to liters.\n",
    "    If the value is greater than 1000, it is assumed to be in cubic centimeters (cc) and converted to liters.\n",
    "    Otherwise, it is treated as already in liters.\n",
    "    \"\"\"\n",
    "    try:\n",
    "        # Convert to float for comparison\n",
    "        engine_capacity = float(capacity)\n",
    "\n",
    "        # Check if the value is larger than 1000\n",
    "        if engine_capacity > 1000:\n",
    "            engine_capacity = engine_capacity / 1000  # Convert cc to liters\n",
    "        return round(engine_capacity, 2)  # Return value in liters, rounded to 2 decimals\n",
    "\n",
    "    except (ValueError, TypeError):\n",
    "        # Return NaN for invalid input or parsing errors\n",
    "        return float('nan')\n",
    "\n",
    "\n",
    "# Apply the function to replace the 'engine' column values \n",
    "df['engine_capacity'] = df['engine_capacity'].apply(apply_engine_adj)\n",
    "\n",
    "# Drop rows where 'price' is NaN\n",
    "df.dropna(subset=['engine_capacity'], inplace=True)\n",
    "\n",
    "# Save the cleaned DataFrame to a CSV file\n",
    "df.to_csv('/kaggle/working/output4.csv', index=False)"
   ]
  },
  {
   "cell_type": "markdown",
   "id": "fb010855",
   "metadata": {
    "papermill": {
     "duration": 0.008635,
     "end_time": "2024-11-22T21:43:46.520168",
     "exception": false,
     "start_time": "2024-11-22T21:43:46.511533",
     "status": "completed"
    },
    "tags": []
   },
   "source": [
    "#### Cylinder:\n",
    "We will apply feature extranction here, for electric cars there is no cylinders , so we will add a column to mark if electric or not. In the cylider column if electric we will set to -1.\n",
    "\n"
   ]
  },
  {
   "cell_type": "markdown",
   "id": "19daaf63",
   "metadata": {
    "papermill": {
     "duration": 0.008596,
     "end_time": "2024-11-22T21:43:46.537681",
     "exception": false,
     "start_time": "2024-11-22T21:43:46.529085",
     "status": "completed"
    },
    "tags": []
   },
   "source": [
    "**Why -1 ?**\n",
    "\n",
    "For most vehicles, cylinder counts are typically 3, 4, 6, 8, 10 or 12, using a negative value does not overlap with valid cylinder counts (e.g., 3, 4, 6, 8, etc.).\n",
    "It explicitly indicates the absence of a conventional cylinder count, making it interpretable as \"no cylinders.\""
   ]
  },
  {
   "cell_type": "code",
   "execution_count": 8,
   "id": "98462c8a",
   "metadata": {
    "execution": {
     "iopub.execute_input": "2024-11-22T21:43:46.556893Z",
     "iopub.status.busy": "2024-11-22T21:43:46.556525Z",
     "iopub.status.idle": "2024-11-22T21:43:46.594673Z",
     "shell.execute_reply": "2024-11-22T21:43:46.593569Z"
    },
    "papermill": {
     "duration": 0.050717,
     "end_time": "2024-11-22T21:43:46.597220",
     "exception": false,
     "start_time": "2024-11-22T21:43:46.546503",
     "status": "completed"
    },
    "tags": []
   },
   "outputs": [],
   "source": [
    "def apply_cylinder_adj(capacity):\n",
    "    \"\"\"\n",
    "    Adjusts the cylinder values. If the value is 'Electric' or 'N/A', it returns -1.\n",
    "    \"\"\"\n",
    "    try:\n",
    "        # Handle Electric and N/A cases\n",
    "        if capacity in ['N/A, Electric']:\n",
    "            return -1\n",
    "          # Return numeric values as they are\n",
    "        return float(capacity)\n",
    "    except (ValueError, TypeError):\n",
    "        # Return NaN for invalid inputs\n",
    "        return float('nan')\n",
    "\n",
    "# Apply the function to adjust the 'cylinder' column\n",
    "df['cylinder'] = df['cylinder'].apply(apply_cylinder_adj)\n",
    "\n",
    "# Add a new column to indicate if the vehicle is electric\n",
    "df['is_electric'] = df['cylinder'].apply(lambda x: 1 if x == -1 else 0)\n",
    "\n",
    "# Save the cleaned DataFrame to a CSV file\n",
    "df.to_csv('/kaggle/working/output5.csv', index=False)\n",
    "\n"
   ]
  },
  {
   "cell_type": "markdown",
   "id": "d9fffca4",
   "metadata": {
    "papermill": {
     "duration": 0.009026,
     "end_time": "2024-11-22T21:43:46.617224",
     "exception": false,
     "start_time": "2024-11-22T21:43:46.608198",
     "status": "completed"
    },
    "tags": []
   },
   "source": [
    "#### Horse Power:\n",
    "\n",
    "Replace Single, Double, Triple with their standard values"
   ]
  },
  {
   "cell_type": "code",
   "execution_count": 9,
   "id": "3ccb925f",
   "metadata": {
    "execution": {
     "iopub.execute_input": "2024-11-22T21:43:46.636249Z",
     "iopub.status.busy": "2024-11-22T21:43:46.635838Z",
     "iopub.status.idle": "2024-11-22T21:43:46.677978Z",
     "shell.execute_reply": "2024-11-22T21:43:46.676799Z"
    },
    "papermill": {
     "duration": 0.054751,
     "end_time": "2024-11-22T21:43:46.680651",
     "exception": false,
     "start_time": "2024-11-22T21:43:46.625900",
     "status": "completed"
    },
    "tags": []
   },
   "outputs": [],
   "source": [
    "def apply_horse_adj(capacity):\n",
    "    \"\"\"\n",
    "    Adjusts the horsepower values. If the value matches 'Single', 'Double', or 'Triple',\n",
    "    it replaces them with their corresponding horsepower values These values are averages taken from online sources. \n",
    "    Otherwise, numeric values remain unchanged.\n",
    "    \"\"\"\n",
    "    horsepower_dict = {\n",
    "        'Single': 283,\n",
    "        'Double': 422.0,\n",
    "        'Triple': 810.0\n",
    "    }\n",
    "    \n",
    "    try:\n",
    "        return float(capacity)\n",
    "    except (ValueError, TypeError): # if not already numeric\n",
    "        # Map known strings to their corresponding horsepower values\n",
    "        return horsepower_dict.get(capacity, float('nan'))  # NaN for unrecognized strings\n",
    "\n",
    "# Apply the function to adjust the 'horse_power' column\n",
    "df['horse_power'] = df['horse_power'].apply(apply_horse_adj)\n",
    "\n",
    "# Drop rows with NaN in 'horse_power' (invalid entries)\n",
    "df.dropna(subset=['horse_power'], inplace=True)\n",
    "\n",
    "# Save the cleaned DataFrame to a CSV file\n",
    "df.to_csv('/kaggle/working/output6.csv', index=False)\n"
   ]
  },
  {
   "cell_type": "markdown",
   "id": "a2e11078",
   "metadata": {
    "papermill": {
     "duration": 0.008238,
     "end_time": "2024-11-22T21:43:46.697860",
     "exception": false,
     "start_time": "2024-11-22T21:43:46.689622",
     "status": "completed"
    },
    "tags": []
   },
   "source": [
    "#### Speed:\n",
    "\n",
    "Remove any non-numeric values."
   ]
  },
  {
   "cell_type": "code",
   "execution_count": 10,
   "id": "d1aa9b94",
   "metadata": {
    "execution": {
     "iopub.execute_input": "2024-11-22T21:43:46.717060Z",
     "iopub.status.busy": "2024-11-22T21:43:46.716612Z",
     "iopub.status.idle": "2024-11-22T21:43:46.756432Z",
     "shell.execute_reply": "2024-11-22T21:43:46.755181Z"
    },
    "papermill": {
     "duration": 0.052529,
     "end_time": "2024-11-22T21:43:46.759059",
     "exception": false,
     "start_time": "2024-11-22T21:43:46.706530",
     "status": "completed"
    },
    "tags": []
   },
   "outputs": [],
   "source": [
    "def apply_top_speed_adj(speed):\n",
    "    \"\"\"\n",
    "    Cleans and standardizes the top_speed values.\n",
    "    If the value is non-numeric (e.g., 'N/A', 'Unknown'), it is converted to NaN.\n",
    "    Otherwise, it is treated as a valid numeric value.\n",
    "    \"\"\"\n",
    "    try:\n",
    "        # Attempt to convert the value to a float\n",
    "        return float(speed)\n",
    "    except (ValueError, TypeError):\n",
    "        # Return NaN for invalid input or parsing errors\n",
    "        return float('nan')\n",
    "\n",
    "\n",
    "# Apply the function to replace the 'top_speed' column values\n",
    "df['top_speed'] = df['top_speed'].apply(apply_top_speed_adj)\n",
    "\n",
    "# Drop rows where 'top_speed' is NaN\n",
    "df.dropna(subset=['top_speed'], inplace=True)\n",
    "\n",
    "# Save the cleaned DataFrame to a CSV file\n",
    "df.to_csv('/kaggle/working/output7.csv', index=False)"
   ]
  },
  {
   "cell_type": "markdown",
   "id": "e865686c",
   "metadata": {
    "papermill": {
     "duration": 0.008446,
     "end_time": "2024-11-22T21:43:46.776415",
     "exception": false,
     "start_time": "2024-11-22T21:43:46.767969",
     "status": "completed"
    },
    "tags": []
   },
   "source": [
    "#### Seats:\n",
    "\n",
    "We need to extract seats into their numeric values:\n",
    "\n",
    "Note : reaching this here some values that were already invalid like floats (1.4, 2.5) and large values (150), were already removed since there has been multiple issue with that records entry."
   ]
  },
  {
   "cell_type": "code",
   "execution_count": 11,
   "id": "926e9a33",
   "metadata": {
    "execution": {
     "iopub.execute_input": "2024-11-22T21:43:46.796427Z",
     "iopub.status.busy": "2024-11-22T21:43:46.795567Z",
     "iopub.status.idle": "2024-11-22T21:43:46.836193Z",
     "shell.execute_reply": "2024-11-22T21:43:46.834980Z"
    },
    "papermill": {
     "duration": 0.05354,
     "end_time": "2024-11-22T21:43:46.838803",
     "exception": false,
     "start_time": "2024-11-22T21:43:46.785263",
     "status": "completed"
    },
    "tags": []
   },
   "outputs": [],
   "source": [
    "def apply_seats_adj(seats_string):\n",
    "    \"\"\"\n",
    "    Extracts the number of seats from a string assuming this format '5 Seater'.\n",
    "    \"\"\"\n",
    "    try:\n",
    "        # Split the string and extract the first part as an integer\n",
    "        return int(seats_string.split()[0])\n",
    "    except (ValueError, AttributeError, IndexError):\n",
    "        # Return NaN for invalid or unparsable values\n",
    "        return float('nan')\n",
    "\n",
    "# Apply the function to the 'seats' column\n",
    "df['seats'] = df['seats'].apply(apply_seats_adj)\n",
    "\n",
    "# Drop rows where 'seats' is NaN\n",
    "df.dropna(subset=['seats'], inplace=True)\n",
    "\n",
    "# Save the cleaned DataFrame to a CSV file\n",
    "df.to_csv('/kaggle/working/output8.csv', index=False)\n"
   ]
  },
  {
   "cell_type": "markdown",
   "id": "34623959",
   "metadata": {
    "papermill": {
     "duration": 0.0087,
     "end_time": "2024-11-22T21:43:46.858342",
     "exception": false,
     "start_time": "2024-11-22T21:43:46.849642",
     "status": "completed"
    },
    "tags": []
   },
   "source": [
    "#### Summary:\n",
    "\n",
    "The current number of records is 4078, the original was 6038. We lost around 35% of the data, we will continue and assume acceptable with that since the data has many issues and descripincies in the start."
   ]
  },
  {
   "cell_type": "code",
   "execution_count": 12,
   "id": "ba1c4e1b",
   "metadata": {
    "execution": {
     "iopub.execute_input": "2024-11-22T21:43:46.877618Z",
     "iopub.status.busy": "2024-11-22T21:43:46.877212Z",
     "iopub.status.idle": "2024-11-22T21:43:46.883143Z",
     "shell.execute_reply": "2024-11-22T21:43:46.881946Z"
    },
    "papermill": {
     "duration": 0.018024,
     "end_time": "2024-11-22T21:43:46.885192",
     "exception": false,
     "start_time": "2024-11-22T21:43:46.867168",
     "status": "completed"
    },
    "tags": []
   },
   "outputs": [
    {
     "name": "stdout",
     "output_type": "stream",
     "text": [
      "4078\n"
     ]
    }
   ],
   "source": [
    "print (len(df))"
   ]
  },
  {
   "cell_type": "markdown",
   "id": "36485369",
   "metadata": {
    "papermill": {
     "duration": 0.009605,
     "end_time": "2024-11-22T21:43:46.903696",
     "exception": false,
     "start_time": "2024-11-22T21:43:46.894091",
     "status": "completed"
    },
    "tags": []
   },
   "source": [
    "### Encode Categorical\n"
   ]
  },
  {
   "cell_type": "markdown",
   "id": "68845749",
   "metadata": {
    "papermill": {
     "duration": 0.008629,
     "end_time": "2024-11-22T21:43:46.921438",
     "exception": false,
     "start_time": "2024-11-22T21:43:46.912809",
     "status": "completed"
    },
    "tags": []
   },
   "source": [
    "**Perform one-hot encoding for country.**"
   ]
  },
  {
   "cell_type": "code",
   "execution_count": 13,
   "id": "7598b5d2",
   "metadata": {
    "execution": {
     "iopub.execute_input": "2024-11-22T21:43:46.941070Z",
     "iopub.status.busy": "2024-11-22T21:43:46.940686Z",
     "iopub.status.idle": "2024-11-22T21:43:46.962342Z",
     "shell.execute_reply": "2024-11-22T21:43:46.960983Z"
    },
    "papermill": {
     "duration": 0.034414,
     "end_time": "2024-11-22T21:43:46.965022",
     "exception": false,
     "start_time": "2024-11-22T21:43:46.930608",
     "status": "completed"
    },
    "tags": []
   },
   "outputs": [
    {
     "name": "stdout",
     "output_type": "stream",
     "text": [
      "                             car name     price  engine_capacity  cylinder  \\\n",
      "2    Suzuki Jimny 2021 1.5L Automatic  26671.95              1.5       4.0   \n",
      "5       Honda HR-V 2021 1.8 i-VTEC EX  25740.45              1.8       4.0   \n",
      "8   Renault Koleos 2021 2.5L LE (4WD)  31563.00              2.5       4.0   \n",
      "10         Suzuki Jimny 2021 1.5L M/T  24808.95              1.5       4.0   \n",
      "11      Honda HR-V 2021 1.8 i-VTEC DX  19530.45              1.8       4.0   \n",
      "\n",
      "    horse_power  top_speed  seats    brand  is_electric  country_egypt  \\\n",
      "2         102.0      145.0    4.0   suzuki            0              0   \n",
      "5         140.0      190.0    5.0    honda            0              0   \n",
      "8         170.0      199.0    5.0  renault            0              0   \n",
      "10        102.0      145.0    4.0   suzuki            0              0   \n",
      "11        140.0      190.0    5.0    honda            0              0   \n",
      "\n",
      "    country_ksa  country_kuwait  country_oman  country_qatar  country_uae  \n",
      "2             1               0             0              0            0  \n",
      "5             1               0             0              0            0  \n",
      "8             1               0             0              0            0  \n",
      "10            1               0             0              0            0  \n",
      "11            1               0             0              0            0  \n"
     ]
    }
   ],
   "source": [
    "def encode_countries(df):\n",
    "    # One-hot encode the 'country' column\n",
    "    df_encoded = pd.get_dummies(df, columns=['country'], dtype=int, drop_first=True)    \n",
    "    \n",
    "    return df_encoded\n",
    "\n",
    "df = encode_countries(df)\n",
    "print (df.head())"
   ]
  },
  {
   "cell_type": "markdown",
   "id": "47b8e201",
   "metadata": {
    "papermill": {
     "duration": 0.00933,
     "end_time": "2024-11-22T21:43:46.983904",
     "exception": false,
     "start_time": "2024-11-22T21:43:46.974574",
     "status": "completed"
    },
    "tags": []
   },
   "source": [
    "**Perform Target encoding for country**\n",
    "\n",
    "Note: What is target encoding? \n",
    "\n",
    "[Article on Comparing Performances of Encoding Schemes on Regression with Cross-validation](http://https://www.linkedin.com/pulse/comparing-performances-encoding-schemes-regression-imran-khan-jb3xc/)\n",
    "\n",
    "Also see:\n",
    "[1](https://towardsdatascience.com/benchmarking-categorical-encoders-9c322bd77ee8)\n",
    "[2](https://medium.com/anolytics/all-you-need-to-know-about-encoding-techniques-b3a0af68338b)\n",
    "\n",
    "\n",
    "\n",
    "\n",
    "* Mean encoding involves replacing each category with the mean value of the target variable for that category. This method can be very effective, especially for supervised learning tasks, but it can lead to overfitting if not managed properly\n",
    "* When to use: It is suitable for categorical features exhibiting a **high number of categories**. \n",
    "* Because we wil later use regularization techniques, this will be safe to use.\n",
    "*  Target encoding leverages the relationship between categorical variables and the target variable, making it a powerful encoding technique when this relationship is significant.\n",
    "* One of the significant drawbacks of target encoding is the potential for overfitting, especially when applied to small datasets. It suffers from the problem of target leakage as the target variable is used to directly encode the input feature and the same feature is used to fit a model on the target variable.\n",
    "* -> This is important to note because this type of encoding should only be applied on the training data after the split\n",
    "\n",
    "Correct Approach -> Fit the Encoder Only on Training Data:\n",
    "\n",
    "The encoder learns the target means for each category in the training data, and then  we use the fitted encoder to apply the same encoding to validation and test datasets.\n"
   ]
  },
  {
   "cell_type": "code",
   "execution_count": 14,
   "id": "46c19f6f",
   "metadata": {
    "execution": {
     "iopub.execute_input": "2024-11-22T21:43:47.003323Z",
     "iopub.status.busy": "2024-11-22T21:43:47.002878Z",
     "iopub.status.idle": "2024-11-22T21:43:47.738360Z",
     "shell.execute_reply": "2024-11-22T21:43:47.737234Z"
    },
    "papermill": {
     "duration": 0.747852,
     "end_time": "2024-11-22T21:43:47.740737",
     "exception": false,
     "start_time": "2024-11-22T21:43:46.992885",
     "status": "completed"
    },
    "tags": []
   },
   "outputs": [],
   "source": [
    "from sklearn.model_selection import train_test_split\n",
    "import category_encoders as ce\n",
    "\n",
    "def encode_brand(train_df):\n",
    "\n",
    "    # Initialize the MeanEncoder\n",
    "    mean_encoder = ce.TargetEncoder()\n",
    "    \n",
    "    # Fit the encoder on the training data\n",
    "    mean_encoder.fit(train_df['brand'], train_df['price'])\n",
    "    \n",
    "    # Transform the brand\n",
    "    train_df['brand'] = mean_encoder.transform(train_df[['brand']])['brand'].round(2)\n",
    "    \n",
    "    return train_df, mean_encoder\n",
    "\n"
   ]
  },
  {
   "cell_type": "markdown",
   "id": "cdfa1b8e",
   "metadata": {
    "papermill": {
     "duration": 0.008609,
     "end_time": "2024-11-22T21:43:47.758937",
     "exception": false,
     "start_time": "2024-11-22T21:43:47.750328",
     "status": "completed"
    },
    "tags": []
   },
   "source": []
  },
  {
   "cell_type": "markdown",
   "id": "47b35949",
   "metadata": {
    "papermill": {
     "duration": 0.008789,
     "end_time": "2024-11-22T21:43:47.776708",
     "exception": false,
     "start_time": "2024-11-22T21:43:47.767919",
     "status": "completed"
    },
    "tags": []
   },
   "source": [
    "### Normalize Numeric\n"
   ]
  },
  {
   "cell_type": "markdown",
   "id": "91fff8c0",
   "metadata": {
    "papermill": {
     "duration": 0.008716,
     "end_time": "2024-11-22T21:43:47.794609",
     "exception": false,
     "start_time": "2024-11-22T21:43:47.785893",
     "status": "completed"
    },
    "tags": []
   },
   "source": [
    "### Split Data:\n",
    "\n",
    "A commin split that is used here is 60% for training, 20% for validation, and 20% for testing.\n"
   ]
  },
  {
   "cell_type": "code",
   "execution_count": 15,
   "id": "3814f69d",
   "metadata": {
    "execution": {
     "iopub.execute_input": "2024-11-22T21:43:47.816552Z",
     "iopub.status.busy": "2024-11-22T21:43:47.815710Z",
     "iopub.status.idle": "2024-11-22T21:43:47.867352Z",
     "shell.execute_reply": "2024-11-22T21:43:47.865212Z"
    },
    "papermill": {
     "duration": 0.066195,
     "end_time": "2024-11-22T21:43:47.870090",
     "exception": false,
     "start_time": "2024-11-22T21:43:47.803895",
     "status": "completed"
    },
    "tags": []
   },
   "outputs": [
    {
     "name": "stdout",
     "output_type": "stream",
     "text": [
      "2446\n",
      "816\n",
      "816\n"
     ]
    }
   ],
   "source": [
    "from sklearn.utils import shuffle\n",
    "from sklearn.model_selection import train_test_split\n",
    "\n",
    "# Shuffle the dataset\n",
    "df_shuffled = shuffle(df, random_state=42) # note that 42 is a widely used convention but can be anything -> this is used for consistent reproducability of the data\n",
    "\n",
    "# Split the data into training (60%) and temp (40%)\n",
    "train_data, temp_data = train_test_split(df_shuffled, test_size=0.4, random_state=42)\n",
    "\n",
    "# Split the temp data into validation and testing \n",
    "val_data, test_data = train_test_split(temp_data, test_size=0.5, random_state=42)\n",
    "\n",
    "# Output the sizes of each split to verify\n",
    "print (len(train_data))\n",
    "print (len(val_data))\n",
    "print(len(test_data))\n",
    "\n",
    "# remember to encode and normalize brand here \n",
    "train_data,encoder = encode_brand(train_data)\n",
    "\n",
    "# Use the same encoder to transform validation and test data\n",
    "val_data['brand'] = encoder.transform(val_data[['brand']])['brand'].values\n",
    "test_data['brand'] = encoder.transform(test_data[['brand']])['brand'].values"
   ]
  },
  {
   "cell_type": "code",
   "execution_count": 16,
   "id": "06fc8c95",
   "metadata": {
    "execution": {
     "iopub.execute_input": "2024-11-22T21:43:47.895480Z",
     "iopub.status.busy": "2024-11-22T21:43:47.895052Z",
     "iopub.status.idle": "2024-11-22T21:43:47.923128Z",
     "shell.execute_reply": "2024-11-22T21:43:47.922022Z"
    },
    "papermill": {
     "duration": 0.04371,
     "end_time": "2024-11-22T21:43:47.925727",
     "exception": false,
     "start_time": "2024-11-22T21:43:47.882017",
     "status": "completed"
    },
    "tags": []
   },
   "outputs": [],
   "source": [
    "# Save the cleaned DataFrame to a CSV file\n",
    "train_data.to_csv('/kaggle/working/outputf.csv', index=False)"
   ]
  },
  {
   "cell_type": "markdown",
   "id": "a3c42d22",
   "metadata": {
    "papermill": {
     "duration": 0.011473,
     "end_time": "2024-11-22T21:43:47.949902",
     "exception": false,
     "start_time": "2024-11-22T21:43:47.938429",
     "status": "completed"
    },
    "tags": []
   },
   "source": [
    "**Extra : Visulaizing correlation between features**"
   ]
  },
  {
   "cell_type": "code",
   "execution_count": 17,
   "id": "93c045cd",
   "metadata": {
    "execution": {
     "iopub.execute_input": "2024-11-22T21:43:47.979557Z",
     "iopub.status.busy": "2024-11-22T21:43:47.979054Z",
     "iopub.status.idle": "2024-11-22T21:43:48.454893Z",
     "shell.execute_reply": "2024-11-22T21:43:48.453616Z"
    },
    "papermill": {
     "duration": 0.493606,
     "end_time": "2024-11-22T21:43:48.457399",
     "exception": false,
     "start_time": "2024-11-22T21:43:47.963793",
     "status": "completed"
    },
    "tags": []
   },
   "outputs": [
    {
     "data": {
      "image/png": "[encoded data removed]",
      "text/plain": [
       "<Figure size 700x700 with 2 Axes>"
      ]
     },
     "metadata": {},
     "output_type": "display_data"
    }
   ],
   "source": [
    "\n",
    "f_num = ['price', 'engine_capacity', 'cylinder', 'horse_power', 'top_speed', 'seats']\n",
    "\n",
    "# Filter the dataset to include only the selected numerical columns\n",
    "dataset_corr = df[f_num]\n",
    "\n",
    "# Compute the correlation matrix\n",
    "correlation_matrix = dataset_corr.corr()\n",
    "\n",
    "# Plot the heatmap\n",
    "plt.figure(figsize=(7, 7))\n",
    "sns.heatmap(correlation_matrix, annot=True, cmap='coolwarm', fmt='.2f', square=True)\n",
    "plt.title('Correlation Heatmap')\n",
    "plt.show()"
   ]
  },
  {
   "cell_type": "markdown",
   "id": "adb7ea97",
   "metadata": {
    "papermill": {
     "duration": 0.010107,
     "end_time": "2024-11-22T21:43:48.478808",
     "exception": false,
     "start_time": "2024-11-22T21:43:48.468701",
     "status": "completed"
    },
    "tags": []
   },
   "source": [
    "# 3. Building Regression Models "
   ]
  },
  {
   "cell_type": "markdown",
   "id": "f75b9fcd",
   "metadata": {
    "papermill": {
     "duration": 0.010004,
     "end_time": "2024-11-22T21:43:48.499033",
     "exception": false,
     "start_time": "2024-11-22T21:43:48.489029",
     "status": "completed"
    },
    "tags": []
   },
   "source": [
    "## Linear Models"
   ]
  },
  {
   "cell_type": "markdown",
   "id": "6e023610",
   "metadata": {
    "papermill": {
     "duration": 0.009815,
     "end_time": "2024-11-22T21:43:48.519080",
     "exception": false,
     "start_time": "2024-11-22T21:43:48.509265",
     "status": "completed"
    },
    "tags": []
   },
   "source": []
  },
  {
   "cell_type": "markdown",
   "id": "20aedbc0",
   "metadata": {
    "papermill": {
     "duration": 0.00968,
     "end_time": "2024-11-22T21:43:48.538999",
     "exception": false,
     "start_time": "2024-11-22T21:43:48.529319",
     "status": "completed"
    },
    "tags": []
   },
   "source": [
    "## Noninear Models"
   ]
  },
  {
   "cell_type": "markdown",
   "id": "33d1581a",
   "metadata": {
    "papermill": {
     "duration": 0.011017,
     "end_time": "2024-11-22T21:43:48.560106",
     "exception": false,
     "start_time": "2024-11-22T21:43:48.549089",
     "status": "completed"
    },
    "tags": []
   },
   "source": [
    "# Extra: Exploratory data analysis (EDA) + Interactivity\n",
    "\n",
    "This part is inspired by the work from Federico's notebook: \n",
    "\"Data Cleaning | EDA\" \n",
    "Link: https://www.kaggle.com/code/fede123/data-cleaning-eda\n"
   ]
  }
 ],
 "metadata": {
  "kaggle": {
   "accelerator": "none",
   "dataSources": [
    {
     "datasetId": 5759570,
     "sourceId": 9471001,
     "sourceType": "datasetVersion"
    }
   ],
   "isGpuEnabled": false,
   "isInternetEnabled": true,
   "language": "python",
   "sourceType": "notebook"
  },
  "kernelspec": {
   "display_name": "Python 3",
   "language": "python",
   "name": "python3"
  },
  "language_info": {
   "codemirror_mode": {
    "name": "ipython",
    "version": 3
   },
   "file_extension": ".py",
   "mimetype": "text/x-python",
   "name": "python",
   "nbconvert_exporter": "python",
   "pygments_lexer": "ipython3",
   "version": "3.10.14"
  },
  "papermill": {
   "default_parameters": {},
   "duration": 10.656397,
   "end_time": "2024-11-22T21:43:49.294305",
   "environment_variables": {},
   "exception": null,
   "input_path": "__notebook__.ipynb",
   "output_path": "__notebook__.ipynb",
   "parameters": {},
   "start_time": "2024-11-22T21:43:38.637908",
   "version": "2.6.0"
  }
 },
 "nbformat": 4,
 "nbformat_minor": 5
}
